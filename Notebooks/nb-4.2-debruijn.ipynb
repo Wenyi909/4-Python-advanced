{
 "cells": [
  {
   "cell_type": "markdown",
   "metadata": {},
   "source": [
    "# In class exercise: imports, kmers, and *de_bruijn* graphs"
   ]
  },
  {
   "cell_type": "code",
   "execution_count": 1,
   "metadata": {},
   "outputs": [],
   "source": [
    "import random\n",
    "import toyplot\n",
    "LAYOUT = toyplot.layout.FruchtermanReingold(edges=toyplot.layout.CurvedEdges())\n"
   ]
  },
  {
   "cell_type": "markdown",
   "metadata": {},
   "source": [
    "### kmers and the debruijn graph\n",
    "\n",
    "kmers are substrings of length k of a larger string. The de Bruijn graph is a mathematical construct used in genome assembly and other network based problems. It relies on the conjecture that a sequence can be reconstructed by substrings of that sequence if all substrings are present and they overlap by n-1. One example type of substring would be a genomic short read sequence. However, these may not overlap perfectly by n-1. But, we can use smaller kmers from those reads to get more substrings that may overlap by n-1 and thus be used to reconstruct the sequence. See image for example. \n",
    "\n",
    "\n",
    "\n",
    "![image.png](https://upload.wikimedia.org/wikipedia/commons/thumb/5/53/K-mer-example.png/440px-K-mer-example.png)\n",
    "https://en.wikipedia.org/wiki/K-mer"
   ]
  },
  {
   "cell_type": "markdown",
   "metadata": {},
   "source": [
    "### Genome/contig assembly\n",
    "In this notebook we are going to write functions to assemble a contig from a set of reads broken into kmers. "
   ]
  },
  {
   "cell_type": "markdown",
   "metadata": {},
   "source": [
    "### (1) Write a function to generate a random sequence of dna\n"
   ]
  },
  {
   "cell_type": "code",
   "execution_count": 2,
   "metadata": {},
   "outputs": [],
   "source": [
    "def random_sequence(nbases):\n",
    "    return "
   ]
  },
  {
   "cell_type": "markdown",
   "metadata": {},
   "source": [
    "### (2) Write a function to return all kmers for a string\n",
    "Return the kmers as a count dictionary with the number of times each kmer was observed. "
   ]
  },
  {
   "cell_type": "code",
   "execution_count": 3,
   "metadata": {},
   "outputs": [],
   "source": [
    "def get_kmers(target):\n",
    "    return "
   ]
  },
  {
   "cell_type": "markdown",
   "metadata": {},
   "source": [
    "### (3) Test our function on a random sequence"
   ]
  },
  {
   "cell_type": "code",
   "execution_count": 6,
   "metadata": {
    "collapsed": true
   },
   "outputs": [
    {
     "data": {
      "text/plain": [
       "{'AAG': 1,\n",
       " 'AAT': 1,\n",
       " 'ACC': 2,\n",
       " 'AGA': 1,\n",
       " 'AGC': 1,\n",
       " 'AGT': 2,\n",
       " 'ATA': 3,\n",
       " 'ATG': 1,\n",
       " 'ATT': 1,\n",
       " 'CAG': 1,\n",
       " 'CAT': 1,\n",
       " 'CCA': 1,\n",
       " 'CCT': 3,\n",
       " 'CGC': 1,\n",
       " 'CGT': 1,\n",
       " 'CTA': 1,\n",
       " 'CTC': 1,\n",
       " 'CTT': 1,\n",
       " 'GAA': 2,\n",
       " 'GCA': 1,\n",
       " 'GCC': 1,\n",
       " 'GCG': 1,\n",
       " 'GTG': 1,\n",
       " 'GTT': 2,\n",
       " 'TAC': 2,\n",
       " 'TAG': 2,\n",
       " 'TAT': 4,\n",
       " 'TCC': 1,\n",
       " 'TCG': 1,\n",
       " 'TGA': 1,\n",
       " 'TGC': 1,\n",
       " 'TTA': 3,\n",
       " 'TTC': 1}"
      ]
     },
     "execution_count": 6,
     "metadata": {},
     "output_type": "execute_result"
    }
   ],
   "source": [
    "target = random_sequence(50)\n",
    "kmers = get_kmers(target, 3)\n",
    "kmers"
   ]
  },
  {
   "cell_type": "markdown",
   "metadata": {},
   "source": [
    "### (4) Write a function to generate sequence reads of len N\n",
    "This will take arguments `nreads` and `readlength`. "
   ]
  },
  {
   "cell_type": "code",
   "execution_count": 4,
   "metadata": {},
   "outputs": [],
   "source": [
    "def get_random_reads(nreads, readlength):\n",
    "    return "
   ]
  },
  {
   "cell_type": "markdown",
   "metadata": {},
   "source": [
    "### (5) A function to break reads into kmers"
   ]
  },
  {
   "cell_type": "code",
   "execution_count": 5,
   "metadata": {},
   "outputs": [],
   "source": [
    "def reads_to_kmers(reads, k):\n",
    "    \"stores kmers to dict uses .update() to join together kmer dict keys\"\n",
    "    kmers = {}\n",
    "    #...\n",
    "    return kmers"
   ]
  },
  {
   "cell_type": "markdown",
   "metadata": {},
   "source": [
    "### (6) Test our functions"
   ]
  },
  {
   "cell_type": "code",
   "execution_count": 11,
   "metadata": {},
   "outputs": [],
   "source": [
    "## params \n",
    "tlen = 100\n",
    "nreads = 200\n",
    "rlen = 25\n",
    "k = 8\n",
    "\n",
    "## call funcs\n",
    "random.seed(123)\n",
    "target = random_sequence(tlen)\n",
    "reads = get_random_reads(target, nreads, rlen)\n",
    "kmers = reads_to_kmers(reads, k)"
   ]
  },
  {
   "cell_type": "code",
   "execution_count": 12,
   "metadata": {
    "collapsed": true
   },
   "outputs": [
    {
     "data": {
      "text/plain": [
       "dict_keys(['GTCTCCTT', 'GGCCATAT', 'TTTGACAT', 'ATTTTGAC', 'CTCCTTTA', 'CTAGTCTC', 'ATGAATGG', 'CAGTTGTA', 'TAGGTCGA', 'GACATGCG', 'GTAAACCA', 'ATTGACAG', 'ATGCGGTA', 'GTATTGAC', 'TTTTGACA', 'ACTCAGGG', 'TAACTCAG', 'AGCTAGTC', 'AGGTCGAT', 'AGAGCTAG', 'TAAAGAAT', 'GAGCTAGT', 'TTTAACTC', 'CTCAGGGT', 'AGATGAAT', 'ATATAAGT', 'GCTAGTCT', 'GCGGTATT', 'TCTCCTTT', 'GTTAAAGA', 'ATAAGTAA', 'ATGGACCG', 'AGTAAACC', 'CATATAAG', 'TAGTCTCC', 'AAGTAAAC', 'TCCTTTAA', 'CCAGTTGT', 'AAAGAATA', 'ACCAGTTG', 'GATGAATG', 'AGTTGTAG', 'CAGGGTTA', 'GCCATATA', 'GATTTTGA', 'TCGATTTT', 'TATTGACA', 'TTAACTCA', 'ACATGCGG', 'GTAGGTCG', 'GGTCGATT', 'GACAGAGC', 'CAGAGCTA', 'CATGCGGT', 'TTGACAGA', 'GAATGGAC', 'CGGCCATA', 'TGACATGC', 'AACCAGTT', 'GGGTTAAA', 'AAGAATAT', 'TGACAGAG', 'GGACCGGC', 'TTAAAGAA', 'TCAGGGTT', 'TTGTAGGT', 'AATGGACC', 'AGAATATA', 'GACCGGCC', 'AGGGTTAA', 'GGTATTGA', 'ACAGAGCT', 'GGTTAAAG', 'TGCGGTAT', 'TGGACCGG', 'TATAAGTA', 'CCATATAA', 'TTGACATG', 'GTCGATTT', 'AGTCTCCT', 'CTTTAACT', 'TAAACCAG', 'TGAATGGA', 'CGATTTTG', 'AACTCAGG', 'ACCGGCCA', 'CGGTATTG', 'AAACCAGT', 'CCTTTAAC', 'TAAGTAAA', 'CCGGCCAT', 'GTTGTAGG', 'TGTAGGTC'])"
      ]
     },
     "execution_count": 12,
     "metadata": {},
     "output_type": "execute_result"
    }
   ],
   "source": [
    "kmers.keys()"
   ]
  },
  {
   "cell_type": "markdown",
   "metadata": {},
   "source": [
    "### (7) Write a function to return a debruijn graph \n",
    "This should return a list of tuples where each tuple is a (kmer, kmer) pair where the two kmers overlap identically over n-1 of their length. This is the definition of a [deBruijn graph](https://en.wikipedia.org/wiki/De_Bruijn_graph). Use two nested for loops to compare all kmers to each other. Use slicing to compare the `[1:]` index to the `[:-1]` index of the other to test for `n-1` overlap.  "
   ]
  },
  {
   "cell_type": "code",
   "execution_count": 6,
   "metadata": {},
   "outputs": [],
   "source": [
    "def get_debruijn_edges(kmers):\n",
    "    edges = set()\n",
    "    # ...\n",
    "    return edges"
   ]
  },
  {
   "cell_type": "code",
   "execution_count": 15,
   "metadata": {
    "collapsed": true
   },
   "outputs": [
    {
     "data": {
      "text/plain": [
       "{('AAACCAG', 'AACCAGT'),\n",
       " ('AAAGAAT', 'AAGAATA'),\n",
       " ('AACCAGT', 'ACCAGTT'),\n",
       " ('AACTCAG', 'ACTCAGG'),\n",
       " ('AAGAATA', 'AGAATAT'),\n",
       " ('AAGTAAA', 'AGTAAAC'),\n",
       " ('AATGGAC', 'ATGGACC'),\n",
       " ('ACAGAGC', 'CAGAGCT'),\n",
       " ('ACATGCG', 'CATGCGG'),\n",
       " ('ACCAGTT', 'CCAGTTG'),\n",
       " ('ACCGGCC', 'CCGGCCA'),\n",
       " ('ACTCAGG', 'CTCAGGG'),\n",
       " ('AGAATAT', 'GAATATA'),\n",
       " ('AGAGCTA', 'GAGCTAG'),\n",
       " ('AGCTAGT', 'GCTAGTC'),\n",
       " ('AGGGTTA', 'GGGTTAA'),\n",
       " ('AGGTCGA', 'GGTCGAT'),\n",
       " ('AGTAAAC', 'GTAAACC'),\n",
       " ('AGTCTCC', 'GTCTCCT'),\n",
       " ('AGTTGTA', 'GTTGTAG'),\n",
       " ('ATAAGTA', 'TAAGTAA'),\n",
       " ('ATATAAG', 'TATAAGT'),\n",
       " ('ATGAATG', 'TGAATGG'),\n",
       " ('ATGCGGT', 'TGCGGTA'),\n",
       " ('ATGGACC', 'TGGACCG'),\n",
       " ('ATTGACA', 'TTGACAG'),\n",
       " ('ATTTTGA', 'TTTTGAC'),\n",
       " ('CAGAGCT', 'AGAGCTA'),\n",
       " ('CAGGGTT', 'AGGGTTA'),\n",
       " ('CAGTTGT', 'AGTTGTA'),\n",
       " ('CATATAA', 'ATATAAG'),\n",
       " ('CATGCGG', 'ATGCGGT'),\n",
       " ('CCAGTTG', 'CAGTTGT'),\n",
       " ('CCATATA', 'CATATAA'),\n",
       " ('CCGGCCA', 'CGGCCAT'),\n",
       " ('CCTTTAA', 'CTTTAAC'),\n",
       " ('CGATTTT', 'GATTTTG'),\n",
       " ('CGGCCAT', 'GGCCATA'),\n",
       " ('CGGTATT', 'GGTATTG'),\n",
       " ('CTAGTCT', 'TAGTCTC'),\n",
       " ('CTCAGGG', 'TCAGGGT'),\n",
       " ('CTCCTTT', 'TCCTTTA'),\n",
       " ('CTTTAAC', 'TTTAACT'),\n",
       " ('GAATGGA', 'AATGGAC'),\n",
       " ('GACAGAG', 'ACAGAGC'),\n",
       " ('GACATGC', 'ACATGCG'),\n",
       " ('GACCGGC', 'ACCGGCC'),\n",
       " ('GAGCTAG', 'AGCTAGT'),\n",
       " ('GATGAAT', 'ATGAATG'),\n",
       " ('GATTTTG', 'ATTTTGA'),\n",
       " ('GCCATAT', 'CCATATA'),\n",
       " ('GCGGTAT', 'CGGTATT'),\n",
       " ('GCTAGTC', 'CTAGTCT'),\n",
       " ('GGACCGG', 'GACCGGC'),\n",
       " ('GGCCATA', 'GCCATAT'),\n",
       " ('GGGTTAA', 'GGTTAAA'),\n",
       " ('GGTATTG', 'GTATTGA'),\n",
       " ('GGTCGAT', 'GTCGATT'),\n",
       " ('GGTTAAA', 'GTTAAAG'),\n",
       " ('GTAAACC', 'TAAACCA'),\n",
       " ('GTAGGTC', 'TAGGTCG'),\n",
       " ('GTATTGA', 'TATTGAC'),\n",
       " ('GTCGATT', 'TCGATTT'),\n",
       " ('GTCTCCT', 'TCTCCTT'),\n",
       " ('GTTAAAG', 'TTAAAGA'),\n",
       " ('GTTGTAG', 'TTGTAGG'),\n",
       " ('TAAACCA', 'AAACCAG'),\n",
       " ('TAAAGAA', 'AAAGAAT'),\n",
       " ('TAACTCA', 'AACTCAG'),\n",
       " ('TAAGTAA', 'AAGTAAA'),\n",
       " ('TAGGTCG', 'AGGTCGA'),\n",
       " ('TAGTCTC', 'AGTCTCC'),\n",
       " ('TATAAGT', 'ATAAGTA'),\n",
       " ('TATTGAC', 'ATTGACA'),\n",
       " ('TCAGGGT', 'CAGGGTT'),\n",
       " ('TCCTTTA', 'CCTTTAA'),\n",
       " ('TCGATTT', 'CGATTTT'),\n",
       " ('TCTCCTT', 'CTCCTTT'),\n",
       " ('TGAATGG', 'GAATGGA'),\n",
       " ('TGACAGA', 'GACAGAG'),\n",
       " ('TGACATG', 'GACATGC'),\n",
       " ('TGCGGTA', 'GCGGTAT'),\n",
       " ('TGGACCG', 'GGACCGG'),\n",
       " ('TGTAGGT', 'GTAGGTC'),\n",
       " ('TTAAAGA', 'TAAAGAA'),\n",
       " ('TTAACTC', 'TAACTCA'),\n",
       " ('TTGACAG', 'TGACAGA'),\n",
       " ('TTGACAT', 'TGACATG'),\n",
       " ('TTGTAGG', 'TGTAGGT'),\n",
       " ('TTTAACT', 'TTAACTC'),\n",
       " ('TTTGACA', 'TTGACAT'),\n",
       " ('TTTTGAC', 'TTTGACA')}"
      ]
     },
     "execution_count": 15,
     "metadata": {},
     "output_type": "execute_result"
    }
   ],
   "source": [
    "edges = get_debruijn_edges(kmers)\n",
    "edges"
   ]
  },
  {
   "cell_type": "markdown",
   "metadata": {},
   "source": [
    "### (8) Plot the deBruijn graph\n",
    "Use the toyplot function below to plot the deBruijn graph generated with the following code. "
   ]
  },
  {
   "cell_type": "code",
   "execution_count": 7,
   "metadata": {},
   "outputs": [],
   "source": [
    "def plot_debruijn_graph(edges):\n",
    "    \"returns a toyplot graph of edges\"\n",
    "    graph = toyplot.graph(\n",
    "        [i[0] for i in edges],\n",
    "        [i[1] for i in edges],\n",
    "        tmarker=\">\", \n",
    "        width=600,\n",
    "        vlstyle={\"font-size\": \"8px\"},\n",
    "        layout=LAYOUT)\n",
    "    return graph"
   ]
  },
  {
   "cell_type": "code",
   "execution_count": 17,
   "metadata": {
    "collapsed": true
   },
   "outputs": [
    {
     "data": {
      "text/html": [
       "<div class=\"toyplot\" id=\"t3c5a9703efc2420b9d93a591d3a7e227\" style=\"text-align:center\"><svg class=\"toyplot-canvas-Canvas\" height=\"600.0px\" id=\"t49b7adfc5b9a4728afbab4f69229f93d\" preserveAspectRatio=\"xMidYMid meet\" style=\"background-color:transparent;fill:rgb(16.1%,15.3%,14.1%);fill-opacity:1.0;font-family:Helvetica;font-size:12px;opacity:1.0;stroke:rgb(16.1%,15.3%,14.1%);stroke-opacity:1.0;stroke-width:1.0\" viewBox=\"0 0 600.0 600.0\" width=\"600.0px\" xmlns=\"http://www.w3.org/2000/svg\" xmlns:toyplot=\"http://www.sandia.gov/toyplot\" xmlns:xlink=\"http://www.w3.org/1999/xlink\"><g class=\"toyplot-coordinates-Cartesian\" id=\"t5a183edd46bc4232bc29e94052a8c953\"><clipPath id=\"te555ee3ca62a473b92824c6811d17e40\"><rect height=\"540.0\" width=\"540.0\" x=\"30.0\" y=\"30.0\"></rect></clipPath><g clip-path=\"url(#te555ee3ca62a473b92824c6811d17e40)\"><g class=\"toyplot-mark-Graph\" id=\"t9d6e10415d3a4583b53a071354d8191a\"><g class=\"toyplot-Edges\"><path d=\"M 128.593196067 250.21774427 Q 116.924685071 237.476675033 114.196516755 220.416602001\" style=\"fill:none;stroke:rgb(40%,76.1%,64.7%);stroke-opacity:1.0;stroke-width:1.0\"></path><path d=\"M 140.031507219 222.83454146 Q 129.971904055 226.993469908 119.284201351 224.928206595\" style=\"fill:none;stroke:rgb(40%,76.1%,64.7%);stroke-opacity:1.0;stroke-width:1.0\"></path><path d=\"M 104.393111215 353.04663742 Q 110.210226753 344.213973337 119.928734634 340.041996279\" style=\"fill:none;stroke:rgb(40%,76.1%,64.7%);stroke-opacity:1.0;stroke-width:1.0\"></path><path d=\"M 228.498049059 408.529642144 Q 232.619684461 394.074661679 244.017552806 384.275532337\" style=\"fill:none;stroke:rgb(40%,76.1%,64.7%);stroke-opacity:1.0;stroke-width:1.0\"></path><path d=\"M 300.38970765 209.064175781 Q 302.406926565 194.62141212 312.041171894 183.674087733\" style=\"fill:none;stroke:rgb(40%,76.1%,64.7%);stroke-opacity:1.0;stroke-width:1.0\"></path><path d=\"M 73.8956898542 265.059005896 Q 84.5501550686 278.047875742 86.2953306993 294.756637842\" style=\"fill:none;stroke:rgb(40%,76.1%,64.7%);stroke-opacity:1.0;stroke-width:1.0\"></path><path d=\"M 145.118476336 286.541389743 Q 132.735150384 272.344016688 130.211845078 253.674654257\" style=\"fill:none;stroke:rgb(40%,76.1%,64.7%);stroke-opacity:1.0;stroke-width:1.0\"></path><path d=\"M 413.834378167 315.73340821 Q 405.268466322 322.202663171 394.556050951 322.888419967\" style=\"fill:none;stroke:rgb(40%,76.1%,64.7%);stroke-opacity:1.0;stroke-width:1.0\"></path><path d=\"M 451.424387736 460.791687647 Q 450.443949067 452.24280958 454.331222142 444.565981835\" style=\"fill:none;stroke:rgb(40%,76.1%,64.7%);stroke-opacity:1.0;stroke-width:1.0\"></path><path d=\"M 144.155311658 319.493267976 Q 153.203027885 308.2862602 166.925620943 303.91034521\" style=\"fill:none;stroke:rgb(40%,76.1%,64.7%);stroke-opacity:1.0;stroke-width:1.0\"></path><path d=\"M 186.682513686 360.238797097 Q 171.695478002 347.129305895 166.39959933 327.934940387\" style=\"fill:none;stroke:rgb(40%,76.1%,64.7%);stroke-opacity:1.0;stroke-width:1.0\"></path><path d=\"M 279.674978077 276.597783855 Q 279.314140364 259.550107716 288.396932441 245.119017886\" style=\"fill:none;stroke:rgb(40%,76.1%,64.7%);stroke-opacity:1.0;stroke-width:1.0\"></path><path d=\"M 57.4560490489 274.144962147 Q 57.1966552155 284.751911342 51.1414094311 293.464468651\" style=\"fill:none;stroke:rgb(40%,76.1%,64.7%);stroke-opacity:1.0;stroke-width:1.0\"></path><path d=\"M 51.4729679129 296.459689396 Q 59.3683565064 303.711544824 61.9680724356 314.111931609\" style=\"fill:none;stroke:rgb(40%,76.1%,64.7%);stroke-opacity:1.0;stroke-width:1.0\"></path><path d=\"M 66.391515188 205.44501453 Q 70.1114519838 217.042763 66.8330055639 228.772958582\" style=\"fill:none;stroke:rgb(40%,76.1%,64.7%);stroke-opacity:1.0;stroke-width:1.0\"></path><path d=\"M 257.851374772 283.548645326 Q 271.341149686 283.130969212 282.833168805 290.207831309\" style=\"fill:none;stroke:rgb(40%,76.1%,64.7%);stroke-opacity:1.0;stroke-width:1.0\"></path><path d=\"M 374.601079392 138.760323798 Q 384.6645105 138.730990725 393.082237245 144.246005009\" style=\"fill:none;stroke:rgb(40%,76.1%,64.7%);stroke-opacity:1.0;stroke-width:1.0\"></path><path d=\"M 529.522716266 374.710329038 Q 528.358012614 382.956870086 522.846264953 389.20047574\" style=\"fill:none;stroke:rgb(40%,76.1%,64.7%);stroke-opacity:1.0;stroke-width:1.0\"></path><path d=\"M 104.401641 332.279827007 Q 117.719348203 345.279060274 121.682259758 363.462479168\" style=\"fill:none;stroke:rgb(40%,76.1%,64.7%);stroke-opacity:1.0;stroke-width:1.0\"></path><path d=\"M 465.42523945 339.284533137 Q 478.976414284 338.102107761 490.940656784 344.574307585\" style=\"fill:none;stroke:rgb(40%,76.1%,64.7%);stroke-opacity:1.0;stroke-width:1.0\"></path><path d=\"M 270.137329367 313.882269749 Q 269.376891606 295.814537819 278.687571235 280.311878449\" style=\"fill:none;stroke:rgb(40%,76.1%,64.7%);stroke-opacity:1.0;stroke-width:1.0\"></path><path d=\"M 67.2219439626 232.471188192 Q 74.3829984461 246.156019137 72.8285590084 261.522834596\" style=\"fill:none;stroke:rgb(40%,76.1%,64.7%);stroke-opacity:1.0;stroke-width:1.0\"></path><path d=\"M 94.702042751 195.096090488 Q 85.5395067465 194.100093552 78.4383052759 188.224975375\" style=\"fill:none;stroke:rgb(40%,76.1%,64.7%);stroke-opacity:1.0;stroke-width:1.0\"></path><path d=\"M 298.216735126 430.753142678 Q 285.649796014 433.985519115 273.378841469 429.766527455\" style=\"fill:none;stroke:rgb(40%,76.1%,64.7%);stroke-opacity:1.0;stroke-width:1.0\"></path><path d=\"M 161.833210038 234.185590568 Q 150.944699694 231.640730314 143.255132482 223.522446793\" style=\"fill:none;stroke:rgb(40%,76.1%,64.7%);stroke-opacity:1.0;stroke-width:1.0\"></path><path d=\"M 186.045027427 431.198088871 Q 195.362370505 427.155733938 205.366219276 428.90973656\" style=\"fill:none;stroke:rgb(40%,76.1%,64.7%);stroke-opacity:1.0;stroke-width:1.0\"></path><path d=\"M 351.747700847 141.595413313 Q 360.719671953 137.221336942 370.617781613 138.508284801\" style=\"fill:none;stroke:rgb(40%,76.1%,64.7%);stroke-opacity:1.0;stroke-width:1.0\"></path><path d=\"M 144.018032113 395.281217772 Q 157.100695481 401.683390716 164.498787132 414.229790166\" style=\"fill:none;stroke:rgb(40%,76.1%,64.7%);stroke-opacity:1.0;stroke-width:1.0\"></path><path d=\"M 494.685969227 345.760375125 Q 506.27856599 347.128810032 515.203522054 354.652510788\" style=\"fill:none;stroke:rgb(40%,76.1%,64.7%);stroke-opacity:1.0;stroke-width:1.0\"></path><path d=\"M 188.478412202 283.101805411 Q 180.391752318 272.461977036 179.49729042 259.127812126\" style=\"fill:none;stroke:rgb(40%,76.1%,64.7%);stroke-opacity:1.0;stroke-width:1.0\"></path><path d=\"M 485.592178258 423.590250942 Q 477.440907135 431.331282794 466.37459903 433.307040878\" style=\"fill:none;stroke:rgb(40%,76.1%,64.7%);stroke-opacity:1.0;stroke-width:1.0\"></path><path d=\"M 534.491101607 176.508273888 Q 540.053331009 170.395258291 548.06198983 168.35350916\" style=\"fill:none;stroke:rgb(40%,76.1%,64.7%);stroke-opacity:1.0;stroke-width:1.0\"></path><path d=\"M 344.273700236 398.741478417 Q 338.46163622 410.592758114 327.085722392 417.287644459\" style=\"fill:none;stroke:rgb(40%,76.1%,64.7%);stroke-opacity:1.0;stroke-width:1.0\"></path><path d=\"M 177.800074907 255.88493164 Q 168.198348071 248.223935836 164.399289412 236.542704383\" style=\"fill:none;stroke:rgb(40%,76.1%,64.7%);stroke-opacity:1.0;stroke-width:1.0\"></path><path d=\"M 76.672994895 254.717927555 Q 70.4598214475 265.587649715 59.2893433435 271.24227641\" style=\"fill:none;stroke:rgb(40%,76.1%,64.7%);stroke-opacity:1.0;stroke-width:1.0\"></path><path d=\"M 87.5492893503 330.558470368 Q 96.8806108347 334.490285964 102.506677984 342.90931815\" style=\"fill:none;stroke:rgb(40%,76.1%,64.7%);stroke-opacity:1.0;stroke-width:1.0\"></path><path d=\"M 464.211738722 208.7551095 Q 474.194402139 201.432161144 486.559533078 200.813551095\" style=\"fill:none;stroke:rgb(40%,76.1%,64.7%);stroke-opacity:1.0;stroke-width:1.0\"></path><path d=\"M 490.022117458 199.352173667 Q 498.809384537 191.186502146 510.640408349 189.206317893\" style=\"fill:none;stroke:rgb(40%,76.1%,64.7%);stroke-opacity:1.0;stroke-width:1.0\"></path><path d=\"M 454.29297618 415.832769527 Q 450.449566287 404.94046893 453.236609732 393.731258399\" style=\"fill:none;stroke:rgb(40%,76.1%,64.7%);stroke-opacity:1.0;stroke-width:1.0\"></path><path d=\"M 229.082648087 281.672469496 Q 241.71552035 278.572977741 253.968372471 282.939203301\" style=\"fill:none;stroke:rgb(40%,76.1%,64.7%);stroke-opacity:1.0;stroke-width:1.0\"></path><path d=\"M 434.078585155 335.475389459 Q 448.316067776 332.943475115 461.596120795 338.666821464\" style=\"fill:none;stroke:rgb(40%,76.1%,64.7%);stroke-opacity:1.0;stroke-width:1.0\"></path><path d=\"M 520.626921793 392.488030265 Q 516.235749132 401.254313271 507.744247366 406.155793948\" style=\"fill:none;stroke:rgb(40%,76.1%,64.7%);stroke-opacity:1.0;stroke-width:1.0\"></path><path d=\"M 323.877360115 419.642062015 Q 314.550809992 428.059744098 302.130837641 429.953469438\" style=\"fill:none;stroke:rgb(40%,76.1%,64.7%);stroke-opacity:1.0;stroke-width:1.0\"></path><path d=\"M 76.3084082831 188.861390484 Q 73.8275801808 196.912820134 67.3244504902 202.269062445\" style=\"fill:none;stroke:rgb(40%,76.1%,64.7%);stroke-opacity:1.0;stroke-width:1.0\"></path><path d=\"M 104.329505407 346.441323008 Q 107.103130832 353.726687239 105.408434134 361.335730089\" style=\"fill:none;stroke:rgb(40%,76.1%,64.7%);stroke-opacity:1.0;stroke-width:1.0\"></path><path d=\"M 463.020281241 435.100961049 Q 455.501057327 442.929274231 444.914376894 445.325816111\" style=\"fill:none;stroke:rgb(40%,76.1%,64.7%);stroke-opacity:1.0;stroke-width:1.0\"></path><path d=\"M 514.036111009 187.470936482 Q 521.245744579 180.352042572 531.183453657 178.377351456\" style=\"fill:none;stroke:rgb(40%,76.1%,64.7%);stroke-opacity:1.0;stroke-width:1.0\"></path><path d=\"M 200.077057757 287.93856839 Q 211.724052415 281.223880125 225.143848836 282.029229183\" style=\"fill:none;stroke:rgb(40%,76.1%,64.7%);stroke-opacity:1.0;stroke-width:1.0\"></path><path d=\"M 194.165013619 306.979936706 Q 188.815353024 297.52653964 189.552827426 286.689486716\" style=\"fill:none;stroke:rgb(40%,76.1%,64.7%);stroke-opacity:1.0;stroke-width:1.0\"></path><path d=\"M 313.98204571 180.271088776 Q 318.038484575 167.820913526 328.27836028 159.659632646\" style=\"fill:none;stroke:rgb(40%,76.1%,64.7%);stroke-opacity:1.0;stroke-width:1.0\"></path><path d=\"M 454.638948287 440.872490815 Q 451.337164015 430.291684344 454.404925662 419.640671085\" style=\"fill:none;stroke:rgb(40%,76.1%,64.7%);stroke-opacity:1.0;stroke-width:1.0\"></path><path d=\"M 197.365478044 328.636381721 Q 193.415515868 320.04467903 194.847218652 310.697498521\" style=\"fill:none;stroke:rgb(40%,76.1%,64.7%);stroke-opacity:1.0;stroke-width:1.0\"></path><path d=\"M 115.844114493 225.897900804 Q 107.876785381 233.178461285 97.2175140222 234.871041625\" style=\"fill:none;stroke:rgb(40%,76.1%,64.7%);stroke-opacity:1.0;stroke-width:1.0\"></path><path d=\"M 104.041088959 361.518620967 Q 102.847711432 359.254504149 103.097708259 356.707373121\" style=\"fill:none;stroke:rgb(40%,76.1%,64.7%);stroke-opacity:1.0;stroke-width:1.0\"></path><path d=\"M 122.842884735 337.567377992 Q 129.602222797 326.981377263 141.07249626 321.864259991\" style=\"fill:none;stroke:rgb(40%,76.1%,64.7%);stroke-opacity:1.0;stroke-width:1.0\"></path><path d=\"M 427.55725967 183.31763982 Q 437.420504431 186.16447044 444.087893753 193.970491285\" style=\"fill:none;stroke:rgb(40%,76.1%,64.7%);stroke-opacity:1.0;stroke-width:1.0\"></path><path d=\"M 123.672416941 366.662823749 Q 136.512697332 376.892341068 141.601637484 392.500624551\" style=\"fill:none;stroke:rgb(40%,76.1%,64.7%);stroke-opacity:1.0;stroke-width:1.0\"></path><path d=\"M 94.3050375588 236.951499464 Q 89.1234137446 246.719645528 79.4205097916 252.022433261\" style=\"fill:none;stroke:rgb(40%,76.1%,64.7%);stroke-opacity:1.0;stroke-width:1.0\"></path><path d=\"M 396.591273144 146.134958641 Q 406.213390953 150.290186456 411.959253812 159.055808472\" style=\"fill:none;stroke:rgb(40%,76.1%,64.7%);stroke-opacity:1.0;stroke-width:1.0\"></path><path d=\"M 170.302022493 301.947605196 Q 181.432948063 291.693109637 196.37041559 289.259132008\" style=\"fill:none;stroke:rgb(40%,76.1%,64.7%);stroke-opacity:1.0;stroke-width:1.0\"></path><path d=\"M 64.3948433181 316.531339676 Q 76.1390950253 319.429085432 84.3488396123 328.313030077\" style=\"fill:none;stroke:rgb(40%,76.1%,64.7%);stroke-opacity:1.0;stroke-width:1.0\"></path><path d=\"M 269.513479069 428.794991499 Q 255.092671281 426.448108726 244.34514337 416.550725243\" style=\"fill:none;stroke:rgb(40%,76.1%,64.7%);stroke-opacity:1.0;stroke-width:1.0\"></path><path d=\"M 433.926703742 320.53231939 Q 424.780007657 320.597511455 417.107889605 315.617059278\" style=\"fill:none;stroke:rgb(40%,76.1%,64.7%);stroke-opacity:1.0;stroke-width:1.0\"></path><path d=\"M 212.705813086 390.309799305 Q 196.823109599 380.394420508 189.021244557 363.373671152\" style=\"fill:none;stroke:rgb(40%,76.1%,64.7%);stroke-opacity:1.0;stroke-width:1.0\"></path><path d=\"M 518.362927415 357.100143264 Q 525.785802877 362.375320208 529.079115265 370.865353507\" style=\"fill:none;stroke:rgb(40%,76.1%,64.7%);stroke-opacity:1.0;stroke-width:1.0\"></path><path d=\"M 112.276733458 217.246999906 Q 101.816093717 209.455514465 97.3717901401 197.192546028\" style=\"fill:none;stroke:rgb(40%,76.1%,64.7%);stroke-opacity:1.0;stroke-width:1.0\"></path><path d=\"M 286.535333466 291.314197999 Q 299.873602143 291.698837091 310.797493007 299.362124046\" style=\"fill:none;stroke:rgb(40%,76.1%,64.7%);stroke-opacity:1.0;stroke-width:1.0\"></path><path d=\"M 330.986481632 156.772662305 Q 337.504985895 147.42633798 348.091805597 143.211610844\" style=\"fill:none;stroke:rgb(40%,76.1%,64.7%);stroke-opacity:1.0;stroke-width:1.0\"></path><path d=\"M 199.104662681 345.652092236 Q 196.474265986 339.227488588 197.8147258 332.415903875\" style=\"fill:none;stroke:rgb(40%,76.1%,64.7%);stroke-opacity:1.0;stroke-width:1.0\"></path><path d=\"M 449.441648628 363.787844502 Q 443.615602532 353.57969781 444.370819108 341.850302261\" style=\"fill:none;stroke:rgb(40%,76.1%,64.7%);stroke-opacity:1.0;stroke-width:1.0\"></path><path d=\"M 208.364206357 427.539575427 Q 214.822579522 416.762038467 226.147021501 411.31934605\" style=\"fill:none;stroke:rgb(40%,76.1%,64.7%);stroke-opacity:1.0;stroke-width:1.0\"></path><path d=\"M 314.427897888 300.676605079 Q 327.71266158 301.782325294 338.194957755 310.018163469\" style=\"fill:none;stroke:rgb(40%,76.1%,64.7%);stroke-opacity:1.0;stroke-width:1.0\"></path><path d=\"M 87.8530231751 298.221517408 Q 99.8573079648 311.344224867 102.655725105 328.907742905\" style=\"fill:none;stroke:rgb(40%,76.1%,64.7%);stroke-opacity:1.0;stroke-width:1.0\"></path><path d=\"M 245.767549069 380.985354783 Q 247.663855921 364.848796182 258.129520505 352.420829011\" style=\"fill:none;stroke:rgb(40%,76.1%,64.7%);stroke-opacity:1.0;stroke-width:1.0\"></path><path d=\"M 289.514889882 241.427062149 Q 289.930448141 225.638041761 298.968585983 212.685130204\" style=\"fill:none;stroke:rgb(40%,76.1%,64.7%);stroke-opacity:1.0;stroke-width:1.0\"></path><path d=\"M 374.394237448 346.595422936 Q 371.704854838 360.007900444 362.076575314 369.725079311\" style=\"fill:none;stroke:rgb(40%,76.1%,64.7%);stroke-opacity:1.0;stroke-width:1.0\"></path><path d=\"M 164.483082441 324.563735818 Q 150.456632982 309.942976758 146.794602183 290.015673621\" style=\"fill:none;stroke:rgb(40%,76.1%,64.7%);stroke-opacity:1.0;stroke-width:1.0\"></path><path d=\"M 391.787522872 324.860929475 Q 386.916527115 336.491226864 376.447917415 343.519642616\" style=\"fill:none;stroke:rgb(40%,76.1%,64.7%);stroke-opacity:1.0;stroke-width:1.0\"></path><path d=\"M 443.197537121 338.336098842 Q 437.312534123 331.472151023 436.177686383 322.502247982\" style=\"fill:none;stroke:rgb(40%,76.1%,64.7%);stroke-opacity:1.0;stroke-width:1.0\"></path><path d=\"M 259.433503158 348.891068808 Q 259.568035949 331.765208092 269.107431609 317.541525912\" style=\"fill:none;stroke:rgb(40%,76.1%,64.7%);stroke-opacity:1.0;stroke-width:1.0\"></path><path d=\"M 414.504568647 162.107156186 Q 422.65087503 169.858748072 425.184988495 180.814465912\" style=\"fill:none;stroke:rgb(40%,76.1%,64.7%);stroke-opacity:1.0;stroke-width:1.0\"></path><path d=\"M 341.764004833 311.373861349 Q 355.602754337 312.206228444 366.698022034 320.5188007\" style=\"fill:none;stroke:rgb(40%,76.1%,64.7%);stroke-opacity:1.0;stroke-width:1.0\"></path><path d=\"M 504.868964838 408.796736961 Q 498.785863811 417.529767531 488.900138786 421.472150285\" style=\"fill:none;stroke:rgb(40%,76.1%,64.7%);stroke-opacity:1.0;stroke-width:1.0\"></path><path d=\"M 402.352114906 330.340770348 Q 417.023371369 328.44985229 430.312723861 334.947116919\" style=\"fill:none;stroke:rgb(40%,76.1%,64.7%);stroke-opacity:1.0;stroke-width:1.0\"></path><path d=\"M 167.342709875 416.763876086 Q 177.26868424 421.169003712 183.130665981 430.310518169\" style=\"fill:none;stroke:rgb(40%,76.1%,64.7%);stroke-opacity:1.0;stroke-width:1.0\"></path><path d=\"M 241.036022454 414.40718968 Q 225.064101147 407.55315045 215.502610458 393.039087621\" style=\"fill:none;stroke:rgb(40%,76.1%,64.7%);stroke-opacity:1.0;stroke-width:1.0\"></path><path d=\"M 439.645564809 461.964223003 Q 444.727258866 460.549605158 449.74846281 462.165856714\" style=\"fill:none;stroke:rgb(40%,76.1%,64.7%);stroke-opacity:1.0;stroke-width:1.0\"></path><path d=\"M 442.939158872 447.767238907 Q 442.851257867 454.920720607 438.840176276 460.844507529\" style=\"fill:none;stroke:rgb(40%,76.1%,64.7%);stroke-opacity:1.0;stroke-width:1.0\"></path><path d=\"M 370.298179772 321.675235271 Q 385.665346479 321.346721277 398.675649323 329.531448147\" style=\"fill:none;stroke:rgb(40%,76.1%,64.7%);stroke-opacity:1.0;stroke-width:1.0\"></path><path d=\"M 452.911122627 389.960866787 Q 448.136275095 379.150533373 450.10057674 367.497036194\" style=\"fill:none;stroke:rgb(40%,76.1%,64.7%);stroke-opacity:1.0;stroke-width:1.0\"></path><path d=\"M 447.223611122 196.282629229 Q 456.159995274 200.132831542 461.501268843 208.266331172\" style=\"fill:none;stroke:rgb(40%,76.1%,64.7%);stroke-opacity:1.0;stroke-width:1.0\"></path><path d=\"M 360.174171651 373.083628123 Q 356.781607182 386.372966322 346.634050682 395.60026823\" style=\"fill:none;stroke:rgb(40%,76.1%,64.7%);stroke-opacity:1.0;stroke-width:1.0\"></path><g class=\"toyplot-HeadMarkers\"></g><g class=\"toyplot-MiddleMarkers\"></g><g class=\"toyplot-TailMarkers\"><g style=\"fill:rgb(40%,76.1%,64.7%);fill-opacity:1.0;stroke:rgb(40%,76.1%,64.7%);stroke-opacity:1.0;stroke-width:1.0\" transform=\"translate(114.1965167548785, 220.41660200103559) rotate(-99.085550341410809) translate(-5.0, 0)\"><polygon points=\"-5.0,5.0 0,-5.0 5.0,5.0\" transform=\"rotate(90)\"></polygon></g><g style=\"fill:rgb(40%,76.1%,64.7%);fill-opacity:1.0;stroke:rgb(40%,76.1%,64.7%);stroke-opacity:1.0;stroke-width:1.0\" transform=\"translate(119.28420135127071, 224.92820659543469) rotate(-169.06311615900182) translate(-5.0, 0)\"><polygon points=\"-5.0,5.0 0,-5.0 5.0,5.0\" transform=\"rotate(90)\"></polygon></g><g style=\"fill:rgb(40%,76.1%,64.7%);fill-opacity:1.0;stroke:rgb(40%,76.1%,64.7%);stroke-opacity:1.0;stroke-width:1.0\" transform=\"translate(119.9287346339315, 340.04199627885288) rotate(-23.232959775556527) translate(-5.0, 0)\"><polygon points=\"-5.0,5.0 0,-5.0 5.0,5.0\" transform=\"rotate(90)\"></polygon></g><g style=\"fill:rgb(40%,76.1%,64.7%);fill-opacity:1.0;stroke:rgb(40%,76.1%,64.7%);stroke-opacity:1.0;stroke-width:1.0\" transform=\"translate(244.01755280565598, 384.27553233723665) rotate(-40.686752672442623) translate(-5.0, 0)\"><polygon points=\"-5.0,5.0 0,-5.0 5.0,5.0\" transform=\"rotate(90)\"></polygon></g><g style=\"fill:rgb(40%,76.1%,64.7%);fill-opacity:1.0;stroke:rgb(40%,76.1%,64.7%);stroke-opacity:1.0;stroke-width:1.0\" transform=\"translate(312.04117189420276, 183.6740877329691) rotate(-48.650453456003909) translate(-5.0, 0)\"><polygon points=\"-5.0,5.0 0,-5.0 5.0,5.0\" transform=\"rotate(90)\"></polygon></g><g style=\"fill:rgb(40%,76.1%,64.7%);fill-opacity:1.0;stroke:rgb(40%,76.1%,64.7%);stroke-opacity:1.0;stroke-width:1.0\" transform=\"translate(86.295330699324069, 294.75663784182819) rotate(84.037262976321571) translate(-5.0, 0)\"><polygon points=\"-5.0,5.0 0,-5.0 5.0,5.0\" transform=\"rotate(90)\"></polygon></g><g style=\"fill:rgb(40%,76.1%,64.7%);fill-opacity:1.0;stroke:rgb(40%,76.1%,64.7%);stroke-opacity:1.0;stroke-width:1.0\" transform=\"translate(130.21184507827513, 253.67465425658489) rotate(-97.697313022389324) translate(-5.0, 0)\"><polygon points=\"-5.0,5.0 0,-5.0 5.0,5.0\" transform=\"rotate(90)\"></polygon></g><g style=\"fill:rgb(40%,76.1%,64.7%);fill-opacity:1.0;stroke:rgb(40%,76.1%,64.7%);stroke-opacity:1.0;stroke-width:1.0\" transform=\"translate(394.55605095053301, 322.88841996656777) rotate(176.33720036647938) translate(-5.0, 0)\"><polygon points=\"-5.0,5.0 0,-5.0 5.0,5.0\" transform=\"rotate(90)\"></polygon></g><g style=\"fill:rgb(40%,76.1%,64.7%);fill-opacity:1.0;stroke:rgb(40%,76.1%,64.7%);stroke-opacity:1.0;stroke-width:1.0\" transform=\"translate(454.33122214156089, 444.56598183528126) rotate(-63.143964737920278) translate(-5.0, 0)\"><polygon points=\"-5.0,5.0 0,-5.0 5.0,5.0\" transform=\"rotate(90)\"></polygon></g><g style=\"fill:rgb(40%,76.1%,64.7%);fill-opacity:1.0;stroke:rgb(40%,76.1%,64.7%);stroke-opacity:1.0;stroke-width:1.0\" transform=\"translate(166.92562094287379, 303.91034520957965) rotate(-17.686648809718857) translate(-5.0, 0)\"><polygon points=\"-5.0,5.0 0,-5.0 5.0,5.0\" transform=\"rotate(90)\"></polygon></g><g style=\"fill:rgb(40%,76.1%,64.7%);fill-opacity:1.0;stroke:rgb(40%,76.1%,64.7%);stroke-opacity:1.0;stroke-width:1.0\" transform=\"translate(166.39959933004155, 327.93494038725856) rotate(-105.42460593177367) translate(-5.0, 0)\"><polygon points=\"-5.0,5.0 0,-5.0 5.0,5.0\" transform=\"rotate(90)\"></polygon></g><g style=\"fill:rgb(40%,76.1%,64.7%);fill-opacity:1.0;stroke:rgb(40%,76.1%,64.7%);stroke-opacity:1.0;stroke-width:1.0\" transform=\"translate(288.39693244115784, 245.11901788610464) rotate(-57.814075122999682) translate(-5.0, 0)\"><polygon points=\"-5.0,5.0 0,-5.0 5.0,5.0\" transform=\"rotate(90)\"></polygon></g><g style=\"fill:rgb(40%,76.1%,64.7%);fill-opacity:1.0;stroke:rgb(40%,76.1%,64.7%);stroke-opacity:1.0;stroke-width:1.0\" transform=\"translate(51.141409431100683, 293.46446865065184) rotate(124.79938234365051) translate(-5.0, 0)\"><polygon points=\"-5.0,5.0 0,-5.0 5.0,5.0\" transform=\"rotate(90)\"></polygon></g><g style=\"fill:rgb(40%,76.1%,64.7%);fill-opacity:1.0;stroke:rgb(40%,76.1%,64.7%);stroke-opacity:1.0;stroke-width:1.0\" transform=\"translate(61.96807243563461, 314.1119316093787) rotate(75.965730805530754) translate(-5.0, 0)\"><polygon points=\"-5.0,5.0 0,-5.0 5.0,5.0\" transform=\"rotate(90)\"></polygon></g><g style=\"fill:rgb(40%,76.1%,64.7%);fill-opacity:1.0;stroke:rgb(40%,76.1%,64.7%);stroke-opacity:1.0;stroke-width:1.0\" transform=\"translate(66.83300556385052, 228.77295858245037) rotate(105.61502884884551) translate(-5.0, 0)\"><polygon points=\"-5.0,5.0 0,-5.0 5.0,5.0\" transform=\"rotate(90)\"></polygon></g><g style=\"fill:rgb(40%,76.1%,64.7%);fill-opacity:1.0;stroke:rgb(40%,76.1%,64.7%);stroke-opacity:1.0;stroke-width:1.0\" transform=\"translate(282.83316880456232, 290.20783130856648) rotate(31.625038895832088) translate(-5.0, 0)\"><polygon points=\"-5.0,5.0 0,-5.0 5.0,5.0\" transform=\"rotate(90)\"></polygon></g><g style=\"fill:rgb(40%,76.1%,64.7%);fill-opacity:1.0;stroke:rgb(40%,76.1%,64.7%);stroke-opacity:1.0;stroke-width:1.0\" transform=\"translate(393.08223724503205, 144.24600500886623) rotate(33.23148215774782) translate(-5.0, 0)\"><polygon points=\"-5.0,5.0 0,-5.0 5.0,5.0\" transform=\"rotate(90)\"></polygon></g><g style=\"fill:rgb(40%,76.1%,64.7%);fill-opacity:1.0;stroke:rgb(40%,76.1%,64.7%);stroke-opacity:1.0;stroke-width:1.0\" transform=\"translate(522.84626495252485, 389.20047573961284) rotate(131.43751045006272) translate(-5.0, 0)\"><polygon points=\"-5.0,5.0 0,-5.0 5.0,5.0\" transform=\"rotate(90)\"></polygon></g><g style=\"fill:rgb(40%,76.1%,64.7%);fill-opacity:1.0;stroke:rgb(40%,76.1%,64.7%);stroke-opacity:1.0;stroke-width:1.0\" transform=\"translate(121.6822597579786, 363.46247916776633) rotate(77.705158565677777) translate(-5.0, 0)\"><polygon points=\"-5.0,5.0 0,-5.0 5.0,5.0\" transform=\"rotate(90)\"></polygon></g><g style=\"fill:rgb(40%,76.1%,64.7%);fill-opacity:1.0;stroke:rgb(40%,76.1%,64.7%);stroke-opacity:1.0;stroke-width:1.0\" transform=\"translate(490.94065678382105, 344.57430758526533) rotate(28.411701056465038) translate(-5.0, 0)\"><polygon points=\"-5.0,5.0 0,-5.0 5.0,5.0\" transform=\"rotate(90)\"></polygon></g><g style=\"fill:rgb(40%,76.1%,64.7%);fill-opacity:1.0;stroke:rgb(40%,76.1%,64.7%);stroke-opacity:1.0;stroke-width:1.0\" transform=\"translate(278.68757123519373, 280.31187844919174) rotate(-59.011563606854608) translate(-5.0, 0)\"><polygon points=\"-5.0,5.0 0,-5.0 5.0,5.0\" transform=\"rotate(90)\"></polygon></g><g style=\"fill:rgb(40%,76.1%,64.7%);fill-opacity:1.0;stroke:rgb(40%,76.1%,64.7%);stroke-opacity:1.0;stroke-width:1.0\" transform=\"translate(72.828559008386136, 261.52283459597055) rotate(95.77614105696459) translate(-5.0, 0)\"><polygon points=\"-5.0,5.0 0,-5.0 5.0,5.0\" transform=\"rotate(90)\"></polygon></g><g style=\"fill:rgb(40%,76.1%,64.7%);fill-opacity:1.0;stroke:rgb(40%,76.1%,64.7%);stroke-opacity:1.0;stroke-width:1.0\" transform=\"translate(78.438305275904568, 188.22497537479703) rotate(-140.39763652236618) translate(-5.0, 0)\"><polygon points=\"-5.0,5.0 0,-5.0 5.0,5.0\" transform=\"rotate(90)\"></polygon></g><g style=\"fill:rgb(40%,76.1%,64.7%);fill-opacity:1.0;stroke:rgb(40%,76.1%,64.7%);stroke-opacity:1.0;stroke-width:1.0\" transform=\"translate(273.3788414689775, 429.76652745519704) rotate(-161.02603852367955) translate(-5.0, 0)\"><polygon points=\"-5.0,5.0 0,-5.0 5.0,5.0\" transform=\"rotate(90)\"></polygon></g><g style=\"fill:rgb(40%,76.1%,64.7%);fill-opacity:1.0;stroke:rgb(40%,76.1%,64.7%);stroke-opacity:1.0;stroke-width:1.0\" transform=\"translate(143.25513248244786, 223.52244679253391) rotate(-133.44649244980809) translate(-5.0, 0)\"><polygon points=\"-5.0,5.0 0,-5.0 5.0,5.0\" transform=\"rotate(90)\"></polygon></g><g style=\"fill:rgb(40%,76.1%,64.7%);fill-opacity:1.0;stroke:rgb(40%,76.1%,64.7%);stroke-opacity:1.0;stroke-width:1.0\" transform=\"translate(205.36621927626453, 428.9097365596823) rotate(9.9447448112101977) translate(-5.0, 0)\"><polygon points=\"-5.0,5.0 0,-5.0 5.0,5.0\" transform=\"rotate(90)\"></polygon></g><g style=\"fill:rgb(40%,76.1%,64.7%);fill-opacity:1.0;stroke:rgb(40%,76.1%,64.7%);stroke-opacity:1.0;stroke-width:1.0\" transform=\"translate(370.61778161261748, 138.50828480120759) rotate(7.408014183768592) translate(-5.0, 0)\"><polygon points=\"-5.0,5.0 0,-5.0 5.0,5.0\" transform=\"rotate(90)\"></polygon></g><g style=\"fill:rgb(40%,76.1%,64.7%);fill-opacity:1.0;stroke:rgb(40%,76.1%,64.7%);stroke-opacity:1.0;stroke-width:1.0\" transform=\"translate(164.49878713178742, 414.22979016569121) rotate(59.47390952340465) translate(-5.0, 0)\"><polygon points=\"-5.0,5.0 0,-5.0 5.0,5.0\" transform=\"rotate(90)\"></polygon></g><g style=\"fill:rgb(40%,76.1%,64.7%);fill-opacity:1.0;stroke:rgb(40%,76.1%,64.7%);stroke-opacity:1.0;stroke-width:1.0\" transform=\"translate(515.20352205426775, 354.65251078768443) rotate(40.130749083807288) translate(-5.0, 0)\"><polygon points=\"-5.0,5.0 0,-5.0 5.0,5.0\" transform=\"rotate(90)\"></polygon></g><g style=\"fill:rgb(40%,76.1%,64.7%);fill-opacity:1.0;stroke:rgb(40%,76.1%,64.7%);stroke-opacity:1.0;stroke-width:1.0\" transform=\"translate(179.49729041992342, 259.12781212569536) rotate(-93.837677815830233) translate(-5.0, 0)\"><polygon points=\"-5.0,5.0 0,-5.0 5.0,5.0\" transform=\"rotate(90)\"></polygon></g><g style=\"fill:rgb(40%,76.1%,64.7%);fill-opacity:1.0;stroke:rgb(40%,76.1%,64.7%);stroke-opacity:1.0;stroke-width:1.0\" transform=\"translate(466.37459903028275, 433.30704087832464) rotate(169.877176617976) translate(-5.0, 0)\"><polygon points=\"-5.0,5.0 0,-5.0 5.0,5.0\" transform=\"rotate(90)\"></polygon></g><g style=\"fill:rgb(40%,76.1%,64.7%);fill-opacity:1.0;stroke:rgb(40%,76.1%,64.7%);stroke-opacity:1.0;stroke-width:1.0\" transform=\"translate(548.06198982977821, 168.35350916020434) rotate(-14.302469387452712) translate(-5.0, 0)\"><polygon points=\"-5.0,5.0 0,-5.0 5.0,5.0\" transform=\"rotate(90)\"></polygon></g><g style=\"fill:rgb(40%,76.1%,64.7%);fill-opacity:1.0;stroke:rgb(40%,76.1%,64.7%);stroke-opacity:1.0;stroke-width:1.0\" transform=\"translate(327.085722392386, 417.28764445882229) rotate(149.5225862000793) translate(-5.0, 0)\"><polygon points=\"-5.0,5.0 0,-5.0 5.0,5.0\" transform=\"rotate(90)\"></polygon></g><g style=\"fill:rgb(40%,76.1%,64.7%);fill-opacity:1.0;stroke:rgb(40%,76.1%,64.7%);stroke-opacity:1.0;stroke-width:1.0\" transform=\"translate(164.39928941170268, 236.54270438338651) rotate(-108.01595458304416) translate(-5.0, 0)\"><polygon points=\"-5.0,5.0 0,-5.0 5.0,5.0\" transform=\"rotate(90)\"></polygon></g><g style=\"fill:rgb(40%,76.1%,64.7%);fill-opacity:1.0;stroke:rgb(40%,76.1%,64.7%);stroke-opacity:1.0;stroke-width:1.0\" transform=\"translate(59.289343343459613, 271.24227641026476) rotate(153.15093355294513) translate(-5.0, 0)\"><polygon points=\"-5.0,5.0 0,-5.0 5.0,5.0\" transform=\"rotate(90)\"></polygon></g><g style=\"fill:rgb(40%,76.1%,64.7%);fill-opacity:1.0;stroke:rgb(40%,76.1%,64.7%);stroke-opacity:1.0;stroke-width:1.0\" transform=\"translate(102.50667798444454, 342.90931815007264) rotate(56.246943358172118) translate(-5.0, 0)\"><polygon points=\"-5.0,5.0 0,-5.0 5.0,5.0\" transform=\"rotate(90)\"></polygon></g><g style=\"fill:rgb(40%,76.1%,64.7%);fill-opacity:1.0;stroke:rgb(40%,76.1%,64.7%);stroke-opacity:1.0;stroke-width:1.0\" transform=\"translate(486.55953307776082, 200.81355109544847) rotate(-2.864039145235961) translate(-5.0, 0)\"><polygon points=\"-5.0,5.0 0,-5.0 5.0,5.0\" transform=\"rotate(90)\"></polygon></g><g style=\"fill:rgb(40%,76.1%,64.7%);fill-opacity:1.0;stroke:rgb(40%,76.1%,64.7%);stroke-opacity:1.0;stroke-width:1.0\" transform=\"translate(510.64040834906325, 189.20631789283533) rotate(-9.5016481566402291) translate(-5.0, 0)\"><polygon points=\"-5.0,5.0 0,-5.0 5.0,5.0\" transform=\"rotate(90)\"></polygon></g><g style=\"fill:rgb(40%,76.1%,64.7%);fill-opacity:1.0;stroke:rgb(40%,76.1%,64.7%);stroke-opacity:1.0;stroke-width:1.0\" transform=\"translate(453.23660973187782, 393.73125839937586) rotate(-76.03718914471321) translate(-5.0, 0)\"><polygon points=\"-5.0,5.0 0,-5.0 5.0,5.0\" transform=\"rotate(90)\"></polygon></g><g style=\"fill:rgb(40%,76.1%,64.7%);fill-opacity:1.0;stroke:rgb(40%,76.1%,64.7%);stroke-opacity:1.0;stroke-width:1.0\" transform=\"translate(253.96837247068149, 282.93920330052435) rotate(19.61320056069971) translate(-5.0, 0)\"><polygon points=\"-5.0,5.0 0,-5.0 5.0,5.0\" transform=\"rotate(90)\"></polygon></g><g style=\"fill:rgb(40%,76.1%,64.7%);fill-opacity:1.0;stroke:rgb(40%,76.1%,64.7%);stroke-opacity:1.0;stroke-width:1.0\" transform=\"translate(461.59612079483344, 338.66682146372767) rotate(23.314745048382669) translate(-5.0, 0)\"><polygon points=\"-5.0,5.0 0,-5.0 5.0,5.0\" transform=\"rotate(90)\"></polygon></g><g style=\"fill:rgb(40%,76.1%,64.7%);fill-opacity:1.0;stroke:rgb(40%,76.1%,64.7%);stroke-opacity:1.0;stroke-width:1.0\" transform=\"translate(507.7442473655467, 406.15579394786886) rotate(150.00551710338624) translate(-5.0, 0)\"><polygon points=\"-5.0,5.0 0,-5.0 5.0,5.0\" transform=\"rotate(90)\"></polygon></g><g style=\"fill:rgb(40%,76.1%,64.7%);fill-opacity:1.0;stroke:rgb(40%,76.1%,64.7%);stroke-opacity:1.0;stroke-width:1.0\" transform=\"translate(302.13083764131062, 429.95346943833471) rotate(171.33064322050123) translate(-5.0, 0)\"><polygon points=\"-5.0,5.0 0,-5.0 5.0,5.0\" transform=\"rotate(90)\"></polygon></g><g style=\"fill:rgb(40%,76.1%,64.7%);fill-opacity:1.0;stroke:rgb(40%,76.1%,64.7%);stroke-opacity:1.0;stroke-width:1.0\" transform=\"translate(67.324450490165177, 202.26906244535499) rotate(140.52374073569501) translate(-5.0, 0)\"><polygon points=\"-5.0,5.0 0,-5.0 5.0,5.0\" transform=\"rotate(90)\"></polygon></g><g style=\"fill:rgb(40%,76.1%,64.7%);fill-opacity:1.0;stroke:rgb(40%,76.1%,64.7%);stroke-opacity:1.0;stroke-width:1.0\" transform=\"translate(105.40843413399833, 361.33573008885929) rotate(102.55605984769016) translate(-5.0, 0)\"><polygon points=\"-5.0,5.0 0,-5.0 5.0,5.0\" transform=\"rotate(90)\"></polygon></g><g style=\"fill:rgb(40%,76.1%,64.7%);fill-opacity:1.0;stroke:rgb(40%,76.1%,64.7%);stroke-opacity:1.0;stroke-width:1.0\" transform=\"translate(444.91437689440232, 445.32581611053297) rotate(167.24474524533872) translate(-5.0, 0)\"><polygon points=\"-5.0,5.0 0,-5.0 5.0,5.0\" transform=\"rotate(90)\"></polygon></g><g style=\"fill:rgb(40%,76.1%,64.7%);fill-opacity:1.0;stroke:rgb(40%,76.1%,64.7%);stroke-opacity:1.0;stroke-width:1.0\" transform=\"translate(531.18345365690845, 178.37735145574061) rotate(-11.238673826148755) translate(-5.0, 0)\"><polygon points=\"-5.0,5.0 0,-5.0 5.0,5.0\" transform=\"rotate(90)\"></polygon></g><g style=\"fill:rgb(40%,76.1%,64.7%);fill-opacity:1.0;stroke:rgb(40%,76.1%,64.7%);stroke-opacity:1.0;stroke-width:1.0\" transform=\"translate(225.14384883627244, 282.02922918309434) rotate(3.4343164469052789) translate(-5.0, 0)\"><polygon points=\"-5.0,5.0 0,-5.0 5.0,5.0\" transform=\"rotate(90)\"></polygon></g><g style=\"fill:rgb(40%,76.1%,64.7%);fill-opacity:1.0;stroke:rgb(40%,76.1%,64.7%);stroke-opacity:1.0;stroke-width:1.0\" transform=\"translate(189.55282742568426, 286.68948671630852) rotate(-86.106955848510978) translate(-5.0, 0)\"><polygon points=\"-5.0,5.0 0,-5.0 5.0,5.0\" transform=\"rotate(90)\"></polygon></g><g style=\"fill:rgb(40%,76.1%,64.7%);fill-opacity:1.0;stroke:rgb(40%,76.1%,64.7%);stroke-opacity:1.0;stroke-width:1.0\" transform=\"translate(328.27836027954953, 159.65963264623258) rotate(-38.555187397542475) translate(-5.0, 0)\"><polygon points=\"-5.0,5.0 0,-5.0 5.0,5.0\" transform=\"rotate(90)\"></polygon></g><g style=\"fill:rgb(40%,76.1%,64.7%);fill-opacity:1.0;stroke:rgb(40%,76.1%,64.7%);stroke-opacity:1.0;stroke-width:1.0\" transform=\"translate(454.4049256620637, 419.64067108451496) rotate(-73.932259139487016) translate(-5.0, 0)\"><polygon points=\"-5.0,5.0 0,-5.0 5.0,5.0\" transform=\"rotate(90)\"></polygon></g><g style=\"fill:rgb(40%,76.1%,64.7%);fill-opacity:1.0;stroke:rgb(40%,76.1%,64.7%);stroke-opacity:1.0;stroke-width:1.0\" transform=\"translate(194.84721865164877, 310.69749852071817) rotate(-81.291715676540164) translate(-5.0, 0)\"><polygon points=\"-5.0,5.0 0,-5.0 5.0,5.0\" transform=\"rotate(90)\"></polygon></g><g style=\"fill:rgb(40%,76.1%,64.7%);fill-opacity:1.0;stroke:rgb(40%,76.1%,64.7%);stroke-opacity:1.0;stroke-width:1.0\" transform=\"translate(97.217514022242185, 234.87104162539907) rotate(170.9773613074791) translate(-5.0, 0)\"><polygon points=\"-5.0,5.0 0,-5.0 5.0,5.0\" transform=\"rotate(90)\"></polygon></g><g style=\"fill:rgb(40%,76.1%,64.7%);fill-opacity:1.0;stroke:rgb(40%,76.1%,64.7%);stroke-opacity:1.0;stroke-width:1.0\" transform=\"translate(103.0977082593745, 356.70737312116768) rotate(-84.394464658554341) translate(-5.0, 0)\"><polygon points=\"-5.0,5.0 0,-5.0 5.0,5.0\" transform=\"rotate(90)\"></polygon></g><g style=\"fill:rgb(40%,76.1%,64.7%);fill-opacity:1.0;stroke:rgb(40%,76.1%,64.7%);stroke-opacity:1.0;stroke-width:1.0\" transform=\"translate(141.072496260023, 321.86425999104034) rotate(-24.042601250032867) translate(-5.0, 0)\"><polygon points=\"-5.0,5.0 0,-5.0 5.0,5.0\" transform=\"rotate(90)\"></polygon></g><g style=\"fill:rgb(40%,76.1%,64.7%);fill-opacity:1.0;stroke:rgb(40%,76.1%,64.7%);stroke-opacity:1.0;stroke-width:1.0\" transform=\"translate(444.08789375331122, 193.97049128548551) rotate(49.498227345767454) translate(-5.0, 0)\"><polygon points=\"-5.0,5.0 0,-5.0 5.0,5.0\" transform=\"rotate(90)\"></polygon></g><g style=\"fill:rgb(40%,76.1%,64.7%);fill-opacity:1.0;stroke:rgb(40%,76.1%,64.7%);stroke-opacity:1.0;stroke-width:1.0\" transform=\"translate(141.60163748353358, 392.50062455051886) rotate(71.941908810404456) translate(-5.0, 0)\"><polygon points=\"-5.0,5.0 0,-5.0 5.0,5.0\" transform=\"rotate(90)\"></polygon></g><g style=\"fill:rgb(40%,76.1%,64.7%);fill-opacity:1.0;stroke:rgb(40%,76.1%,64.7%);stroke-opacity:1.0;stroke-width:1.0\" transform=\"translate(79.42050979159994, 252.02243326071473) rotate(151.34271022207244) translate(-5.0, 0)\"><polygon points=\"-5.0,5.0 0,-5.0 5.0,5.0\" transform=\"rotate(90)\"></polygon></g><g style=\"fill:rgb(40%,76.1%,64.7%);fill-opacity:1.0;stroke:rgb(40%,76.1%,64.7%);stroke-opacity:1.0;stroke-width:1.0\" transform=\"translate(411.95925381176266, 159.05580847191285) rotate(56.755169480422389) translate(-5.0, 0)\"><polygon points=\"-5.0,5.0 0,-5.0 5.0,5.0\" transform=\"rotate(90)\"></polygon></g><g style=\"fill:rgb(40%,76.1%,64.7%);fill-opacity:1.0;stroke:rgb(40%,76.1%,64.7%);stroke-opacity:1.0;stroke-width:1.0\" transform=\"translate(196.37041558973033, 289.25913200815847) rotate(-9.2546952102122404) translate(-5.0, 0)\"><polygon points=\"-5.0,5.0 0,-5.0 5.0,5.0\" transform=\"rotate(90)\"></polygon></g><g style=\"fill:rgb(40%,76.1%,64.7%);fill-opacity:1.0;stroke:rgb(40%,76.1%,64.7%);stroke-opacity:1.0;stroke-width:1.0\" transform=\"translate(84.348839612307657, 328.31303007678093) rotate(47.258658461205975) translate(-5.0, 0)\"><polygon points=\"-5.0,5.0 0,-5.0 5.0,5.0\" transform=\"rotate(90)\"></polygon></g><g style=\"fill:rgb(40%,76.1%,64.7%);fill-opacity:1.0;stroke:rgb(40%,76.1%,64.7%);stroke-opacity:1.0;stroke-width:1.0\" transform=\"translate(244.34514337015884, 416.55072524328472) rotate(-137.35807176828413) translate(-5.0, 0)\"><polygon points=\"-5.0,5.0 0,-5.0 5.0,5.0\" transform=\"rotate(90)\"></polygon></g><g style=\"fill:rgb(40%,76.1%,64.7%);fill-opacity:1.0;stroke:rgb(40%,76.1%,64.7%);stroke-opacity:1.0;stroke-width:1.0\" transform=\"translate(417.10788960470126, 315.61705927779508) rotate(-147.00987394723188) translate(-5.0, 0)\"><polygon points=\"-5.0,5.0 0,-5.0 5.0,5.0\" transform=\"rotate(90)\"></polygon></g><g style=\"fill:rgb(40%,76.1%,64.7%);fill-opacity:1.0;stroke:rgb(40%,76.1%,64.7%);stroke-opacity:1.0;stroke-width:1.0\" transform=\"translate(189.02124455720713, 363.37367115226152) rotate(-114.62547937488257) translate(-5.0, 0)\"><polygon points=\"-5.0,5.0 0,-5.0 5.0,5.0\" transform=\"rotate(90)\"></polygon></g><g style=\"fill:rgb(40%,76.1%,64.7%);fill-opacity:1.0;stroke:rgb(40%,76.1%,64.7%);stroke-opacity:1.0;stroke-width:1.0\" transform=\"translate(529.07911526474697, 370.86535350725347) rotate(68.798559913305354) translate(-5.0, 0)\"><polygon points=\"-5.0,5.0 0,-5.0 5.0,5.0\" transform=\"rotate(90)\"></polygon></g><g style=\"fill:rgb(40%,76.1%,64.7%);fill-opacity:1.0;stroke:rgb(40%,76.1%,64.7%);stroke-opacity:1.0;stroke-width:1.0\" transform=\"translate(97.371790140083149, 197.19254602810628) rotate(-109.92135810284258) translate(-5.0, 0)\"><polygon points=\"-5.0,5.0 0,-5.0 5.0,5.0\" transform=\"rotate(90)\"></polygon></g><g style=\"fill:rgb(40%,76.1%,64.7%);fill-opacity:1.0;stroke:rgb(40%,76.1%,64.7%);stroke-opacity:1.0;stroke-width:1.0\" transform=\"translate(310.79749300694567, 299.36212404583097) rotate(35.050283863155222) translate(-5.0, 0)\"><polygon points=\"-5.0,5.0 0,-5.0 5.0,5.0\" transform=\"rotate(90)\"></polygon></g><g style=\"fill:rgb(40%,76.1%,64.7%);fill-opacity:1.0;stroke:rgb(40%,76.1%,64.7%);stroke-opacity:1.0;stroke-width:1.0\" transform=\"translate(348.09180559667891, 143.21161084376158) rotate(-21.708035064842974) translate(-5.0, 0)\"><polygon points=\"-5.0,5.0 0,-5.0 5.0,5.0\" transform=\"rotate(90)\"></polygon></g><g style=\"fill:rgb(40%,76.1%,64.7%);fill-opacity:1.0;stroke:rgb(40%,76.1%,64.7%);stroke-opacity:1.0;stroke-width:1.0\" transform=\"translate(197.81472580005828, 332.41590387542038) rotate(-78.866956571941344) translate(-5.0, 0)\"><polygon points=\"-5.0,5.0 0,-5.0 5.0,5.0\" transform=\"rotate(90)\"></polygon></g><g style=\"fill:rgb(40%,76.1%,64.7%);fill-opacity:1.0;stroke:rgb(40%,76.1%,64.7%);stroke-opacity:1.0;stroke-width:1.0\" transform=\"translate(444.37081910825935, 341.85030226101992) rotate(-86.316001486975665) translate(-5.0, 0)\"><polygon points=\"-5.0,5.0 0,-5.0 5.0,5.0\" transform=\"rotate(90)\"></polygon></g><g style=\"fill:rgb(40%,76.1%,64.7%);fill-opacity:1.0;stroke:rgb(40%,76.1%,64.7%);stroke-opacity:1.0;stroke-width:1.0\" transform=\"translate(226.14702150053125, 411.31934605030608) rotate(-25.669620002335513) translate(-5.0, 0)\"><polygon points=\"-5.0,5.0 0,-5.0 5.0,5.0\" transform=\"rotate(90)\"></polygon></g><g style=\"fill:rgb(40%,76.1%,64.7%);fill-opacity:1.0;stroke:rgb(40%,76.1%,64.7%);stroke-opacity:1.0;stroke-width:1.0\" transform=\"translate(338.1949577554185, 310.01816346875273) rotate(38.156376015660534) translate(-5.0, 0)\"><polygon points=\"-5.0,5.0 0,-5.0 5.0,5.0\" transform=\"rotate(90)\"></polygon></g><g style=\"fill:rgb(40%,76.1%,64.7%);fill-opacity:1.0;stroke:rgb(40%,76.1%,64.7%);stroke-opacity:1.0;stroke-width:1.0\" transform=\"translate(102.6557251052914, 328.90774290480243) rotate(80.947087559641588) translate(-5.0, 0)\"><polygon points=\"-5.0,5.0 0,-5.0 5.0,5.0\" transform=\"rotate(90)\"></polygon></g><g style=\"fill:rgb(40%,76.1%,64.7%);fill-opacity:1.0;stroke:rgb(40%,76.1%,64.7%);stroke-opacity:1.0;stroke-width:1.0\" transform=\"translate(258.12952050485751, 352.42082901147535) rotate(-49.899070823174618) translate(-5.0, 0)\"><polygon points=\"-5.0,5.0 0,-5.0 5.0,5.0\" transform=\"rotate(90)\"></polygon></g><g style=\"fill:rgb(40%,76.1%,64.7%);fill-opacity:1.0;stroke:rgb(40%,76.1%,64.7%);stroke-opacity:1.0;stroke-width:1.0\" transform=\"translate(298.96858598285371, 212.68513020373277) rotate(-55.093866454625079) translate(-5.0, 0)\"><polygon points=\"-5.0,5.0 0,-5.0 5.0,5.0\" transform=\"rotate(90)\"></polygon></g><g style=\"fill:rgb(40%,76.1%,64.7%);fill-opacity:1.0;stroke:rgb(40%,76.1%,64.7%);stroke-opacity:1.0;stroke-width:1.0\" transform=\"translate(362.07657531419596, 369.72507931126654) rotate(134.73670712418203) translate(-5.0, 0)\"><polygon points=\"-5.0,5.0 0,-5.0 5.0,5.0\" transform=\"rotate(90)\"></polygon></g><g style=\"fill:rgb(40%,76.1%,64.7%);fill-opacity:1.0;stroke:rgb(40%,76.1%,64.7%);stroke-opacity:1.0;stroke-width:1.0\" transform=\"translate(146.79460218293059, 290.01567362121398) rotate(-100.41303454681298) translate(-5.0, 0)\"><polygon points=\"-5.0,5.0 0,-5.0 5.0,5.0\" transform=\"rotate(90)\"></polygon></g><g style=\"fill:rgb(40%,76.1%,64.7%);fill-opacity:1.0;stroke:rgb(40%,76.1%,64.7%);stroke-opacity:1.0;stroke-width:1.0\" transform=\"translate(376.4479174147362, 343.51964261621998) rotate(146.12337626792419) translate(-5.0, 0)\"><polygon points=\"-5.0,5.0 0,-5.0 5.0,5.0\" transform=\"rotate(90)\"></polygon></g><g style=\"fill:rgb(40%,76.1%,64.7%);fill-opacity:1.0;stroke:rgb(40%,76.1%,64.7%);stroke-opacity:1.0;stroke-width:1.0\" transform=\"translate(436.17768638320138, 322.50224798235496) rotate(-97.210596635952697) translate(-5.0, 0)\"><polygon points=\"-5.0,5.0 0,-5.0 5.0,5.0\" transform=\"rotate(90)\"></polygon></g><g style=\"fill:rgb(40%,76.1%,64.7%);fill-opacity:1.0;stroke:rgb(40%,76.1%,64.7%);stroke-opacity:1.0;stroke-width:1.0\" transform=\"translate(269.10743160857953, 317.54152591151063) rotate(-56.151431814145717) translate(-5.0, 0)\"><polygon points=\"-5.0,5.0 0,-5.0 5.0,5.0\" transform=\"rotate(90)\"></polygon></g><g style=\"fill:rgb(40%,76.1%,64.7%);fill-opacity:1.0;stroke:rgb(40%,76.1%,64.7%);stroke-opacity:1.0;stroke-width:1.0\" transform=\"translate(425.18498849458013, 180.81446591218119) rotate(76.976235719387589) translate(-5.0, 0)\"><polygon points=\"-5.0,5.0 0,-5.0 5.0,5.0\" transform=\"rotate(90)\"></polygon></g><g style=\"fill:rgb(40%,76.1%,64.7%);fill-opacity:1.0;stroke:rgb(40%,76.1%,64.7%);stroke-opacity:1.0;stroke-width:1.0\" transform=\"translate(366.69802203439468, 320.5188007003843) rotate(36.840543322214607) translate(-5.0, 0)\"><polygon points=\"-5.0,5.0 0,-5.0 5.0,5.0\" transform=\"rotate(90)\"></polygon></g><g style=\"fill:rgb(40%,76.1%,64.7%);fill-opacity:1.0;stroke:rgb(40%,76.1%,64.7%);stroke-opacity:1.0;stroke-width:1.0\" transform=\"translate(488.90013878590236, 421.47215028451586) rotate(158.25810847785039) translate(-5.0, 0)\"><polygon points=\"-5.0,5.0 0,-5.0 5.0,5.0\" transform=\"rotate(90)\"></polygon></g><g style=\"fill:rgb(40%,76.1%,64.7%);fill-opacity:1.0;stroke:rgb(40%,76.1%,64.7%);stroke-opacity:1.0;stroke-width:1.0\" transform=\"translate(430.31272386116245, 334.94711691880769) rotate(26.054357767651165) translate(-5.0, 0)\"><polygon points=\"-5.0,5.0 0,-5.0 5.0,5.0\" transform=\"rotate(90)\"></polygon></g><g style=\"fill:rgb(40%,76.1%,64.7%);fill-opacity:1.0;stroke:rgb(40%,76.1%,64.7%);stroke-opacity:1.0;stroke-width:1.0\" transform=\"translate(183.13066598071231, 430.31051816941761) rotate(57.330041196615419) translate(-5.0, 0)\"><polygon points=\"-5.0,5.0 0,-5.0 5.0,5.0\" transform=\"rotate(90)\"></polygon></g><g style=\"fill:rgb(40%,76.1%,64.7%);fill-opacity:1.0;stroke:rgb(40%,76.1%,64.7%);stroke-opacity:1.0;stroke-width:1.0\" transform=\"translate(215.50261045820014, 393.03908762090873) rotate(-123.37586263397186) translate(-5.0, 0)\"><polygon points=\"-5.0,5.0 0,-5.0 5.0,5.0\" transform=\"rotate(90)\"></polygon></g><g style=\"fill:rgb(40%,76.1%,64.7%);fill-opacity:1.0;stroke:rgb(40%,76.1%,64.7%);stroke-opacity:1.0;stroke-width:1.0\" transform=\"translate(449.74846280950351, 462.16585671373633) rotate(17.84260202187259) translate(-5.0, 0)\"><polygon points=\"-5.0,5.0 0,-5.0 5.0,5.0\" transform=\"rotate(90)\"></polygon></g><g style=\"fill:rgb(40%,76.1%,64.7%);fill-opacity:1.0;stroke:rgb(40%,76.1%,64.7%);stroke-opacity:1.0;stroke-width:1.0\" transform=\"translate(438.840176276161, 460.84450752929212) rotate(124.10249573673468) translate(-5.0, 0)\"><polygon points=\"-5.0,5.0 0,-5.0 5.0,5.0\" transform=\"rotate(90)\"></polygon></g><g style=\"fill:rgb(40%,76.1%,64.7%);fill-opacity:1.0;stroke:rgb(40%,76.1%,64.7%);stroke-opacity:1.0;stroke-width:1.0\" transform=\"translate(398.67564932303696, 329.53144814713875) rotate(32.173825572723025) translate(-5.0, 0)\"><polygon points=\"-5.0,5.0 0,-5.0 5.0,5.0\" transform=\"rotate(90)\"></polygon></g><g style=\"fill:rgb(40%,76.1%,64.7%);fill-opacity:1.0;stroke:rgb(40%,76.1%,64.7%);stroke-opacity:1.0;stroke-width:1.0\" transform=\"translate(450.10057674033663, 367.49703619363913) rotate(-80.432218789572786) translate(-5.0, 0)\"><polygon points=\"-5.0,5.0 0,-5.0 5.0,5.0\" transform=\"rotate(90)\"></polygon></g><g style=\"fill:rgb(40%,76.1%,64.7%);fill-opacity:1.0;stroke:rgb(40%,76.1%,64.7%);stroke-opacity:1.0;stroke-width:1.0\" transform=\"translate(461.50126884281843, 208.26633117246192) rotate(56.707072496367317) translate(-5.0, 0)\"><polygon points=\"-5.0,5.0 0,-5.0 5.0,5.0\" transform=\"rotate(90)\"></polygon></g><g style=\"fill:rgb(40%,76.1%,64.7%);fill-opacity:1.0;stroke:rgb(40%,76.1%,64.7%);stroke-opacity:1.0;stroke-width:1.0\" transform=\"translate(346.6340506822134, 395.60026823003165) rotate(137.71935444462363) translate(-5.0, 0)\"><polygon points=\"-5.0,5.0 0,-5.0 5.0,5.0\" transform=\"rotate(90)\"></polygon></g></g></g><g class=\"toyplot-Vertices\"><g class=\"toyplot-Datum\" style=\"fill:rgb(40%,76.1%,64.7%);fill-opacity:1.0;opacity:1.0;stroke:rgb(40%,76.1%,64.7%);stroke-opacity:1.0\" transform=\"translate(312.43478970160402, 300.51071428332244)\"><circle r=\"2.0\"></circle></g><g class=\"toyplot-Datum\" style=\"fill:rgb(40%,76.1%,64.7%);fill-opacity:1.0;opacity:1.0;stroke:rgb(40%,76.1%,64.7%);stroke-opacity:1.0\" transform=\"translate(488.55703490653542, 200.71361889822424)\"><circle r=\"2.0\"></circle></g><g class=\"toyplot-Datum\" style=\"fill:rgb(40%,76.1%,64.7%);fill-opacity:1.0;opacity:1.0;stroke:rgb(40%,76.1%,64.7%);stroke-opacity:1.0\" transform=\"translate(339.76761277635399, 311.25378322625352)\"><circle r=\"2.0\"></circle></g><g class=\"toyplot-Datum\" style=\"fill:rgb(40%,76.1%,64.7%);fill-opacity:1.0;opacity:1.0;stroke:rgb(40%,76.1%,64.7%);stroke-opacity:1.0\" transform=\"translate(289.46226921419208, 243.42636979508839)\"><circle r=\"2.0\"></circle></g><g class=\"toyplot-Datum\" style=\"fill:rgb(40%,76.1%,64.7%);fill-opacity:1.0;opacity:1.0;stroke:rgb(40%,76.1%,64.7%);stroke-opacity:1.0\" transform=\"translate(512.61297005588199, 188.87616593874083)\"><circle r=\"2.0\"></circle></g><g class=\"toyplot-Datum\" style=\"fill:rgb(40%,76.1%,64.7%);fill-opacity:1.0;opacity:1.0;stroke:rgb(40%,76.1%,64.7%);stroke-opacity:1.0\" transform=\"translate(198.34438197152025, 288.93748511549018)\"><circle r=\"2.0\"></circle></g><g class=\"toyplot-Datum\" style=\"fill:rgb(40%,76.1%,64.7%);fill-opacity:1.0;opacity:1.0;stroke:rgb(40%,76.1%,64.7%);stroke-opacity:1.0\" transform=\"translate(179.36343033551256, 257.13229678428564)\"><circle r=\"2.0\"></circle></g><g class=\"toyplot-Datum\" style=\"fill:rgb(40%,76.1%,64.7%);fill-opacity:1.0;opacity:1.0;stroke:rgb(40%,76.1%,64.7%);stroke-opacity:1.0\" transform=\"translate(113.88069867033192, 218.44169467726738)\"><circle r=\"2.0\"></circle></g><g class=\"toyplot-Datum\" style=\"fill:rgb(40%,76.1%,64.7%);fill-opacity:1.0;opacity:1.0;stroke:rgb(40%,76.1%,64.7%);stroke-opacity:1.0\" transform=\"translate(392.56013633702719, 323.01618872485346)\"><circle r=\"2.0\"></circle></g><g class=\"toyplot-Datum\" style=\"fill:rgb(40%,76.1%,64.7%);fill-opacity:1.0;opacity:1.0;stroke:rgb(40%,76.1%,64.7%);stroke-opacity:1.0\" transform=\"translate(368.29863661989896, 321.71798081557597)\"><circle r=\"2.0\"></circle></g><g class=\"toyplot-Datum\" style=\"fill:rgb(40%,76.1%,64.7%);fill-opacity:1.0;opacity:1.0;stroke:rgb(40%,76.1%,64.7%);stroke-opacity:1.0\" transform=\"translate(77.665502001815838, 252.98157227972979)\"><circle r=\"2.0\"></circle></g><g class=\"toyplot-Datum\" style=\"fill:rgb(40%,76.1%,64.7%);fill-opacity:1.0;opacity:1.0;stroke:rgb(40%,76.1%,64.7%);stroke-opacity:1.0\" transform=\"translate(300.11305331862553, 211.04494895845795)\"><circle r=\"2.0\"></circle></g><g class=\"toyplot-Datum\" style=\"fill:rgb(40%,76.1%,64.7%);fill-opacity:1.0;opacity:1.0;stroke:rgb(40%,76.1%,64.7%);stroke-opacity:1.0\" transform=\"translate(533.14510130991766, 177.987558580686)\"><circle r=\"2.0\"></circle></g><g class=\"toyplot-Datum\" style=\"fill:rgb(40%,76.1%,64.7%);fill-opacity:1.0;opacity:1.0;stroke:rgb(40%,76.1%,64.7%);stroke-opacity:1.0\" transform=\"translate(76.897331379737963, 186.95006382832287)\"><circle r=\"2.0\"></circle></g><g class=\"toyplot-Datum\" style=\"fill:rgb(40%,76.1%,64.7%);fill-opacity:1.0;opacity:1.0;stroke:rgb(40%,76.1%,64.7%);stroke-opacity:1.0\" transform=\"translate(66.294660660468708, 230.699142572884)\"><circle r=\"2.0\"></circle></g><g class=\"toyplot-Datum\" style=\"fill:rgb(40%,76.1%,64.7%);fill-opacity:1.0;opacity:1.0;stroke:rgb(40%,76.1%,64.7%);stroke-opacity:1.0\" transform=\"translate(372.6010878876989, 138.76615340965532)\"><circle r=\"2.0\"></circle></g><g class=\"toyplot-Datum\" style=\"fill:rgb(40%,76.1%,64.7%);fill-opacity:1.0;opacity:1.0;stroke:rgb(40%,76.1%,64.7%);stroke-opacity:1.0\" transform=\"translate(487.04241481645369, 422.21300226253561)\"><circle r=\"2.0\"></circle></g><g class=\"toyplot-Datum\" style=\"fill:rgb(40%,76.1%,64.7%);fill-opacity:1.0;opacity:1.0;stroke:rgb(40%,76.1%,64.7%);stroke-opacity:1.0\" transform=\"translate(227.14025709270845, 282.14903767041511)\"><circle r=\"2.0\"></circle></g><g class=\"toyplot-Datum\" style=\"fill:rgb(40%,76.1%,64.7%);fill-opacity:1.0;opacity:1.0;stroke:rgb(40%,76.1%,64.7%);stroke-opacity:1.0\" transform=\"translate(122.1081445942459, 365.41660866865351)\"><circle r=\"2.0\"></circle></g><g class=\"toyplot-Datum\" style=\"fill:rgb(40%,76.1%,64.7%);fill-opacity:1.0;opacity:1.0;stroke:rgb(40%,76.1%,64.7%);stroke-opacity:1.0\" transform=\"translate(463.43280990970675, 339.45838516634791)\"><circle r=\"2.0\"></circle></g><g class=\"toyplot-Datum\" style=\"fill:rgb(40%,76.1%,64.7%);fill-opacity:1.0;opacity:1.0;stroke:rgb(40%,76.1%,64.7%);stroke-opacity:1.0\" transform=\"translate(142.89898182683623, 321.04942842916824)\"><circle r=\"2.0\"></circle></g><g class=\"toyplot-Datum\" style=\"fill:rgb(40%,76.1%,64.7%);fill-opacity:1.0;opacity:1.0;stroke:rgb(40%,76.1%,64.7%);stroke-opacity:1.0\" transform=\"translate(103.29306635568747, 354.71693718544782)\"><circle r=\"2.0\"></circle></g><g class=\"toyplot-Datum\" style=\"fill:rgb(40%,76.1%,64.7%);fill-opacity:1.0;opacity:1.0;stroke:rgb(40%,76.1%,64.7%);stroke-opacity:1.0\" transform=\"translate(198.20090152458266, 330.45354093503749)\"><circle r=\"2.0\"></circle></g><g class=\"toyplot-Datum\" style=\"fill:rgb(40%,76.1%,64.7%);fill-opacity:1.0;opacity:1.0;stroke:rgb(40%,76.1%,64.7%);stroke-opacity:1.0\" transform=\"translate(360.66887543551047, 371.14577669338166)\"><circle r=\"2.0\"></circle></g><g class=\"toyplot-Datum\" style=\"fill:rgb(40%,76.1%,64.7%);fill-opacity:1.0;opacity:1.0;stroke:rgb(40%,76.1%,64.7%);stroke-opacity:1.0\" transform=\"translate(163.78072578451642, 234.64076352228642)\"><circle r=\"2.0\"></circle></g><g class=\"toyplot-Datum\" style=\"fill:rgb(40%,76.1%,64.7%);fill-opacity:1.0;opacity:1.0;stroke:rgb(40%,76.1%,64.7%);stroke-opacity:1.0\" transform=\"translate(188.18787438228941, 361.55556935325313)\"><circle r=\"2.0\"></circle></g><g class=\"toyplot-Datum\" style=\"fill:rgb(40%,76.1%,64.7%);fill-opacity:1.0;opacity:1.0;stroke:rgb(40%,76.1%,64.7%);stroke-opacity:1.0\" transform=\"translate(454.95847298930516, 417.71880080884495)\"><circle r=\"2.0\"></circle></g><g class=\"toyplot-Datum\" style=\"fill:rgb(40%,76.1%,64.7%);fill-opacity:1.0;opacity:1.0;stroke:rgb(40%,76.1%,64.7%);stroke-opacity:1.0\" transform=\"translate(96.690330066034434, 195.31222367077561)\"><circle r=\"2.0\"></circle></g><g class=\"toyplot-Datum\" style=\"fill:rgb(40%,76.1%,64.7%);fill-opacity:1.0;opacity:1.0;stroke:rgb(40%,76.1%,64.7%);stroke-opacity:1.0\" transform=\"translate(349.94996701613354, 142.47185673647292)\"><circle r=\"2.0\"></circle></g><g class=\"toyplot-Datum\" style=\"fill:rgb(40%,76.1%,64.7%);fill-opacity:1.0;opacity:1.0;stroke:rgb(40%,76.1%,64.7%);stroke-opacity:1.0\" transform=\"translate(432.10947936018556, 335.82556422896931)\"><circle r=\"2.0\"></circle></g><g class=\"toyplot-Datum\" style=\"fill:rgb(40%,76.1%,64.7%);fill-opacity:1.0;opacity:1.0;stroke:rgb(40%,76.1%,64.7%);stroke-opacity:1.0\" transform=\"translate(104.97364464113318, 363.28789762698045)\"><circle r=\"2.0\"></circle></g><g class=\"toyplot-Datum\" style=\"fill:rgb(40%,76.1%,64.7%);fill-opacity:1.0;opacity:1.0;stroke:rgb(40%,76.1%,64.7%);stroke-opacity:1.0\" transform=\"translate(374.78743787069601, 344.63445546321458)\"><circle r=\"2.0\"></circle></g><g class=\"toyplot-Datum\" style=\"fill:rgb(40%,76.1%,64.7%);fill-opacity:1.0;opacity:1.0;stroke:rgb(40%,76.1%,64.7%);stroke-opacity:1.0\" transform=\"translate(400.36852234635006, 330.59642745535973)\"><circle r=\"2.0\"></circle></g><g class=\"toyplot-Datum\" style=\"fill:rgb(40%,76.1%,64.7%);fill-opacity:1.0;opacity:1.0;stroke:rgb(40%,76.1%,64.7%);stroke-opacity:1.0\" transform=\"translate(103.61790716415578, 344.57219809467426)\"><circle r=\"2.0\"></circle></g><g class=\"toyplot-Datum\" style=\"fill:rgb(40%,76.1%,64.7%);fill-opacity:1.0;opacity:1.0;stroke:rgb(40%,76.1%,64.7%);stroke-opacity:1.0\" transform=\"translate(57.504944598006745, 272.14555993011123)\"><circle r=\"2.0\"></circle></g><g class=\"toyplot-Datum\" style=\"fill:rgb(40%,76.1%,64.7%);fill-opacity:1.0;opacity:1.0;stroke:rgb(40%,76.1%,64.7%);stroke-opacity:1.0\" transform=\"translate(227.94963516878869, 410.45298356092218)\"><circle r=\"2.0\"></circle></g><g class=\"toyplot-Datum\" style=\"fill:rgb(40%,76.1%,64.7%);fill-opacity:1.0;opacity:1.0;stroke:rgb(40%,76.1%,64.7%);stroke-opacity:1.0\" transform=\"translate(451.6522664718683, 462.77866305767077)\"><circle r=\"2.0\"></circle></g><g class=\"toyplot-Datum\" style=\"fill:rgb(40%,76.1%,64.7%);fill-opacity:1.0;opacity:1.0;stroke:rgb(40%,76.1%,64.7%);stroke-opacity:1.0\" transform=\"translate(50.0, 295.10677937356468)\"><circle r=\"2.0\"></circle></g><g class=\"toyplot-Datum\" style=\"fill:rgb(40%,76.1%,64.7%);fill-opacity:1.0;opacity:1.0;stroke:rgb(40%,76.1%,64.7%);stroke-opacity:1.0\" transform=\"translate(300.1536883542837, 430.25493369294696)\"><circle r=\"2.0\"></circle></g><g class=\"toyplot-Datum\" style=\"fill:rgb(40%,76.1%,64.7%);fill-opacity:1.0;opacity:1.0;stroke:rgb(40%,76.1%,64.7%);stroke-opacity:1.0\" transform=\"translate(86.5030939839844, 296.74581717450462)\"><circle r=\"2.0\"></circle></g><g class=\"toyplot-Datum\" style=\"fill:rgb(40%,76.1%,64.7%);fill-opacity:1.0;opacity:1.0;stroke:rgb(40%,76.1%,64.7%);stroke-opacity:1.0\" transform=\"translate(313.36247404822632, 182.17270150092463)\"><circle r=\"2.0\"></circle></g><g class=\"toyplot-Datum\" style=\"fill:rgb(40%,76.1%,64.7%);fill-opacity:1.0;opacity:1.0;stroke:rgb(40%,76.1%,64.7%);stroke-opacity:1.0\" transform=\"translate(184.21026403504047, 431.99410601716744)\"><circle r=\"2.0\"></circle></g><g class=\"toyplot-Datum\" style=\"fill:rgb(40%,76.1%,64.7%);fill-opacity:1.0;opacity:1.0;stroke:rgb(40%,76.1%,64.7%);stroke-opacity:1.0\" transform=\"translate(245.53412298018998, 382.97168614012827)\"><circle r=\"2.0\"></circle></g><g class=\"toyplot-Datum\" style=\"fill:rgb(40%,76.1%,64.7%);fill-opacity:1.0;opacity:1.0;stroke:rgb(40%,76.1%,64.7%);stroke-opacity:1.0\" transform=\"translate(550.0, 167.85942760811292)\"><circle r=\"2.0\"></circle></g><g class=\"toyplot-Datum\" style=\"fill:rgb(40%,76.1%,64.7%);fill-opacity:1.0;opacity:1.0;stroke:rgb(40%,76.1%,64.7%);stroke-opacity:1.0\" transform=\"translate(189.68861576336383, 284.69410165889474)\"><circle r=\"2.0\"></circle></g><g class=\"toyplot-Datum\" style=\"fill:rgb(40%,76.1%,64.7%);fill-opacity:1.0;opacity:1.0;stroke:rgb(40%,76.1%,64.7%);stroke-opacity:1.0\" transform=\"translate(129.94396565523098, 251.69267529233991)\"><circle r=\"2.0\"></circle></g><g class=\"toyplot-Datum\" style=\"fill:rgb(40%,76.1%,64.7%);fill-opacity:1.0;opacity:1.0;stroke:rgb(40%,76.1%,64.7%);stroke-opacity:1.0\" transform=\"translate(415.43036077528154, 314.52807028498302)\"><circle r=\"2.0\"></circle></g><g class=\"toyplot-Datum\" style=\"fill:rgb(40%,76.1%,64.7%);fill-opacity:1.0;opacity:1.0;stroke:rgb(40%,76.1%,64.7%);stroke-opacity:1.0\" transform=\"translate(95.242261115931129, 235.1846910413235)\"><circle r=\"2.0\"></circle></g><g class=\"toyplot-Datum\" style=\"fill:rgb(40%,76.1%,64.7%);fill-opacity:1.0;opacity:1.0;stroke:rgb(40%,76.1%,64.7%);stroke-opacity:1.0\" transform=\"translate(65.780674332768683, 203.5405793252485)\"><circle r=\"2.0\"></circle></g><g class=\"toyplot-Datum\" style=\"fill:rgb(40%,76.1%,64.7%);fill-opacity:1.0;opacity:1.0;stroke:rgb(40%,76.1%,64.7%);stroke-opacity:1.0\" transform=\"translate(199.8624588780402, 347.50296903495934)\"><circle r=\"2.0\"></circle></g><g class=\"toyplot-Datum\" style=\"fill:rgb(40%,76.1%,64.7%);fill-opacity:1.0;opacity:1.0;stroke:rgb(40%,76.1%,64.7%);stroke-opacity:1.0\" transform=\"translate(455.23472268894494, 442.78169296828781)\"><circle r=\"2.0\"></circle></g><g class=\"toyplot-Datum\" style=\"fill:rgb(40%,76.1%,64.7%);fill-opacity:1.0;opacity:1.0;stroke:rgb(40%,76.1%,64.7%);stroke-opacity:1.0\" transform=\"translate(85.706219148211034, 329.78188023779489)\"><circle r=\"2.0\"></circle></g><g class=\"toyplot-Datum\" style=\"fill:rgb(40%,76.1%,64.7%);fill-opacity:1.0;opacity:1.0;stroke:rgb(40%,76.1%,64.7%);stroke-opacity:1.0\" transform=\"translate(325.36206405855154, 418.3020417913321)\"><circle r=\"2.0\"></circle></g><g class=\"toyplot-Datum\" style=\"fill:rgb(40%,76.1%,64.7%);fill-opacity:1.0;opacity:1.0;stroke:rgb(40%,76.1%,64.7%);stroke-opacity:1.0\" transform=\"translate(72.627275002222916, 263.51268000425301)\"><circle r=\"2.0\"></circle></g><g class=\"toyplot-Datum\" style=\"fill:rgb(40%,76.1%,64.7%);fill-opacity:1.0;opacity:1.0;stroke:rgb(40%,76.1%,64.7%);stroke-opacity:1.0\" transform=\"translate(117.32052779108152, 224.54875152693)\"><circle r=\"2.0\"></circle></g><g class=\"toyplot-Datum\" style=\"fill:rgb(40%,76.1%,64.7%);fill-opacity:1.0;opacity:1.0;stroke:rgb(40%,76.1%,64.7%);stroke-opacity:1.0\" transform=\"translate(62.453076827908909, 316.05223332289512)\"><circle r=\"2.0\"></circle></g><g class=\"toyplot-Datum\" style=\"fill:rgb(40%,76.1%,64.7%);fill-opacity:1.0;opacity:1.0;stroke:rgb(40%,76.1%,64.7%);stroke-opacity:1.0\" transform=\"translate(394.755163883168, 145.34205083975795)\"><circle r=\"2.0\"></circle></g><g class=\"toyplot-Datum\" style=\"fill:rgb(40%,76.1%,64.7%);fill-opacity:1.0;opacity:1.0;stroke:rgb(40%,76.1%,64.7%);stroke-opacity:1.0\" transform=\"translate(271.48750859898342, 429.11625061039939)\"><circle r=\"2.0\"></circle></g><g class=\"toyplot-Datum\" style=\"fill:rgb(40%,76.1%,64.7%);fill-opacity:1.0;opacity:1.0;stroke:rgb(40%,76.1%,64.7%);stroke-opacity:1.0\" transform=\"translate(464.4057325388211, 433.65855864288204)\"><circle r=\"2.0\"></circle></g><g class=\"toyplot-Datum\" style=\"fill:rgb(40%,76.1%,64.7%);fill-opacity:1.0;opacity:1.0;stroke:rgb(40%,76.1%,64.7%);stroke-opacity:1.0\" transform=\"translate(413.05568935941574, 160.72847971571503)\"><circle r=\"2.0\"></circle></g><g class=\"toyplot-Datum\" style=\"fill:rgb(40%,76.1%,64.7%);fill-opacity:1.0;opacity:1.0;stroke:rgb(40%,76.1%,64.7%);stroke-opacity:1.0\" transform=\"translate(255.85233275469909, 283.61054050956631)\"><circle r=\"2.0\"></circle></g><g class=\"toyplot-Datum\" style=\"fill:rgb(40%,76.1%,64.7%);fill-opacity:1.0;opacity:1.0;stroke:rgb(40%,76.1%,64.7%);stroke-opacity:1.0\" transform=\"translate(521.52265933867409, 390.69983166099462)\"><circle r=\"2.0\"></circle></g><g class=\"toyplot-Datum\" style=\"fill:rgb(40%,76.1%,64.7%);fill-opacity:1.0;opacity:1.0;stroke:rgb(40%,76.1%,64.7%);stroke-opacity:1.0\" transform=\"translate(242.87394024631956, 415.19589633585559)\"><circle r=\"2.0\"></circle></g><g class=\"toyplot-Datum\" style=\"fill:rgb(40%,76.1%,64.7%);fill-opacity:1.0;opacity:1.0;stroke:rgb(40%,76.1%,64.7%);stroke-opacity:1.0\" transform=\"translate(442.96373274313538, 445.76738988141165)\"><circle r=\"2.0\"></circle></g><g class=\"toyplot-Datum\" style=\"fill:rgb(40%,76.1%,64.7%);fill-opacity:1.0;opacity:1.0;stroke:rgb(40%,76.1%,64.7%);stroke-opacity:1.0\" transform=\"translate(142.2215996734607, 394.40210999170972)\"><circle r=\"2.0\"></circle></g><g class=\"toyplot-Datum\" style=\"fill:rgb(40%,76.1%,64.7%);fill-opacity:1.0;opacity:1.0;stroke:rgb(40%,76.1%,64.7%);stroke-opacity:1.0\" transform=\"translate(425.63569883363135, 182.76301927051458)\"><circle r=\"2.0\"></circle></g><g class=\"toyplot-Datum\" style=\"fill:rgb(40%,76.1%,64.7%);fill-opacity:1.0;opacity:1.0;stroke:rgb(40%,76.1%,64.7%);stroke-opacity:1.0\" transform=\"translate(492.69975962705087, 345.52591527068029)\"><circle r=\"2.0\"></circle></g><g class=\"toyplot-Datum\" style=\"fill:rgb(40%,76.1%,64.7%);fill-opacity:1.0;opacity:1.0;stroke:rgb(40%,76.1%,64.7%);stroke-opacity:1.0\" transform=\"translate(284.5361645348101, 291.25654744878648)\"><circle r=\"2.0\"></circle></g><g class=\"toyplot-Datum\" style=\"fill:rgb(40%,76.1%,64.7%);fill-opacity:1.0;opacity:1.0;stroke:rgb(40%,76.1%,64.7%);stroke-opacity:1.0\" transform=\"translate(462.59910812908998, 209.93808142340217)\"><circle r=\"2.0\"></circle></g><g class=\"toyplot-Datum\" style=\"fill:rgb(40%,76.1%,64.7%);fill-opacity:1.0;opacity:1.0;stroke:rgb(40%,76.1%,64.7%);stroke-opacity:1.0\" transform=\"translate(279.71730137186279, 278.59733598963135)\"><circle r=\"2.0\"></circle></g><g class=\"toyplot-Datum\" style=\"fill:rgb(40%,76.1%,64.7%);fill-opacity:1.0;opacity:1.0;stroke:rgb(40%,76.1%,64.7%);stroke-opacity:1.0\" transform=\"translate(168.83108554657414, 303.302723086838)\"><circle r=\"2.0\"></circle></g><g class=\"toyplot-Datum\" style=\"fill:rgb(40%,76.1%,64.7%);fill-opacity:1.0;opacity:1.0;stroke:rgb(40%,76.1%,64.7%);stroke-opacity:1.0\" transform=\"translate(506.01210027438856, 407.15562716125618)\"><circle r=\"2.0\"></circle></g><g class=\"toyplot-Datum\" style=\"fill:rgb(40%,76.1%,64.7%);fill-opacity:1.0;opacity:1.0;stroke:rgb(40%,76.1%,64.7%);stroke-opacity:1.0\" transform=\"translate(102.97041815475339, 330.88282981038918)\"><circle r=\"2.0\"></circle></g><g class=\"toyplot-Datum\" style=\"fill:rgb(40%,76.1%,64.7%);fill-opacity:1.0;opacity:1.0;stroke:rgb(40%,76.1%,64.7%);stroke-opacity:1.0\" transform=\"translate(121.76655177293624, 339.25305511274451)\"><circle r=\"2.0\"></circle></g><g class=\"toyplot-Datum\" style=\"fill:rgb(40%,76.1%,64.7%);fill-opacity:1.0;opacity:1.0;stroke:rgb(40%,76.1%,64.7%);stroke-opacity:1.0\" transform=\"translate(214.40235247929365, 391.36892823334938)\"><circle r=\"2.0\"></circle></g><g class=\"toyplot-Datum\" style=\"fill:rgb(40%,76.1%,64.7%);fill-opacity:1.0;opacity:1.0;stroke:rgb(40%,76.1%,64.7%);stroke-opacity:1.0\" transform=\"translate(329.84237665294108, 158.4130963315738)\"><circle r=\"2.0\"></circle></g><g class=\"toyplot-Datum\" style=\"fill:rgb(40%,76.1%,64.7%);fill-opacity:1.0;opacity:1.0;stroke:rgb(40%,76.1%,64.7%);stroke-opacity:1.0\" transform=\"translate(207.33616879371442, 429.25513328621417)\"><circle r=\"2.0\"></circle></g><g class=\"toyplot-Datum\" style=\"fill:rgb(40%,76.1%,64.7%);fill-opacity:1.0;opacity:1.0;stroke:rgb(40%,76.1%,64.7%);stroke-opacity:1.0\" transform=\"translate(437.7188261494307, 462.50057935541622)\"><circle r=\"2.0\"></circle></g><g class=\"toyplot-Datum\" style=\"fill:rgb(40%,76.1%,64.7%);fill-opacity:1.0;opacity:1.0;stroke:rgb(40%,76.1%,64.7%);stroke-opacity:1.0\" transform=\"translate(165.51464846348284, 415.9525860777963)\"><circle r=\"2.0\"></circle></g><g class=\"toyplot-Datum\" style=\"fill:rgb(40%,76.1%,64.7%);fill-opacity:1.0;opacity:1.0;stroke:rgb(40%,76.1%,64.7%);stroke-opacity:1.0\" transform=\"translate(195.15002613911295, 308.72055450898296)\"><circle r=\"2.0\"></circle></g><g class=\"toyplot-Datum\" style=\"fill:rgb(40%,76.1%,64.7%);fill-opacity:1.0;opacity:1.0;stroke:rgb(40%,76.1%,64.7%);stroke-opacity:1.0\" transform=\"translate(146.43311638510059, 288.0486128651703)\"><circle r=\"2.0\"></circle></g><g class=\"toyplot-Datum\" style=\"fill:rgb(40%,76.1%,64.7%);fill-opacity:1.0;opacity:1.0;stroke:rgb(40%,76.1%,64.7%);stroke-opacity:1.0\" transform=\"translate(435.9266529446997, 320.51806497346843)\"><circle r=\"2.0\"></circle></g><g class=\"toyplot-Datum\" style=\"fill:rgb(40%,76.1%,64.7%);fill-opacity:1.0;opacity:1.0;stroke:rgb(40%,76.1%,64.7%);stroke-opacity:1.0\" transform=\"translate(345.15433389104589, 396.94579348729621)\"><circle r=\"2.0\"></circle></g><g class=\"toyplot-Datum\" style=\"fill:rgb(40%,76.1%,64.7%);fill-opacity:1.0;opacity:1.0;stroke:rgb(40%,76.1%,64.7%);stroke-opacity:1.0\" transform=\"translate(141.87977876068248, 222.07041299815234)\"><circle r=\"2.0\"></circle></g><g class=\"toyplot-Datum\" style=\"fill:rgb(40%,76.1%,64.7%);fill-opacity:1.0;opacity:1.0;stroke:rgb(40%,76.1%,64.7%);stroke-opacity:1.0\" transform=\"translate(529.80241127120973, 372.72998293076768)\"><circle r=\"2.0\"></circle></g><g class=\"toyplot-Datum\" style=\"fill:rgb(40%,76.1%,64.7%);fill-opacity:1.0;opacity:1.0;stroke:rgb(40%,76.1%,64.7%);stroke-opacity:1.0\" transform=\"translate(445.38683690122235, 195.49126302986227)\"><circle r=\"2.0\"></circle></g><g class=\"toyplot-Datum\" style=\"fill:rgb(40%,76.1%,64.7%);fill-opacity:1.0;opacity:1.0;stroke:rgb(40%,76.1%,64.7%);stroke-opacity:1.0\" transform=\"translate(270.22143124879642, 315.88050068545397)\"><circle r=\"2.0\"></circle></g><g class=\"toyplot-Datum\" style=\"fill:rgb(40%,76.1%,64.7%);fill-opacity:1.0;opacity:1.0;stroke:rgb(40%,76.1%,64.7%);stroke-opacity:1.0\" transform=\"translate(165.86765907380251, 326.00697784514517)\"><circle r=\"2.0\"></circle></g><g class=\"toyplot-Datum\" style=\"fill:rgb(40%,76.1%,64.7%);fill-opacity:1.0;opacity:1.0;stroke:rgb(40%,76.1%,64.7%);stroke-opacity:1.0\" transform=\"translate(444.49932632671988, 339.85443505732036)\"><circle r=\"2.0\"></circle></g><g class=\"toyplot-Datum\" style=\"fill:rgb(40%,76.1%,64.7%);fill-opacity:1.0;opacity:1.0;stroke:rgb(40%,76.1%,64.7%);stroke-opacity:1.0\" transform=\"translate(516.73267326862185, 355.94157888659907)\"><circle r=\"2.0\"></circle></g><g class=\"toyplot-Datum\" style=\"fill:rgb(40%,76.1%,64.7%);fill-opacity:1.0;opacity:1.0;stroke:rgb(40%,76.1%,64.7%);stroke-opacity:1.0\" transform=\"translate(259.41779257396985, 350.89100710159659)\"><circle r=\"2.0\"></circle></g><g class=\"toyplot-Datum\" style=\"fill:rgb(40%,76.1%,64.7%);fill-opacity:1.0;opacity:1.0;stroke:rgb(40%,76.1%,64.7%);stroke-opacity:1.0\" transform=\"translate(450.43300528270328, 365.52485687516429)\"><circle r=\"2.0\"></circle></g><g class=\"toyplot-Datum\" style=\"fill:rgb(40%,76.1%,64.7%);fill-opacity:1.0;opacity:1.0;stroke:rgb(40%,76.1%,64.7%);stroke-opacity:1.0\" transform=\"translate(453.7191938356878, 391.79035330567604)\"><circle r=\"2.0\"></circle></g></g><g class=\"toyplot-Labels\"><g class=\"toyplot-Datum\" transform=\"translate(312.43478970160402,300.51071428332244)\"><text style=\"fill:rgb(16.1%,15.3%,14.1%);fill-opacity:1.0;font-family:helvetica;font-size:8.0px;font-weight:normal;stroke:none;vertical-align:baseline;white-space:pre\" x=\"-19.56\" y=\"2.044\">AAACCAG</text></g><g class=\"toyplot-Datum\" transform=\"translate(488.55703490653542,200.71361889822424)\"><text style=\"fill:rgb(16.1%,15.3%,14.1%);fill-opacity:1.0;font-family:helvetica;font-size:8.0px;font-weight:normal;stroke:none;vertical-align:baseline;white-space:pre\" x=\"-18.896\" y=\"2.044\">AAAGAAT</text></g><g class=\"toyplot-Datum\" transform=\"translate(339.76761277635399,311.25378322625352)\"><text style=\"fill:rgb(16.1%,15.3%,14.1%);fill-opacity:1.0;font-family:helvetica;font-size:8.0px;font-weight:normal;stroke:none;vertical-align:baseline;white-space:pre\" x=\"-19.336\" y=\"2.044\">AACCAGT</text></g><g class=\"toyplot-Datum\" transform=\"translate(289.46226921419208,243.42636979508839)\"><text style=\"fill:rgb(16.1%,15.3%,14.1%);fill-opacity:1.0;font-family:helvetica;font-size:8.0px;font-weight:normal;stroke:none;vertical-align:baseline;white-space:pre\" x=\"-19.336\" y=\"2.044\">AACTCAG</text></g><g class=\"toyplot-Datum\" transform=\"translate(512.61297005588199,188.87616593874083)\"><text style=\"fill:rgb(16.1%,15.3%,14.1%);fill-opacity:1.0;font-family:helvetica;font-size:8.0px;font-weight:normal;stroke:none;vertical-align:baseline;white-space:pre\" x=\"-18.896\" y=\"2.044\">AAGAATA</text></g><g class=\"toyplot-Datum\" transform=\"translate(198.34438197152025,288.93748511549018)\"><text style=\"fill:rgb(16.1%,15.3%,14.1%);fill-opacity:1.0;font-family:helvetica;font-size:8.0px;font-weight:normal;stroke:none;vertical-align:baseline;white-space:pre\" x=\"-18.896\" y=\"2.044\">AAGTAAA</text></g><g class=\"toyplot-Datum\" transform=\"translate(179.36343033551256,257.13229678428564)\"><text style=\"fill:rgb(16.1%,15.3%,14.1%);fill-opacity:1.0;font-family:helvetica;font-size:8.0px;font-weight:normal;stroke:none;vertical-align:baseline;white-space:pre\" x=\"-19.56\" y=\"2.044\">AATGGAC</text></g><g class=\"toyplot-Datum\" transform=\"translate(113.88069867033192,218.44169467726738)\"><text style=\"fill:rgb(16.1%,15.3%,14.1%);fill-opacity:1.0;font-family:helvetica;font-size:8.0px;font-weight:normal;stroke:none;vertical-align:baseline;white-space:pre\" x=\"-20.004\" y=\"2.044\">ACAGAGC</text></g><g class=\"toyplot-Datum\" transform=\"translate(392.56013633702719,323.01618872485346)\"><text style=\"fill:rgb(16.1%,15.3%,14.1%);fill-opacity:1.0;font-family:helvetica;font-size:8.0px;font-weight:normal;stroke:none;vertical-align:baseline;white-space:pre\" x=\"-19.78\" y=\"2.044\">ACATGCG</text></g><g class=\"toyplot-Datum\" transform=\"translate(368.29863661989896,321.71798081557597)\"><text style=\"fill:rgb(16.1%,15.3%,14.1%);fill-opacity:1.0;font-family:helvetica;font-size:8.0px;font-weight:normal;stroke:none;vertical-align:baseline;white-space:pre\" x=\"-19.112\" y=\"2.044\">ACCAGTT</text></g><g class=\"toyplot-Datum\" transform=\"translate(77.665502001815838,252.98157227972979)\"><text style=\"fill:rgb(16.1%,15.3%,14.1%);fill-opacity:1.0;font-family:helvetica;font-size:8.0px;font-weight:normal;stroke:none;vertical-align:baseline;white-space:pre\" x=\"-20.444\" y=\"2.044\">ACCGGCC</text></g><g class=\"toyplot-Datum\" transform=\"translate(300.11305331862553,211.04494895845795)\"><text style=\"fill:rgb(16.1%,15.3%,14.1%);fill-opacity:1.0;font-family:helvetica;font-size:8.0px;font-weight:normal;stroke:none;vertical-align:baseline;white-space:pre\" x=\"-19.78\" y=\"2.044\">ACTCAGG</text></g><g class=\"toyplot-Datum\" transform=\"translate(533.14510130991766,177.987558580686)\"><text style=\"fill:rgb(16.1%,15.3%,14.1%);fill-opacity:1.0;font-family:helvetica;font-size:8.0px;font-weight:normal;stroke:none;vertical-align:baseline;white-space:pre\" x=\"-18.672\" y=\"2.044\">AGAATAT</text></g><g class=\"toyplot-Datum\" transform=\"translate(76.897331379737963,186.95006382832287)\"><text style=\"fill:rgb(16.1%,15.3%,14.1%);fill-opacity:1.0;font-family:helvetica;font-size:8.0px;font-weight:normal;stroke:none;vertical-align:baseline;white-space:pre\" x=\"-19.56\" y=\"2.044\">AGAGCTA</text></g><g class=\"toyplot-Datum\" transform=\"translate(66.294660660468708,230.699142572884)\"><text style=\"fill:rgb(16.1%,15.3%,14.1%);fill-opacity:1.0;font-family:helvetica;font-size:8.0px;font-weight:normal;stroke:none;vertical-align:baseline;white-space:pre\" x=\"-19.336\" y=\"2.044\">AGCTAGT</text></g><g class=\"toyplot-Datum\" transform=\"translate(372.6010878876989,138.76615340965532)\"><text style=\"fill:rgb(16.1%,15.3%,14.1%);fill-opacity:1.0;font-family:helvetica;font-size:8.0px;font-weight:normal;stroke:none;vertical-align:baseline;white-space:pre\" x=\"-19.56\" y=\"2.044\">AGGGTTA</text></g><g class=\"toyplot-Datum\" transform=\"translate(487.04241481645369,422.21300226253561)\"><text style=\"fill:rgb(16.1%,15.3%,14.1%);fill-opacity:1.0;font-family:helvetica;font-size:8.0px;font-weight:normal;stroke:none;vertical-align:baseline;white-space:pre\" x=\"-20.004\" y=\"2.044\">AGGTCGA</text></g><g class=\"toyplot-Datum\" transform=\"translate(227.14025709270845,282.14903767041511)\"><text style=\"fill:rgb(16.1%,15.3%,14.1%);fill-opacity:1.0;font-family:helvetica;font-size:8.0px;font-weight:normal;stroke:none;vertical-align:baseline;white-space:pre\" x=\"-19.116\" y=\"2.044\">AGTAAAC</text></g><g class=\"toyplot-Datum\" transform=\"translate(122.1081445942459,365.41660866865351)\"><text style=\"fill:rgb(16.1%,15.3%,14.1%);fill-opacity:1.0;font-family:helvetica;font-size:8.0px;font-weight:normal;stroke:none;vertical-align:baseline;white-space:pre\" x=\"-19.332\" y=\"2.044\">AGTCTCC</text></g><g class=\"toyplot-Datum\" transform=\"translate(463.43280990970675,339.45838516634791)\"><text style=\"fill:rgb(16.1%,15.3%,14.1%);fill-opacity:1.0;font-family:helvetica;font-size:8.0px;font-weight:normal;stroke:none;vertical-align:baseline;white-space:pre\" x=\"-18.892\" y=\"2.044\">AGTTGTA</text></g><g class=\"toyplot-Datum\" transform=\"translate(142.89898182683623,321.04942842916824)\"><text style=\"fill:rgb(16.1%,15.3%,14.1%);fill-opacity:1.0;font-family:helvetica;font-size:8.0px;font-weight:normal;stroke:none;vertical-align:baseline;white-space:pre\" x=\"-18.672\" y=\"2.044\">ATAAGTA</text></g><g class=\"toyplot-Datum\" transform=\"translate(103.29306635568747,354.71693718544782)\"><text style=\"fill:rgb(16.1%,15.3%,14.1%);fill-opacity:1.0;font-family:helvetica;font-size:8.0px;font-weight:normal;stroke:none;vertical-align:baseline;white-space:pre\" x=\"-18.672\" y=\"2.044\">ATATAAG</text></g><g class=\"toyplot-Datum\" transform=\"translate(198.20090152458266,330.45354093503749)\"><text style=\"fill:rgb(16.1%,15.3%,14.1%);fill-opacity:1.0;font-family:helvetica;font-size:8.0px;font-weight:normal;stroke:none;vertical-align:baseline;white-space:pre\" x=\"-19.116\" y=\"2.044\">ATGAATG</text></g><g class=\"toyplot-Datum\" transform=\"translate(360.66887543551047,371.14577669338166)\"><text style=\"fill:rgb(16.1%,15.3%,14.1%);fill-opacity:1.0;font-family:helvetica;font-size:8.0px;font-weight:normal;stroke:none;vertical-align:baseline;white-space:pre\" x=\"-19.78\" y=\"2.044\">ATGCGGT</text></g><g class=\"toyplot-Datum\" transform=\"translate(163.78072578451642,234.64076352228642)\"><text style=\"fill:rgb(16.1%,15.3%,14.1%);fill-opacity:1.0;font-family:helvetica;font-size:8.0px;font-weight:normal;stroke:none;vertical-align:baseline;white-space:pre\" x=\"-19.78\" y=\"2.044\">ATGGACC</text></g><g class=\"toyplot-Datum\" transform=\"translate(188.18787438228941,361.55556935325313)\"><text style=\"fill:rgb(16.1%,15.3%,14.1%);fill-opacity:1.0;font-family:helvetica;font-size:8.0px;font-weight:normal;stroke:none;vertical-align:baseline;white-space:pre\" x=\"-18.892\" y=\"2.044\">ATTGACA</text></g><g class=\"toyplot-Datum\" transform=\"translate(454.95847298930516,417.71880080884495)\"><text style=\"fill:rgb(16.1%,15.3%,14.1%);fill-opacity:1.0;font-family:helvetica;font-size:8.0px;font-weight:normal;stroke:none;vertical-align:baseline;white-space:pre\" x=\"-18.224\" y=\"2.044\">ATTTTGA</text></g><g class=\"toyplot-Datum\" transform=\"translate(96.690330066034434,195.31222367077561)\"><text style=\"fill:rgb(16.1%,15.3%,14.1%);fill-opacity:1.0;font-family:helvetica;font-size:8.0px;font-weight:normal;stroke:none;vertical-align:baseline;white-space:pre\" x=\"-19.78\" y=\"2.044\">CAGAGCT</text></g><g class=\"toyplot-Datum\" transform=\"translate(349.94996701613354,142.47185673647292)\"><text style=\"fill:rgb(16.1%,15.3%,14.1%);fill-opacity:1.0;font-family:helvetica;font-size:8.0px;font-weight:normal;stroke:none;vertical-align:baseline;white-space:pre\" x=\"-19.78\" y=\"2.044\">CAGGGTT</text></g><g class=\"toyplot-Datum\" transform=\"translate(432.10947936018556,335.82556422896931)\"><text style=\"fill:rgb(16.1%,15.3%,14.1%);fill-opacity:1.0;font-family:helvetica;font-size:8.0px;font-weight:normal;stroke:none;vertical-align:baseline;white-space:pre\" x=\"-19.112\" y=\"2.044\">CAGTTGT</text></g><g class=\"toyplot-Datum\" transform=\"translate(104.97364464113318,363.28789762698045)\"><text style=\"fill:rgb(16.1%,15.3%,14.1%);fill-opacity:1.0;font-family:helvetica;font-size:8.0px;font-weight:normal;stroke:none;vertical-align:baseline;white-space:pre\" x=\"-18.448\" y=\"2.044\">CATATAA</text></g><g class=\"toyplot-Datum\" transform=\"translate(374.78743787069601,344.63445546321458)\"><text style=\"fill:rgb(16.1%,15.3%,14.1%);fill-opacity:1.0;font-family:helvetica;font-size:8.0px;font-weight:normal;stroke:none;vertical-align:baseline;white-space:pre\" x=\"-20.224\" y=\"2.044\">CATGCGG</text></g><g class=\"toyplot-Datum\" transform=\"translate(400.36852234635006,330.59642745535973)\"><text style=\"fill:rgb(16.1%,15.3%,14.1%);fill-opacity:1.0;font-family:helvetica;font-size:8.0px;font-weight:normal;stroke:none;vertical-align:baseline;white-space:pre\" x=\"-19.556\" y=\"2.044\">CCAGTTG</text></g><g class=\"toyplot-Datum\" transform=\"translate(103.61790716415578,344.57219809467426)\"><text style=\"fill:rgb(16.1%,15.3%,14.1%);fill-opacity:1.0;font-family:helvetica;font-size:8.0px;font-weight:normal;stroke:none;vertical-align:baseline;white-space:pre\" x=\"-18.668\" y=\"2.044\">CCATATA</text></g><g class=\"toyplot-Datum\" transform=\"translate(57.504944598006745,272.14555993011123)\"><text style=\"fill:rgb(16.1%,15.3%,14.1%);fill-opacity:1.0;font-family:helvetica;font-size:8.0px;font-weight:normal;stroke:none;vertical-align:baseline;white-space:pre\" x=\"-20.444\" y=\"2.044\">CCGGCCA</text></g><g class=\"toyplot-Datum\" transform=\"translate(227.94963516878869,410.45298356092218)\"><text style=\"fill:rgb(16.1%,15.3%,14.1%);fill-opacity:1.0;font-family:helvetica;font-size:8.0px;font-weight:normal;stroke:none;vertical-align:baseline;white-space:pre\" x=\"-18.444\" y=\"2.044\">CCTTTAA</text></g><g class=\"toyplot-Datum\" transform=\"translate(451.6522664718683,462.77866305767077)\"><text style=\"fill:rgb(16.1%,15.3%,14.1%);fill-opacity:1.0;font-family:helvetica;font-size:8.0px;font-weight:normal;stroke:none;vertical-align:baseline;white-space:pre\" x=\"-18.444\" y=\"2.044\">CGATTTT</text></g><g class=\"toyplot-Datum\" transform=\"translate(50.0,295.10677937356468)\"><text style=\"fill:rgb(16.1%,15.3%,14.1%);fill-opacity:1.0;font-family:helvetica;font-size:8.0px;font-weight:normal;stroke:none;vertical-align:baseline;white-space:pre\" x=\"-20.0\" y=\"2.044\">CGGCCAT</text></g><g class=\"toyplot-Datum\" transform=\"translate(300.1536883542837,430.25493369294696)\"><text style=\"fill:rgb(16.1%,15.3%,14.1%);fill-opacity:1.0;font-family:helvetica;font-size:8.0px;font-weight:normal;stroke:none;vertical-align:baseline;white-space:pre\" x=\"-19.112\" y=\"2.044\">CGGTATT</text></g><g class=\"toyplot-Datum\" transform=\"translate(86.5030939839844,296.74581717450462)\"><text style=\"fill:rgb(16.1%,15.3%,14.1%);fill-opacity:1.0;font-family:helvetica;font-size:8.0px;font-weight:normal;stroke:none;vertical-align:baseline;white-space:pre\" x=\"-18.888\" y=\"2.044\">CTAGTCT</text></g><g class=\"toyplot-Datum\" transform=\"translate(313.36247404822632,182.17270150092463)\"><text style=\"fill:rgb(16.1%,15.3%,14.1%);fill-opacity:1.0;font-family:helvetica;font-size:8.0px;font-weight:normal;stroke:none;vertical-align:baseline;white-space:pre\" x=\"-20.224\" y=\"2.044\">CTCAGGG</text></g><g class=\"toyplot-Datum\" transform=\"translate(184.21026403504047,431.99410601716744)\"><text style=\"fill:rgb(16.1%,15.3%,14.1%);fill-opacity:1.0;font-family:helvetica;font-size:8.0px;font-weight:normal;stroke:none;vertical-align:baseline;white-space:pre\" x=\"-18.44\" y=\"2.044\">CTCCTTT</text></g><g class=\"toyplot-Datum\" transform=\"translate(245.53412298018998,382.97168614012827)\"><text style=\"fill:rgb(16.1%,15.3%,14.1%);fill-opacity:1.0;font-family:helvetica;font-size:8.0px;font-weight:normal;stroke:none;vertical-align:baseline;white-space:pre\" x=\"-18.444\" y=\"2.044\">CTTTAAC</text></g><g class=\"toyplot-Datum\" transform=\"translate(550.0,167.85942760811292)\"><text style=\"fill:rgb(16.1%,15.3%,14.1%);fill-opacity:1.0;font-family:helvetica;font-size:8.0px;font-weight:normal;stroke:none;vertical-align:baseline;white-space:pre\" x=\"-18.672\" y=\"2.044\">GAATATA</text></g><g class=\"toyplot-Datum\" transform=\"translate(189.68861576336383,284.69410165889474)\"><text style=\"fill:rgb(16.1%,15.3%,14.1%);fill-opacity:1.0;font-family:helvetica;font-size:8.0px;font-weight:normal;stroke:none;vertical-align:baseline;white-space:pre\" x=\"-19.784\" y=\"2.044\">GAATGGA</text></g><g class=\"toyplot-Datum\" transform=\"translate(129.94396565523098,251.69267529233991)\"><text style=\"fill:rgb(16.1%,15.3%,14.1%);fill-opacity:1.0;font-family:helvetica;font-size:8.0px;font-weight:normal;stroke:none;vertical-align:baseline;white-space:pre\" x=\"-20.228\" y=\"2.044\">GACAGAG</text></g><g class=\"toyplot-Datum\" transform=\"translate(415.43036077528154,314.52807028498302)\"><text style=\"fill:rgb(16.1%,15.3%,14.1%);fill-opacity:1.0;font-family:helvetica;font-size:8.0px;font-weight:normal;stroke:none;vertical-align:baseline;white-space:pre\" x=\"-19.78\" y=\"2.044\">GACATGC</text></g><g class=\"toyplot-Datum\" transform=\"translate(95.242261115931129,235.1846910413235)\"><text style=\"fill:rgb(16.1%,15.3%,14.1%);fill-opacity:1.0;font-family:helvetica;font-size:8.0px;font-weight:normal;stroke:none;vertical-align:baseline;white-space:pre\" x=\"-20.668\" y=\"2.044\">GACCGGC</text></g><g class=\"toyplot-Datum\" transform=\"translate(65.780674332768683,203.5405793252485)\"><text style=\"fill:rgb(16.1%,15.3%,14.1%);fill-opacity:1.0;font-family:helvetica;font-size:8.0px;font-weight:normal;stroke:none;vertical-align:baseline;white-space:pre\" x=\"-20.004\" y=\"2.044\">GAGCTAG</text></g><g class=\"toyplot-Datum\" transform=\"translate(199.8624588780402,347.50296903495934)\"><text style=\"fill:rgb(16.1%,15.3%,14.1%);fill-opacity:1.0;font-family:helvetica;font-size:8.0px;font-weight:normal;stroke:none;vertical-align:baseline;white-space:pre\" x=\"-19.116\" y=\"2.044\">GATGAAT</text></g><g class=\"toyplot-Datum\" transform=\"translate(455.23472268894494,442.78169296828781)\"><text style=\"fill:rgb(16.1%,15.3%,14.1%);fill-opacity:1.0;font-family:helvetica;font-size:8.0px;font-weight:normal;stroke:none;vertical-align:baseline;white-space:pre\" x=\"-18.668\" y=\"2.044\">GATTTTG</text></g><g class=\"toyplot-Datum\" transform=\"translate(85.706219148211034,329.78188023779489)\"><text style=\"fill:rgb(16.1%,15.3%,14.1%);fill-opacity:1.0;font-family:helvetica;font-size:8.0px;font-weight:normal;stroke:none;vertical-align:baseline;white-space:pre\" x=\"-19.112\" y=\"2.044\">GCCATAT</text></g><g class=\"toyplot-Datum\" transform=\"translate(325.36206405855154,418.3020417913321)\"><text style=\"fill:rgb(16.1%,15.3%,14.1%);fill-opacity:1.0;font-family:helvetica;font-size:8.0px;font-weight:normal;stroke:none;vertical-align:baseline;white-space:pre\" x=\"-19.78\" y=\"2.044\">GCGGTAT</text></g><g class=\"toyplot-Datum\" transform=\"translate(72.627275002222916,263.51268000425301)\"><text style=\"fill:rgb(16.1%,15.3%,14.1%);fill-opacity:1.0;font-family:helvetica;font-size:8.0px;font-weight:normal;stroke:none;vertical-align:baseline;white-space:pre\" x=\"-19.556\" y=\"2.044\">GCTAGTC</text></g><g class=\"toyplot-Datum\" transform=\"translate(117.32052779108152,224.54875152693)\"><text style=\"fill:rgb(16.1%,15.3%,14.1%);fill-opacity:1.0;font-family:helvetica;font-size:8.0px;font-weight:normal;stroke:none;vertical-align:baseline;white-space:pre\" x=\"-20.892\" y=\"2.044\">GGACCGG</text></g><g class=\"toyplot-Datum\" transform=\"translate(62.453076827908909,316.05223332289512)\"><text style=\"fill:rgb(16.1%,15.3%,14.1%);fill-opacity:1.0;font-family:helvetica;font-size:8.0px;font-weight:normal;stroke:none;vertical-align:baseline;white-space:pre\" x=\"-19.78\" y=\"2.044\">GGCCATA</text></g><g class=\"toyplot-Datum\" transform=\"translate(394.755163883168,145.34205083975795)\"><text style=\"fill:rgb(16.1%,15.3%,14.1%);fill-opacity:1.0;font-family:helvetica;font-size:8.0px;font-weight:normal;stroke:none;vertical-align:baseline;white-space:pre\" x=\"-19.56\" y=\"2.044\">GGGTTAA</text></g><g class=\"toyplot-Datum\" transform=\"translate(271.48750859898342,429.11625061039939)\"><text style=\"fill:rgb(16.1%,15.3%,14.1%);fill-opacity:1.0;font-family:helvetica;font-size:8.0px;font-weight:normal;stroke:none;vertical-align:baseline;white-space:pre\" x=\"-19.336\" y=\"2.044\">GGTATTG</text></g><g class=\"toyplot-Datum\" transform=\"translate(464.4057325388211,433.65855864288204)\"><text style=\"fill:rgb(16.1%,15.3%,14.1%);fill-opacity:1.0;font-family:helvetica;font-size:8.0px;font-weight:normal;stroke:none;vertical-align:baseline;white-space:pre\" x=\"-19.78\" y=\"2.044\">GGTCGAT</text></g><g class=\"toyplot-Datum\" transform=\"translate(413.05568935941574,160.72847971571503)\"><text style=\"fill:rgb(16.1%,15.3%,14.1%);fill-opacity:1.0;font-family:helvetica;font-size:8.0px;font-weight:normal;stroke:none;vertical-align:baseline;white-space:pre\" x=\"-19.116\" y=\"2.044\">GGTTAAA</text></g><g class=\"toyplot-Datum\" transform=\"translate(255.85233275469909,283.61054050956631)\"><text style=\"fill:rgb(16.1%,15.3%,14.1%);fill-opacity:1.0;font-family:helvetica;font-size:8.0px;font-weight:normal;stroke:none;vertical-align:baseline;white-space:pre\" x=\"-19.336\" y=\"2.044\">GTAAACC</text></g><g class=\"toyplot-Datum\" transform=\"translate(521.52265933867409,390.69983166099462)\"><text style=\"fill:rgb(16.1%,15.3%,14.1%);fill-opacity:1.0;font-family:helvetica;font-size:8.0px;font-weight:normal;stroke:none;vertical-align:baseline;white-space:pre\" x=\"-19.78\" y=\"2.044\">GTAGGTC</text></g><g class=\"toyplot-Datum\" transform=\"translate(242.87394024631956,415.19589633585559)\"><text style=\"fill:rgb(16.1%,15.3%,14.1%);fill-opacity:1.0;font-family:helvetica;font-size:8.0px;font-weight:normal;stroke:none;vertical-align:baseline;white-space:pre\" x=\"-18.892\" y=\"2.044\">GTATTGA</text></g><g class=\"toyplot-Datum\" transform=\"translate(442.96373274313538,445.76738988141165)\"><text style=\"fill:rgb(16.1%,15.3%,14.1%);fill-opacity:1.0;font-family:helvetica;font-size:8.0px;font-weight:normal;stroke:none;vertical-align:baseline;white-space:pre\" x=\"-19.112\" y=\"2.044\">GTCGATT</text></g><g class=\"toyplot-Datum\" transform=\"translate(142.2215996734607,394.40210999170972)\"><text style=\"fill:rgb(16.1%,15.3%,14.1%);fill-opacity:1.0;font-family:helvetica;font-size:8.0px;font-weight:normal;stroke:none;vertical-align:baseline;white-space:pre\" x=\"-19.108\" y=\"2.044\">GTCTCCT</text></g><g class=\"toyplot-Datum\" transform=\"translate(425.63569883363135,182.76301927051458)\"><text style=\"fill:rgb(16.1%,15.3%,14.1%);fill-opacity:1.0;font-family:helvetica;font-size:8.0px;font-weight:normal;stroke:none;vertical-align:baseline;white-space:pre\" x=\"-19.116\" y=\"2.044\">GTTAAAG</text></g><g class=\"toyplot-Datum\" transform=\"translate(492.69975962705087,345.52591527068029)\"><text style=\"fill:rgb(16.1%,15.3%,14.1%);fill-opacity:1.0;font-family:helvetica;font-size:8.0px;font-weight:normal;stroke:none;vertical-align:baseline;white-space:pre\" x=\"-19.336\" y=\"2.044\">GTTGTAG</text></g><g class=\"toyplot-Datum\" transform=\"translate(284.5361645348101,291.25654744878648)\"><text style=\"fill:rgb(16.1%,15.3%,14.1%);fill-opacity:1.0;font-family:helvetica;font-size:8.0px;font-weight:normal;stroke:none;vertical-align:baseline;white-space:pre\" x=\"-18.892\" y=\"2.044\">TAAACCA</text></g><g class=\"toyplot-Datum\" transform=\"translate(462.59910812908998,209.93808142340217)\"><text style=\"fill:rgb(16.1%,15.3%,14.1%);fill-opacity:1.0;font-family:helvetica;font-size:8.0px;font-weight:normal;stroke:none;vertical-align:baseline;white-space:pre\" x=\"-18.896\" y=\"2.044\">TAAAGAA</text></g><g class=\"toyplot-Datum\" transform=\"translate(279.71730137186279,278.59733598963135)\"><text style=\"fill:rgb(16.1%,15.3%,14.1%);fill-opacity:1.0;font-family:helvetica;font-size:8.0px;font-weight:normal;stroke:none;vertical-align:baseline;white-space:pre\" x=\"-18.668\" y=\"2.044\">TAACTCA</text></g><g class=\"toyplot-Datum\" transform=\"translate(168.83108554657414,303.302723086838)\"><text style=\"fill:rgb(16.1%,15.3%,14.1%);fill-opacity:1.0;font-family:helvetica;font-size:8.0px;font-weight:normal;stroke:none;vertical-align:baseline;white-space:pre\" x=\"-18.672\" y=\"2.044\">TAAGTAA</text></g><g class=\"toyplot-Datum\" transform=\"translate(506.01210027438856,407.15562716125618)\"><text style=\"fill:rgb(16.1%,15.3%,14.1%);fill-opacity:1.0;font-family:helvetica;font-size:8.0px;font-weight:normal;stroke:none;vertical-align:baseline;white-space:pre\" x=\"-19.78\" y=\"2.044\">TAGGTCG</text></g><g class=\"toyplot-Datum\" transform=\"translate(102.97041815475339,330.88282981038918)\"><text style=\"fill:rgb(16.1%,15.3%,14.1%);fill-opacity:1.0;font-family:helvetica;font-size:8.0px;font-weight:normal;stroke:none;vertical-align:baseline;white-space:pre\" x=\"-18.888\" y=\"2.044\">TAGTCTC</text></g><g class=\"toyplot-Datum\" transform=\"translate(121.76655177293624,339.25305511274451)\"><text style=\"fill:rgb(16.1%,15.3%,14.1%);fill-opacity:1.0;font-family:helvetica;font-size:8.0px;font-weight:normal;stroke:none;vertical-align:baseline;white-space:pre\" x=\"-18.448\" y=\"2.044\">TATAAGT</text></g><g class=\"toyplot-Datum\" transform=\"translate(214.40235247929365,391.36892823334938)\"><text style=\"fill:rgb(16.1%,15.3%,14.1%);fill-opacity:1.0;font-family:helvetica;font-size:8.0px;font-weight:normal;stroke:none;vertical-align:baseline;white-space:pre\" x=\"-18.668\" y=\"2.044\">TATTGAC</text></g><g class=\"toyplot-Datum\" transform=\"translate(329.84237665294108,158.4130963315738)\"><text style=\"fill:rgb(16.1%,15.3%,14.1%);fill-opacity:1.0;font-family:helvetica;font-size:8.0px;font-weight:normal;stroke:none;vertical-align:baseline;white-space:pre\" x=\"-19.78\" y=\"2.044\">TCAGGGT</text></g><g class=\"toyplot-Datum\" transform=\"translate(207.33616879371442,429.25513328621417)\"><text style=\"fill:rgb(16.1%,15.3%,14.1%);fill-opacity:1.0;font-family:helvetica;font-size:8.0px;font-weight:normal;stroke:none;vertical-align:baseline;white-space:pre\" x=\"-18.22\" y=\"2.044\">TCCTTTA</text></g><g class=\"toyplot-Datum\" transform=\"translate(437.7188261494307,462.50057935541622)\"><text style=\"fill:rgb(16.1%,15.3%,14.1%);fill-opacity:1.0;font-family:helvetica;font-size:8.0px;font-weight:normal;stroke:none;vertical-align:baseline;white-space:pre\" x=\"-18.444\" y=\"2.044\">TCGATTT</text></g><g class=\"toyplot-Datum\" transform=\"translate(165.51464846348284,415.9525860777963)\"><text style=\"fill:rgb(16.1%,15.3%,14.1%);fill-opacity:1.0;font-family:helvetica;font-size:8.0px;font-weight:normal;stroke:none;vertical-align:baseline;white-space:pre\" x=\"-18.44\" y=\"2.044\">TCTCCTT</text></g><g class=\"toyplot-Datum\" transform=\"translate(195.15002613911295,308.72055450898296)\"><text style=\"fill:rgb(16.1%,15.3%,14.1%);fill-opacity:1.0;font-family:helvetica;font-size:8.0px;font-weight:normal;stroke:none;vertical-align:baseline;white-space:pre\" x=\"-19.56\" y=\"2.044\">TGAATGG</text></g><g class=\"toyplot-Datum\" transform=\"translate(146.43311638510059,288.0486128651703)\"><text style=\"fill:rgb(16.1%,15.3%,14.1%);fill-opacity:1.0;font-family:helvetica;font-size:8.0px;font-weight:normal;stroke:none;vertical-align:baseline;white-space:pre\" x=\"-19.56\" y=\"2.044\">TGACAGA</text></g><g class=\"toyplot-Datum\" transform=\"translate(435.9266529446997,320.51806497346843)\"><text style=\"fill:rgb(16.1%,15.3%,14.1%);fill-opacity:1.0;font-family:helvetica;font-size:8.0px;font-weight:normal;stroke:none;vertical-align:baseline;white-space:pre\" x=\"-19.336\" y=\"2.044\">TGACATG</text></g><g class=\"toyplot-Datum\" transform=\"translate(345.15433389104589,396.94579348729621)\"><text style=\"fill:rgb(16.1%,15.3%,14.1%);fill-opacity:1.0;font-family:helvetica;font-size:8.0px;font-weight:normal;stroke:none;vertical-align:baseline;white-space:pre\" x=\"-19.78\" y=\"2.044\">TGCGGTA</text></g><g class=\"toyplot-Datum\" transform=\"translate(141.87977876068248,222.07041299815234)\"><text style=\"fill:rgb(16.1%,15.3%,14.1%);fill-opacity:1.0;font-family:helvetica;font-size:8.0px;font-weight:normal;stroke:none;vertical-align:baseline;white-space:pre\" x=\"-20.224\" y=\"2.044\">TGGACCG</text></g><g class=\"toyplot-Datum\" transform=\"translate(529.80241127120973,372.72998293076768)\"><text style=\"fill:rgb(16.1%,15.3%,14.1%);fill-opacity:1.0;font-family:helvetica;font-size:8.0px;font-weight:normal;stroke:none;vertical-align:baseline;white-space:pre\" x=\"-19.336\" y=\"2.044\">TGTAGGT</text></g><g class=\"toyplot-Datum\" transform=\"translate(445.38683690122235,195.49126302986227)\"><text style=\"fill:rgb(16.1%,15.3%,14.1%);fill-opacity:1.0;font-family:helvetica;font-size:8.0px;font-weight:normal;stroke:none;vertical-align:baseline;white-space:pre\" x=\"-18.672\" y=\"2.044\">TTAAAGA</text></g><g class=\"toyplot-Datum\" transform=\"translate(270.22143124879642,315.88050068545397)\"><text style=\"fill:rgb(16.1%,15.3%,14.1%);fill-opacity:1.0;font-family:helvetica;font-size:8.0px;font-weight:normal;stroke:none;vertical-align:baseline;white-space:pre\" x=\"-18.444\" y=\"2.044\">TTAACTC</text></g><g class=\"toyplot-Datum\" transform=\"translate(165.86765907380251,326.00697784514517)\"><text style=\"fill:rgb(16.1%,15.3%,14.1%);fill-opacity:1.0;font-family:helvetica;font-size:8.0px;font-weight:normal;stroke:none;vertical-align:baseline;white-space:pre\" x=\"-19.336\" y=\"2.044\">TTGACAG</text></g><g class=\"toyplot-Datum\" transform=\"translate(444.49932632671988,339.85443505732036)\"><text style=\"fill:rgb(16.1%,15.3%,14.1%);fill-opacity:1.0;font-family:helvetica;font-size:8.0px;font-weight:normal;stroke:none;vertical-align:baseline;white-space:pre\" x=\"-18.668\" y=\"2.044\">TTGACAT</text></g><g class=\"toyplot-Datum\" transform=\"translate(516.73267326862185,355.94157888659907)\"><text style=\"fill:rgb(16.1%,15.3%,14.1%);fill-opacity:1.0;font-family:helvetica;font-size:8.0px;font-weight:normal;stroke:none;vertical-align:baseline;white-space:pre\" x=\"-19.336\" y=\"2.044\">TTGTAGG</text></g><g class=\"toyplot-Datum\" transform=\"translate(259.41779257396985,350.89100710159659)\"><text style=\"fill:rgb(16.1%,15.3%,14.1%);fill-opacity:1.0;font-family:helvetica;font-size:8.0px;font-weight:normal;stroke:none;vertical-align:baseline;white-space:pre\" x=\"-18.0\" y=\"2.044\">TTTAACT</text></g><g class=\"toyplot-Datum\" transform=\"translate(450.43300528270328,365.52485687516429)\"><text style=\"fill:rgb(16.1%,15.3%,14.1%);fill-opacity:1.0;font-family:helvetica;font-size:8.0px;font-weight:normal;stroke:none;vertical-align:baseline;white-space:pre\" x=\"-18.668\" y=\"2.044\">TTTGACA</text></g><g class=\"toyplot-Datum\" transform=\"translate(453.7191938356878,391.79035330567604)\"><text style=\"fill:rgb(16.1%,15.3%,14.1%);fill-opacity:1.0;font-family:helvetica;font-size:8.0px;font-weight:normal;stroke:none;vertical-align:baseline;white-space:pre\" x=\"-18.444\" y=\"2.044\">TTTTGAC</text></g></g></g></g></g></svg><div class=\"toyplot-behavior\"><script>(function()\n",
       "{\n",
       "var modules={};\n",
       "modules[\"toyplot/tables\"] = (function()\n",
       "    {\n",
       "        var tables = [];\n",
       "\n",
       "        var module = {};\n",
       "\n",
       "        module.set = function(owner, key, names, columns)\n",
       "        {\n",
       "            tables.push({owner: owner, key: key, names: names, columns: columns});\n",
       "        }\n",
       "\n",
       "        module.get = function(owner, key)\n",
       "        {\n",
       "            for(var i = 0; i != tables.length; ++i)\n",
       "            {\n",
       "                var table = tables[i];\n",
       "                if(table.owner != owner)\n",
       "                    continue;\n",
       "                if(table.key != key)\n",
       "                    continue;\n",
       "                return {names: table.names, columns: table.columns};\n",
       "            }\n",
       "        }\n",
       "\n",
       "        module.get_csv = function(owner, key)\n",
       "        {\n",
       "            var table = module.get(owner, key);\n",
       "            if(table != undefined)\n",
       "            {\n",
       "                var csv = \"\";\n",
       "                csv += table.names.join(\",\") + \"\\n\";\n",
       "                for(var i = 0; i != table.columns[0].length; ++i)\n",
       "                {\n",
       "                  for(var j = 0; j != table.columns.length; ++j)\n",
       "                  {\n",
       "                    if(j)\n",
       "                      csv += \",\";\n",
       "                    csv += table.columns[j][i];\n",
       "                  }\n",
       "                  csv += \"\\n\";\n",
       "                }\n",
       "                return csv;\n",
       "            }\n",
       "        }\n",
       "\n",
       "        return module;\n",
       "    })();\n",
       "modules[\"toyplot/root/id\"] = \"t3c5a9703efc2420b9d93a591d3a7e227\";\n",
       "modules[\"toyplot/root\"] = (function(root_id)\n",
       "    {\n",
       "        return document.querySelector(\"#\" + root_id);\n",
       "    })(modules[\"toyplot/root/id\"]);\n",
       "modules[\"toyplot/canvas/id\"] = \"t49b7adfc5b9a4728afbab4f69229f93d\";\n",
       "modules[\"toyplot/canvas\"] = (function(canvas_id)\n",
       "    {\n",
       "        return document.querySelector(\"#\" + canvas_id);\n",
       "    })(modules[\"toyplot/canvas/id\"]);\n",
       "modules[\"toyplot/menus/context\"] = (function(root, canvas)\n",
       "    {\n",
       "        var wrapper = document.createElement(\"div\");\n",
       "        wrapper.innerHTML = \"<ul class='toyplot-context-menu' style='background:#eee; border:1px solid #b8b8b8; border-radius:5px; box-shadow: 0px 0px 8px rgba(0%,0%,0%,0.25); margin:0; padding:3px 0; position:fixed; visibility:hidden;'></ul>\"\n",
       "        var menu = wrapper.firstChild;\n",
       "\n",
       "        root.appendChild(menu);\n",
       "\n",
       "        var items = [];\n",
       "\n",
       "        var ignore_mouseup = null;\n",
       "        function open_menu(e)\n",
       "        {\n",
       "            var show_menu = false;\n",
       "            for(var index=0; index != items.length; ++index)\n",
       "            {\n",
       "                var item = items[index];\n",
       "                if(item.show(e))\n",
       "                {\n",
       "                    item.item.style.display = \"block\";\n",
       "                    show_menu = true;\n",
       "                }\n",
       "                else\n",
       "                {\n",
       "                    item.item.style.display = \"none\";\n",
       "                }\n",
       "            }\n",
       "\n",
       "            if(show_menu)\n",
       "            {\n",
       "                ignore_mouseup = true;\n",
       "                menu.style.left = (e.clientX + 1) + \"px\";\n",
       "                menu.style.top = (e.clientY - 5) + \"px\";\n",
       "                menu.style.visibility = \"visible\";\n",
       "                e.stopPropagation();\n",
       "                e.preventDefault();\n",
       "            }\n",
       "        }\n",
       "\n",
       "        function close_menu()\n",
       "        {\n",
       "            menu.style.visibility = \"hidden\";\n",
       "        }\n",
       "\n",
       "        function contextmenu(e)\n",
       "        {\n",
       "            open_menu(e);\n",
       "        }\n",
       "\n",
       "        function mousemove(e)\n",
       "        {\n",
       "            ignore_mouseup = false;\n",
       "        }\n",
       "\n",
       "        function mouseup(e)\n",
       "        {\n",
       "            if(ignore_mouseup)\n",
       "            {\n",
       "                ignore_mouseup = false;\n",
       "                return;\n",
       "            }\n",
       "            close_menu();\n",
       "        }\n",
       "\n",
       "        function keydown(e)\n",
       "        {\n",
       "            if(e.key == \"Escape\" || e.key == \"Esc\" || e.keyCode == 27)\n",
       "            {\n",
       "                close_menu();\n",
       "            }\n",
       "        }\n",
       "\n",
       "        canvas.addEventListener(\"contextmenu\", contextmenu);\n",
       "        canvas.addEventListener(\"mousemove\", mousemove);\n",
       "        document.addEventListener(\"mouseup\", mouseup);\n",
       "        document.addEventListener(\"keydown\", keydown);\n",
       "\n",
       "        var module = {};\n",
       "        module.add_item = function(label, show, activate)\n",
       "        {\n",
       "            var wrapper = document.createElement(\"div\");\n",
       "            wrapper.innerHTML = \"<li class='toyplot-context-menu-item' style='background:#eee; color:#333; padding:2px 20px; list-style:none; margin:0; text-align:left;'>\" + label + \"</li>\"\n",
       "            var item = wrapper.firstChild;\n",
       "\n",
       "            items.push({item: item, show: show});\n",
       "\n",
       "            function mouseover()\n",
       "            {\n",
       "                this.style.background = \"steelblue\";\n",
       "                this.style.color = \"white\";\n",
       "            }\n",
       "\n",
       "            function mouseout()\n",
       "            {\n",
       "                this.style.background = \"#eee\";\n",
       "                this.style.color = \"#333\";\n",
       "            }\n",
       "\n",
       "            function choose_item(e)\n",
       "            {\n",
       "                close_menu();\n",
       "                activate();\n",
       "\n",
       "                e.stopPropagation();\n",
       "                e.preventDefault();\n",
       "            }\n",
       "\n",
       "            item.addEventListener(\"mouseover\", mouseover);\n",
       "            item.addEventListener(\"mouseout\", mouseout);\n",
       "            item.addEventListener(\"mouseup\", choose_item);\n",
       "            item.addEventListener(\"contextmenu\", choose_item);\n",
       "\n",
       "            menu.appendChild(item);\n",
       "        };\n",
       "        return module;\n",
       "    })(modules[\"toyplot/root\"],modules[\"toyplot/canvas\"]);\n",
       "modules[\"toyplot/io\"] = (function()\n",
       "    {\n",
       "        var module = {};\n",
       "        module.save_file = function(mime_type, charset, data, filename)\n",
       "        {\n",
       "            var uri = \"data:\" + mime_type + \";charset=\" + charset + \",\" + data;\n",
       "            uri = encodeURI(uri);\n",
       "\n",
       "            var link = document.createElement(\"a\");\n",
       "            if(typeof link.download != \"undefined\")\n",
       "            {\n",
       "              link.href = uri;\n",
       "              link.style = \"visibility:hidden\";\n",
       "              link.download = filename;\n",
       "\n",
       "              document.body.appendChild(link);\n",
       "              link.click();\n",
       "              document.body.removeChild(link);\n",
       "            }\n",
       "            else\n",
       "            {\n",
       "              window.open(uri);\n",
       "            }\n",
       "        };\n",
       "        return module;\n",
       "    })();\n",
       "(function(tables, context_menu, io, owner_id, key, label, names, columns, filename)\n",
       "        {\n",
       "            tables.set(owner_id, key, names, columns);\n",
       "\n",
       "            var owner = document.querySelector(\"#\" + owner_id);\n",
       "            function show_item(e)\n",
       "            {\n",
       "                return owner.contains(e.target);\n",
       "            }\n",
       "\n",
       "            function choose_item()\n",
       "            {\n",
       "                io.save_file(\"text/csv\", \"utf-8\", tables.get_csv(owner_id, key), filename + \".csv\");\n",
       "            }\n",
       "\n",
       "            context_menu.add_item(\"Save \" + label + \" as CSV\", show_item, choose_item);\n",
       "        })(modules[\"toyplot/tables\"],modules[\"toyplot/menus/context\"],modules[\"toyplot/io\"],\"t9d6e10415d3a4583b53a071354d8191a\",\"vertex_data\",\"graph vertex data\",[\"x\", \"y\"],[[0.3125165317179623, 2.0132410374295144, 0.5764559447058892, 0.09068238177602028, 2.2455371813305702, -0.7891975196070168, -0.972487083918, -1.6048210989330907, 1.0862469619253172, 0.8519657837230845, -1.954533154793165, 0.1935316811951592, 2.4438057120184054, -1.9619509946010518, -2.06433568710409, 0.8935124054872056, 1.9986151081435928, -0.5111301441597547, -1.5253727652717997, 1.7706289523439627, -1.3246060402361113, -1.7070605730780362, -0.7905830385794399, 0.7782889929013591, -1.1229614743864225, -0.8872738377311203, 1.6887965157121605, -1.7708198977419798, 0.6747818510176044, 1.4681552029088039, -1.6908320684362832, 0.9146248946552753, 1.161648643414549, -1.7039237477282665, -2.1492135825015812, -0.503314384561791, 1.6568701316338443, -2.2216850819250977, 0.19392407342734902, -1.8691929455648242, 0.32147471584756865, -0.9256836330631452, -0.3335097735290507, 2.606565045515171, -0.8727819282022653, -1.449706157199199, 1.3070932900424952, -1.784803175927737, -2.06929899620853, -0.7745382095722784, 1.6914641210071424, -1.8768879676195775, 0.43734875984073635, -2.00318479509888, -1.5716043881518267, -2.1014319423623484, 1.1074432459840957, -0.08289089868615875, 1.7800239799599837, 1.2841622749099293, -0.23387197821159283, 2.331573598160757, -0.3591978287766993, 1.572969303467796, -1.3311471811728337, 1.4056411396040922, 2.0532452597490716, 0.04311345068399952, 1.7625783108869422, -0.003419902677235289, -1.0741926740568735, 2.181795880603144, -1.710176225512593, -1.5286713564378416, -0.6341337233058385, 0.48061289955040304, -0.7023683278666669, 1.5223218616088627, -1.1062178495950399, -0.8200438175168367, -1.2904786689734493, 1.5050157406005873, 0.6284728185228824, -1.3344479749041998, 2.411527024807635, 1.5963680093879653, -0.09511677494093843, -1.1028090025465125, 1.587797763299073, 2.285319096454424, -0.1994421145580383, 1.645096335649906, 1.6768294162493862], [0.21839529857068204, 1.18208597559322, 0.11465485058506901, 0.7696302856710026, 1.2963943431136082, 0.3301521889796454, 0.6372789982064452, 1.0108948073143487, 0.0010711788898300387, 0.013607323896656646, 0.6773604704426278, 1.0823214842333184, 1.401540182841959, 1.314993748633785, 0.892530758586142, 1.7802816918727895, -0.9568228763201346, 0.39570483346325563, -0.40836848710451645, -0.15770289523825695, 0.02006320018640338, -0.30504710669980234, -0.07074761462344835, -0.4636921995955577, 0.8544684948835948, -0.3710843599712488, -0.913424618837086, 1.2342445499837884, 1.744497566752864, -0.12262255893052514, -0.38781258838803445, -0.20768561937922933, -0.0721273983433587, -0.20708443108405186, 0.49230341881219175, -0.8432622527306045, -1.3485451901277543, 0.2705783974041159, -1.0344797892276334, 0.2547510284615805, 1.3611263491659629, -1.0512741072197496, -0.5778890971822603, 1.499342482160074, 0.3711284224098146, 0.6898067045298728, 0.08303669676789553, 0.8492160586573764, 1.1547874315091227, -0.2353854214159112, -1.1554444433627893, -0.06426172292933166, -0.91905668553313, 0.5756668260165951, 0.9519220112890118, 0.06831861600381826, 1.7167815366629349, -1.0234840957507847, -1.0673468944241997, 1.568202482300554, 0.3815918309244839, -0.6525159363742601, -0.8890621911506252, -1.1842758263653663, -0.6882669880184495, 1.355425945473457, -0.21629400123723744, 0.3077581629670855, 1.0930099508677036, 0.4300018416490037, 0.19143426484790566, -0.8114213298167976, -0.07489304275769922, -0.15572012552330017, -0.6589770675957437, 1.5905609825396598, -1.0248252163451887, -1.3458598747860555, -0.8963691658365411, 0.139116974339063, 0.3387355840914151, 0.025194311531803407, -0.7128300683419155, 0.975854087923833, -0.4789900875306588, 1.2325156563671344, 0.06997695226103985, -0.027809377012560546, -0.16152735111137717, -0.31687285959910805, -0.2681020118699381, -0.4094137859382781, -0.6630465589140788]],\"toyplot\");\n",
       "(function(tables, context_menu, io, owner_id, key, label, names, columns, filename)\n",
       "        {\n",
       "            tables.set(owner_id, key, names, columns);\n",
       "\n",
       "            var owner = document.querySelector(\"#\" + owner_id);\n",
       "            function show_item(e)\n",
       "            {\n",
       "                return owner.contains(e.target);\n",
       "            }\n",
       "\n",
       "            function choose_item()\n",
       "            {\n",
       "                io.save_file(\"text/csv\", \"utf-8\", tables.get_csv(owner_id, key), filename + \".csv\");\n",
       "            }\n",
       "\n",
       "            context_menu.add_item(\"Save \" + label + \" as CSV\", show_item, choose_item);\n",
       "        })(modules[\"toyplot/tables\"],modules[\"toyplot/menus/context\"],modules[\"toyplot/io\"],\"t9d6e10415d3a4583b53a071354d8191a\",\"edge_data\",\"graph edge data\",[\"source\", \"target\"],[[45, 83, 21, 35, 11, 53, 80, 46, 36, 20, 25, 69, 34, 37, 48, 60, 15, 84, 72, 19, 86, 14, 27, 38, 24, 41, 28, 64, 66, 44, 16, 12, 82, 6, 10, 51, 68, 1, 26, 17, 29, 61, 52, 13, 33, 58, 4, 5, 79, 40, 50, 22, 54, 30, 73, 65, 18, 47, 56, 70, 55, 57, 81, 74, 89, 7, 67, 75, 49, 91, 76, 0, 39, 42, 3, 31, 87, 8, 88, 90, 59, 2, 71, 32, 78, 62, 77, 63, 9, 92, 85, 23], [7, 54, 73, 42, 40, 39, 45, 8, 50, 70, 87, 3, 37, 55, 14, 67, 56, 61, 18, 66, 69, 53, 13, 57, 83, 76, 15, 78, 89, 6, 58, 43, 52, 24, 34, 33, 1, 4, 92, 60, 19, 71, 38, 48, 30, 63, 12, 17, 44, 75, 26, 79, 47, 21, 20, 85, 64, 10, 59, 5, 51, 62, 46, 25, 84, 27, 0, 28, 22, 88, 35, 2, 72, 90, 11, 23, 80, 31, 81, 86, 65, 9, 16, 29, 41, 74, 36, 77, 32, 91, 68, 82]],\"toyplot\");\n",
       "})();</script></div></div>"
      ]
     },
     "metadata": {},
     "output_type": "display_data"
    }
   ],
   "source": [
    "## plot as directed graph\n",
    "plot_debruijn_graph(edges);"
   ]
  },
  {
   "cell_type": "markdown",
   "metadata": {},
   "source": [
    "### (9) Test for a eulerian path\n",
    "When there are many repeats in a sequence then there may be multiple paths through the graph that touch each edge once. Or, if the graph is not complete, for example if there are too few kmers to complete the graph, then a full eulerian path between all kmers cannot be found. The function to find the eulerian path is a bit complicated so for now we will just import a working \n"
   ]
  },
  {
   "cell_type": "code",
   "execution_count": 18,
   "metadata": {},
   "outputs": [],
   "source": [
    "from eulerian import eulerian_path\n",
    "\n",
    "## this will raise an error if the path does not exist\n",
    "path = eulerian_path(edges)"
   ]
  },
  {
   "cell_type": "markdown",
   "metadata": {},
   "source": [
    "### Exporting function to .py files\n",
    "Follow the lecture instructions to now copy all of the functions we defined above into a new text file which you can create from your jupyter dashboard by selecting `[new]/[text file]`.\n",
    "We will then try using these functions again imported from our new python file. It is important that you name the file `debruijn.py`. "
   ]
  },
  {
   "cell_type": "markdown",
   "metadata": {},
   "source": [
    "### Imports: testing on a simple example "
   ]
  },
  {
   "cell_type": "code",
   "execution_count": 19,
   "metadata": {},
   "outputs": [],
   "source": [
    "import debruijn"
   ]
  },
  {
   "cell_type": "code",
   "execution_count": 20,
   "metadata": {},
   "outputs": [
    {
     "data": {
      "text/plain": [
       "{'AAA': 1, 'AAB': 1, 'ABB': 1, 'BBA': 1, 'BBB': 2}"
      ]
     },
     "execution_count": 20,
     "metadata": {},
     "output_type": "execute_result"
    }
   ],
   "source": [
    "target = \"AAABBBBA\"\n",
    "kmers = debruijn.get_kmers(target, 3)\n",
    "kmers"
   ]
  },
  {
   "cell_type": "code",
   "execution_count": 21,
   "metadata": {},
   "outputs": [
    {
     "data": {
      "text/plain": [
       "{('AA', 'AA'), ('AA', 'AB'), ('AB', 'BB'), ('BB', 'BA'), ('BB', 'BB')}"
      ]
     },
     "execution_count": 21,
     "metadata": {},
     "output_type": "execute_result"
    }
   ],
   "source": [
    "edges = debruijn.get_debruijn_edges(kmers)\n",
    "edges"
   ]
  },
  {
   "cell_type": "code",
   "execution_count": 26,
   "metadata": {},
   "outputs": [
    {
     "data": {
      "text/html": [
       "<div class=\"toyplot\" id=\"tcb4433b9e9af4cb1867abd5bd939d546\" style=\"text-align:center\"><svg class=\"toyplot-canvas-Canvas\" height=\"600.0px\" id=\"t287a7aa2ce95423db32e121d5bd72d67\" preserveAspectRatio=\"xMidYMid meet\" style=\"background-color:transparent;fill:rgb(16.1%,15.3%,14.1%);fill-opacity:1.0;font-family:Helvetica;font-size:12px;opacity:1.0;stroke:rgb(16.1%,15.3%,14.1%);stroke-opacity:1.0;stroke-width:1.0\" viewBox=\"0 0 600.0 600.0\" width=\"600.0px\" xmlns=\"http://www.w3.org/2000/svg\" xmlns:toyplot=\"http://www.sandia.gov/toyplot\" xmlns:xlink=\"http://www.w3.org/1999/xlink\"><g class=\"toyplot-coordinates-Cartesian\" id=\"t08ae9d1397d94e079c8b1bdeabb4d935\"><clipPath id=\"t368aacae6ee748e5adf8b518867014ad\"><rect height=\"540.0\" width=\"540.0\" x=\"30.0\" y=\"30.0\"></rect></clipPath><g clip-path=\"url(#t368aacae6ee748e5adf8b518867014ad)\"><g class=\"toyplot-mark-Graph\" id=\"t4245069288ee4c4d96d2c9e7d46e7d17\"><g class=\"toyplot-Edges\"><path d=\"M 213.758729517 242.432292619 Q 317.576279374 273.588125915 387.099646706 356.746234367\" style=\"fill:none;stroke:rgb(40%,76.1%,64.7%);stroke-opacity:1.0;stroke-width:1.0\"></path><path d=\"M 390.298047889 358.855556349 Q 485.179503179 387.332241496 548.717221735 463.334678796\" style=\"fill:none;stroke:rgb(40%,76.1%,64.7%);stroke-opacity:1.0;stroke-width:1.0\"></path><path d=\"M 50.0 135.130889738 Q 50.0 135.130889738 50.0 135.130889738\" style=\"fill:none;stroke:rgb(40%,76.1%,64.7%);stroke-opacity:1.0;stroke-width:1.0\"></path><path d=\"M 51.9156110575 135.705723867 Q 146.930544544 164.21768425 210.560281465 240.323045754\" style=\"fill:none;stroke:rgb(40%,76.1%,64.7%);stroke-opacity:1.0;stroke-width:1.0\"></path><path d=\"M 388.382463393 358.280633711 Q 388.382463393 358.280633711 388.382463393 358.280633711\" style=\"fill:none;stroke:rgb(40%,76.1%,64.7%);stroke-opacity:1.0;stroke-width:1.0\"></path><g class=\"toyplot-HeadMarkers\"></g><g class=\"toyplot-MiddleMarkers\"></g><g class=\"toyplot-TailMarkers\"><g style=\"fill:rgb(40%,76.1%,64.7%);fill-opacity:1.0;stroke:rgb(40%,76.1%,64.7%);stroke-opacity:1.0;stroke-width:1.0\" transform=\"translate(387.09964670600016, 356.74623436722453) rotate(50.103083516610241) translate(-5.0, 0)\"><polygon points=\"-5.0,5.0 0,-5.0 5.0,5.0\" transform=\"rotate(90)\"></polygon></g><g style=\"fill:rgb(40%,76.1%,64.7%);fill-opacity:1.0;stroke:rgb(40%,76.1%,64.7%);stroke-opacity:1.0;stroke-width:1.0\" transform=\"translate(548.71722173536205, 463.33467879604115) rotate(50.104518241501168) translate(-5.0, 0)\"><polygon points=\"-5.0,5.0 0,-5.0 5.0,5.0\" transform=\"rotate(90)\"></polygon></g><g style=\"fill:rgb(40%,76.1%,64.7%);fill-opacity:1.0;stroke:rgb(40%,76.1%,64.7%);stroke-opacity:1.0;stroke-width:1.0\" transform=\"translate(50.0, 135.13088973798443) translate(-5.0, 0)\"><polygon points=\"-5.0,5.0 0,-5.0 5.0,5.0\" transform=\"rotate(90)\"></polygon></g><g style=\"fill:rgb(40%,76.1%,64.7%);fill-opacity:1.0;stroke:rgb(40%,76.1%,64.7%);stroke-opacity:1.0;stroke-width:1.0\" transform=\"translate(210.56028146478201, 240.3230457543298) rotate(50.101870944893207) translate(-5.0, 0)\"><polygon points=\"-5.0,5.0 0,-5.0 5.0,5.0\" transform=\"rotate(90)\"></polygon></g><g style=\"fill:rgb(40%,76.1%,64.7%);fill-opacity:1.0;stroke:rgb(40%,76.1%,64.7%);stroke-opacity:1.0;stroke-width:1.0\" transform=\"translate(388.38246339343289, 358.28063371108652) translate(-5.0, 0)\"><polygon points=\"-5.0,5.0 0,-5.0 5.0,5.0\" transform=\"rotate(90)\"></polygon></g></g></g><g class=\"toyplot-Vertices\"><g class=\"toyplot-Datum\" style=\"fill:rgb(40%,76.1%,64.7%);fill-opacity:1.0;opacity:1.0;stroke:rgb(40%,76.1%,64.7%);stroke-opacity:1.0\" transform=\"translate(50.0, 135.13088973798443)\"><circle r=\"2.0\"></circle></g><g class=\"toyplot-Datum\" style=\"fill:rgb(40%,76.1%,64.7%);fill-opacity:1.0;opacity:1.0;stroke:rgb(40%,76.1%,64.7%);stroke-opacity:1.0\" transform=\"translate(211.84313062498677, 241.85741794912542)\"><circle r=\"2.0\"></circle></g><g class=\"toyplot-Datum\" style=\"fill:rgb(40%,76.1%,64.7%);fill-opacity:1.0;opacity:1.0;stroke:rgb(40%,76.1%,64.7%);stroke-opacity:1.0\" transform=\"translate(550.0, 464.86911026201557)\"><circle r=\"2.0\"></circle></g><g class=\"toyplot-Datum\" style=\"fill:rgb(40%,76.1%,64.7%);fill-opacity:1.0;opacity:1.0;stroke:rgb(40%,76.1%,64.7%);stroke-opacity:1.0\" transform=\"translate(388.38246339343289, 358.28063371108652)\"><circle r=\"2.0\"></circle></g></g><g class=\"toyplot-Labels\"><g class=\"toyplot-Datum\" transform=\"translate(50.0,135.13088973798443)\"><text style=\"fill:rgb(16.1%,15.3%,14.1%);fill-opacity:1.0;font-family:helvetica;font-size:8.0px;font-weight:normal;stroke:none;vertical-align:baseline;white-space:pre\" x=\"-5.336\" y=\"2.044\">AA</text></g><g class=\"toyplot-Datum\" transform=\"translate(211.84313062498677,241.85741794912542)\"><text style=\"fill:rgb(16.1%,15.3%,14.1%);fill-opacity:1.0;font-family:helvetica;font-size:8.0px;font-weight:normal;stroke:none;vertical-align:baseline;white-space:pre\" x=\"-5.336\" y=\"2.044\">AB</text></g><g class=\"toyplot-Datum\" transform=\"translate(550.0,464.86911026201557)\"><text style=\"fill:rgb(16.1%,15.3%,14.1%);fill-opacity:1.0;font-family:helvetica;font-size:8.0px;font-weight:normal;stroke:none;vertical-align:baseline;white-space:pre\" x=\"-5.336\" y=\"2.044\">BA</text></g><g class=\"toyplot-Datum\" transform=\"translate(388.38246339343289,358.28063371108652)\"><text style=\"fill:rgb(16.1%,15.3%,14.1%);fill-opacity:1.0;font-family:helvetica;font-size:8.0px;font-weight:normal;stroke:none;vertical-align:baseline;white-space:pre\" x=\"-5.336\" y=\"2.044\">BB</text></g></g></g></g></g></svg><div class=\"toyplot-behavior\"><script>(function()\n",
       "{\n",
       "var modules={};\n",
       "modules[\"toyplot/tables\"] = (function()\n",
       "    {\n",
       "        var tables = [];\n",
       "\n",
       "        var module = {};\n",
       "\n",
       "        module.set = function(owner, key, names, columns)\n",
       "        {\n",
       "            tables.push({owner: owner, key: key, names: names, columns: columns});\n",
       "        }\n",
       "\n",
       "        module.get = function(owner, key)\n",
       "        {\n",
       "            for(var i = 0; i != tables.length; ++i)\n",
       "            {\n",
       "                var table = tables[i];\n",
       "                if(table.owner != owner)\n",
       "                    continue;\n",
       "                if(table.key != key)\n",
       "                    continue;\n",
       "                return {names: table.names, columns: table.columns};\n",
       "            }\n",
       "        }\n",
       "\n",
       "        module.get_csv = function(owner, key)\n",
       "        {\n",
       "            var table = module.get(owner, key);\n",
       "            if(table != undefined)\n",
       "            {\n",
       "                var csv = \"\";\n",
       "                csv += table.names.join(\",\") + \"\\n\";\n",
       "                for(var i = 0; i != table.columns[0].length; ++i)\n",
       "                {\n",
       "                  for(var j = 0; j != table.columns.length; ++j)\n",
       "                  {\n",
       "                    if(j)\n",
       "                      csv += \",\";\n",
       "                    csv += table.columns[j][i];\n",
       "                  }\n",
       "                  csv += \"\\n\";\n",
       "                }\n",
       "                return csv;\n",
       "            }\n",
       "        }\n",
       "\n",
       "        return module;\n",
       "    })();\n",
       "modules[\"toyplot/root/id\"] = \"tcb4433b9e9af4cb1867abd5bd939d546\";\n",
       "modules[\"toyplot/root\"] = (function(root_id)\n",
       "    {\n",
       "        return document.querySelector(\"#\" + root_id);\n",
       "    })(modules[\"toyplot/root/id\"]);\n",
       "modules[\"toyplot/canvas/id\"] = \"t287a7aa2ce95423db32e121d5bd72d67\";\n",
       "modules[\"toyplot/canvas\"] = (function(canvas_id)\n",
       "    {\n",
       "        return document.querySelector(\"#\" + canvas_id);\n",
       "    })(modules[\"toyplot/canvas/id\"]);\n",
       "modules[\"toyplot/menus/context\"] = (function(root, canvas)\n",
       "    {\n",
       "        var wrapper = document.createElement(\"div\");\n",
       "        wrapper.innerHTML = \"<ul class='toyplot-context-menu' style='background:#eee; border:1px solid #b8b8b8; border-radius:5px; box-shadow: 0px 0px 8px rgba(0%,0%,0%,0.25); margin:0; padding:3px 0; position:fixed; visibility:hidden;'></ul>\"\n",
       "        var menu = wrapper.firstChild;\n",
       "\n",
       "        root.appendChild(menu);\n",
       "\n",
       "        var items = [];\n",
       "\n",
       "        var ignore_mouseup = null;\n",
       "        function open_menu(e)\n",
       "        {\n",
       "            var show_menu = false;\n",
       "            for(var index=0; index != items.length; ++index)\n",
       "            {\n",
       "                var item = items[index];\n",
       "                if(item.show(e))\n",
       "                {\n",
       "                    item.item.style.display = \"block\";\n",
       "                    show_menu = true;\n",
       "                }\n",
       "                else\n",
       "                {\n",
       "                    item.item.style.display = \"none\";\n",
       "                }\n",
       "            }\n",
       "\n",
       "            if(show_menu)\n",
       "            {\n",
       "                ignore_mouseup = true;\n",
       "                menu.style.left = (e.clientX + 1) + \"px\";\n",
       "                menu.style.top = (e.clientY - 5) + \"px\";\n",
       "                menu.style.visibility = \"visible\";\n",
       "                e.stopPropagation();\n",
       "                e.preventDefault();\n",
       "            }\n",
       "        }\n",
       "\n",
       "        function close_menu()\n",
       "        {\n",
       "            menu.style.visibility = \"hidden\";\n",
       "        }\n",
       "\n",
       "        function contextmenu(e)\n",
       "        {\n",
       "            open_menu(e);\n",
       "        }\n",
       "\n",
       "        function mousemove(e)\n",
       "        {\n",
       "            ignore_mouseup = false;\n",
       "        }\n",
       "\n",
       "        function mouseup(e)\n",
       "        {\n",
       "            if(ignore_mouseup)\n",
       "            {\n",
       "                ignore_mouseup = false;\n",
       "                return;\n",
       "            }\n",
       "            close_menu();\n",
       "        }\n",
       "\n",
       "        function keydown(e)\n",
       "        {\n",
       "            if(e.key == \"Escape\" || e.key == \"Esc\" || e.keyCode == 27)\n",
       "            {\n",
       "                close_menu();\n",
       "            }\n",
       "        }\n",
       "\n",
       "        canvas.addEventListener(\"contextmenu\", contextmenu);\n",
       "        canvas.addEventListener(\"mousemove\", mousemove);\n",
       "        document.addEventListener(\"mouseup\", mouseup);\n",
       "        document.addEventListener(\"keydown\", keydown);\n",
       "\n",
       "        var module = {};\n",
       "        module.add_item = function(label, show, activate)\n",
       "        {\n",
       "            var wrapper = document.createElement(\"div\");\n",
       "            wrapper.innerHTML = \"<li class='toyplot-context-menu-item' style='background:#eee; color:#333; padding:2px 20px; list-style:none; margin:0; text-align:left;'>\" + label + \"</li>\"\n",
       "            var item = wrapper.firstChild;\n",
       "\n",
       "            items.push({item: item, show: show});\n",
       "\n",
       "            function mouseover()\n",
       "            {\n",
       "                this.style.background = \"steelblue\";\n",
       "                this.style.color = \"white\";\n",
       "            }\n",
       "\n",
       "            function mouseout()\n",
       "            {\n",
       "                this.style.background = \"#eee\";\n",
       "                this.style.color = \"#333\";\n",
       "            }\n",
       "\n",
       "            function choose_item(e)\n",
       "            {\n",
       "                close_menu();\n",
       "                activate();\n",
       "\n",
       "                e.stopPropagation();\n",
       "                e.preventDefault();\n",
       "            }\n",
       "\n",
       "            item.addEventListener(\"mouseover\", mouseover);\n",
       "            item.addEventListener(\"mouseout\", mouseout);\n",
       "            item.addEventListener(\"mouseup\", choose_item);\n",
       "            item.addEventListener(\"contextmenu\", choose_item);\n",
       "\n",
       "            menu.appendChild(item);\n",
       "        };\n",
       "        return module;\n",
       "    })(modules[\"toyplot/root\"],modules[\"toyplot/canvas\"]);\n",
       "modules[\"toyplot/io\"] = (function()\n",
       "    {\n",
       "        var module = {};\n",
       "        module.save_file = function(mime_type, charset, data, filename)\n",
       "        {\n",
       "            var uri = \"data:\" + mime_type + \";charset=\" + charset + \",\" + data;\n",
       "            uri = encodeURI(uri);\n",
       "\n",
       "            var link = document.createElement(\"a\");\n",
       "            if(typeof link.download != \"undefined\")\n",
       "            {\n",
       "              link.href = uri;\n",
       "              link.style = \"visibility:hidden\";\n",
       "              link.download = filename;\n",
       "\n",
       "              document.body.appendChild(link);\n",
       "              link.click();\n",
       "              document.body.removeChild(link);\n",
       "            }\n",
       "            else\n",
       "            {\n",
       "              window.open(uri);\n",
       "            }\n",
       "        };\n",
       "        return module;\n",
       "    })();\n",
       "(function(tables, context_menu, io, owner_id, key, label, names, columns, filename)\n",
       "        {\n",
       "            tables.set(owner_id, key, names, columns);\n",
       "\n",
       "            var owner = document.querySelector(\"#\" + owner_id);\n",
       "            function show_item(e)\n",
       "            {\n",
       "                return owner.contains(e.target);\n",
       "            }\n",
       "\n",
       "            function choose_item()\n",
       "            {\n",
       "                io.save_file(\"text/csv\", \"utf-8\", tables.get_csv(owner_id, key), filename + \".csv\");\n",
       "            }\n",
       "\n",
       "            context_menu.add_item(\"Save \" + label + \" as CSV\", show_item, choose_item);\n",
       "        })(modules[\"toyplot/tables\"],modules[\"toyplot/menus/context\"],modules[\"toyplot/io\"],\"t4245069288ee4c4d96d2c9e7d46e7d17\",\"vertex_data\",\"graph vertex data\",[\"x\", \"y\"],[[-0.9347518348679761, -0.42733652043590553, 0.6328627820533407, 0.12615475658279962], [0.8473697463062038, 0.512757615032104, -0.18643516219598769, 0.14774414547723505]],\"toyplot\");\n",
       "(function(tables, context_menu, io, owner_id, key, label, names, columns, filename)\n",
       "        {\n",
       "            tables.set(owner_id, key, names, columns);\n",
       "\n",
       "            var owner = document.querySelector(\"#\" + owner_id);\n",
       "            function show_item(e)\n",
       "            {\n",
       "                return owner.contains(e.target);\n",
       "            }\n",
       "\n",
       "            function choose_item()\n",
       "            {\n",
       "                io.save_file(\"text/csv\", \"utf-8\", tables.get_csv(owner_id, key), filename + \".csv\");\n",
       "            }\n",
       "\n",
       "            context_menu.add_item(\"Save \" + label + \" as CSV\", show_item, choose_item);\n",
       "        })(modules[\"toyplot/tables\"],modules[\"toyplot/menus/context\"],modules[\"toyplot/io\"],\"t4245069288ee4c4d96d2c9e7d46e7d17\",\"edge_data\",\"graph edge data\",[\"source\", \"target\"],[[1, 3, 0, 0, 3], [3, 2, 0, 1, 3]],\"toyplot\");\n",
       "})();</script></div></div>"
      ]
     },
     "metadata": {},
     "output_type": "display_data"
    }
   ],
   "source": [
    "plot_debruijn_graph(edges);"
   ]
  },
  {
   "cell_type": "markdown",
   "metadata": {},
   "source": [
    "### Repeats can create ambiguity in the de Bruijn graph\n",
    "The de Bruijn graph represents a path to contructing the full genome by walking the path along directed edges to each node. This includes cylic walks along repeated elements (e.g., AA to AA) although such moves do not appear super clearly in plots we've generated. Repeat elements are particularly troubling for de bruijn graphs because they create ambiguity where there can be more than one way to walk across all edges of the graph. Let's test assembling a large sequence by decomposing kmers of different size from a different depth of 50 bp reads. "
   ]
  },
  {
   "cell_type": "code",
   "execution_count": 13,
   "metadata": {},
   "outputs": [],
   "source": [
    "import debruijn\n",
    "import eulerian\n",
    "import random\n",
    "\n",
    "random.seed(123)\n",
    "target = debruijn.random_sequence(500)"
   ]
  },
  {
   "cell_type": "code",
   "execution_count": 19,
   "metadata": {},
   "outputs": [],
   "source": [
    "## a dictionary to store our results\n",
    "results = {}\n",
    "\n",
    "## iterate over kmer sizes\n",
    "for kmersize in [10, 30, 100]:\n",
    "    for nreads in [50, 100, 500, 1000]:\n",
    "        \n",
    "        ## store zero starting value\n",
    "        name = (kmersize, nreads)\n",
    "        results[name] = 0\n",
    "        \n",
    "        ## test over multiple replicates\n",
    "        for replicate in range(10):\n",
    "            \n",
    "            ## call funcs\n",
    "            reads = debruijn.get_reads(target, nreads=nreads, rlen=50)\n",
    "            kmers = debruijn.reads_to_kmers(reads, kmersize)\n",
    "            edges = debruijn.get_debruijn_edges(kmers)\n",
    "            \n",
    "            ## test for eulerian walk\n",
    "            try:\n",
    "                path = eulerian.eulerian_path(edges)\n",
    "                results[name] += 1\n",
    "                   \n",
    "            except Exception:\n",
    "                pass\n",
    "                        "
   ]
  },
  {
   "cell_type": "code",
   "execution_count": 20,
   "metadata": {},
   "outputs": [
    {
     "data": {
      "text/plain": [
       "{(10, 50): 6,\n",
       " (10, 100): 10,\n",
       " (10, 500): 10,\n",
       " (10, 1000): 10,\n",
       " (30, 50): 0,\n",
       " (30, 100): 7,\n",
       " (30, 500): 10,\n",
       " (30, 1000): 10,\n",
       " (100, 50): 0,\n",
       " (100, 100): 0,\n",
       " (100, 500): 0,\n",
       " (100, 1000): 0}"
      ]
     },
     "execution_count": 20,
     "metadata": {},
     "output_type": "execute_result"
    }
   ],
   "source": [
    "## show results\n",
    "results"
   ]
  },
  {
   "cell_type": "markdown",
   "metadata": {},
   "source": [
    "### How does kmer size affect the results?\n",
    "\n",
    "https://en.wikipedia.org/wiki/K-mer"
   ]
  }
 ],
 "metadata": {
  "kernelspec": {
   "display_name": "Python 3",
   "language": "python",
   "name": "python3"
  },
  "language_info": {
   "codemirror_mode": {
    "name": "ipython",
    "version": 3
   },
   "file_extension": ".py",
   "mimetype": "text/x-python",
   "name": "python",
   "nbconvert_exporter": "python",
   "pygments_lexer": "ipython3",
   "version": "3.5.4"
  }
 },
 "nbformat": 4,
 "nbformat_minor": 2
}

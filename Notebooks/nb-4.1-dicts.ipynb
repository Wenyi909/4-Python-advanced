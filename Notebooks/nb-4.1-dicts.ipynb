{
 "cells": [
  {
   "cell_type": "markdown",
   "metadata": {},
   "source": [
    "## Dictionaries"
   ]
  },
  {
   "cell_type": "markdown",
   "metadata": {},
   "source": [
    "Dictionaries are one of the most useful objects in Python. They provide mapping between (key,value) pairs.  They are super fast and efficient while also being very flexible for storing different types of data, and of various sizes. Once you master dictionaries you'll find yourself using them all the time.  "
   ]
  },
  {
   "cell_type": "markdown",
   "metadata": {},
   "source": [
    "### Working with dictionaries\n",
    "A common use case for dictionaries is for storing data when you do not know what type of labels might arise, or how many of them in total there will be in a data set. For this, a common implementation is to use a dictionary with strings for the keys and a list or integer counter for the values. This way new observed labels can be stored as dictionary keys, and values matching to those labels can be appended to the values list or increment counter. Below are  examples.   "
   ]
  },
  {
   "cell_type": "markdown",
   "metadata": {},
   "source": [
    "### An example\n",
    "Let's create a histogram by sampling how many times a value is sampled from a normal distribution. Here, we don't know exactly which values are going to be sampled, so it is useful that we can create new dictionary keys as we continue sampling random values. The simple conditional statement asks `if key in dict` to know whether the key has already been added, if not, then a starting value is created in the `else` clause. This syntax is very commonly used. Here we create a simple counter by storing 1 the first time the key is obseverd and incrementing the value by one each time it is observed subsequently. "
   ]
  },
  {
   "cell_type": "code",
   "execution_count": 216,
   "metadata": {},
   "outputs": [],
   "source": [
    "## create an empty dictionary and fill it as we iterate over 2000 values\n",
    "hist = dict()\n",
    "for item in range(2000):\n",
    "    key = int(random.normalvariate(50, 2))\n",
    "    if key in hist:\n",
    "        hist[key] += 1\n",
    "    else:\n",
    "        hist[key] = 1"
   ]
  },
  {
   "cell_type": "code",
   "execution_count": 217,
   "metadata": {},
   "outputs": [
    {
     "data": {
      "text/plain": [
       "{43: 1,\n",
       " 44: 7,\n",
       " 45: 36,\n",
       " 46: 92,\n",
       " 47: 202,\n",
       " 48: 293,\n",
       " 49: 380,\n",
       " 50: 365,\n",
       " 51: 309,\n",
       " 52: 167,\n",
       " 53: 88,\n",
       " 54: 41,\n",
       " 55: 13,\n",
       " 56: 4,\n",
       " 57: 1,\n",
       " 58: 1}"
      ]
     },
     "execution_count": 217,
     "metadata": {},
     "output_type": "execute_result"
    }
   ],
   "source": [
    "hist"
   ]
  },
  {
   "cell_type": "markdown",
   "metadata": {},
   "source": [
    "### Another example\n",
    "You're a spy and you've bugged a foreign embassy. You've written a program to record the phone number for all incoming calls and you want to also store the times at which the calls are made. You could store this information in a number of ways, but a dictionary would likely be the most efficient. This is for the same reasons as above, we do not know how many unique callers there will be (keys of the dictionary), and we want to use a flexible data type to store the values since some callers may make many calls (we can use a list as the dictionary value). \n",
    "\n",
    "Here we are also introduced to the `datetime` package from the standard library, which is a great tool for dealing with dates and times. \n",
    "\n"
   ]
  },
  {
   "cell_type": "code",
   "execution_count": 218,
   "metadata": {},
   "outputs": [],
   "source": [
    "import datetime   # used to convert time and dates\n",
    "import random     # generate random stuff"
   ]
  },
  {
   "cell_type": "code",
   "execution_count": 219,
   "metadata": {},
   "outputs": [
    {
     "data": {
      "text/plain": [
       "'09/20/2013 08:30 AM'"
      ]
     },
     "execution_count": 219,
     "metadata": {},
     "output_type": "execute_result"
    }
   ],
   "source": [
    "# example: the datetime package formats date and time from integers to strings\n",
    "startDate = datetime.datetime(2013, 9, 20, 8, 30)\n",
    "startDate.strftime(\"%m/%d/%Y %I:%M %p\")"
   ]
  },
  {
   "cell_type": "markdown",
   "metadata": {},
   "source": [
    "Before we go through all the work of breaking into the embassy and bugging it, however, it's probably best to test out our code and make sure it works. The function below simulates data like we expect to observe. It will return a dictionary with a string of randomly generated numbers as the phone numbers, and a list of formatted strings for the date and time of the phone calls. Notice that we first create an empty dictionary that we plan to fill. Then we iterate over each caller and generate a random number of calls. Then we store the calls in the dictionary by appending subsequent calls to a list as the value for the dictionary. "
   ]
  },
  {
   "cell_type": "code",
   "execution_count": 220,
   "metadata": {},
   "outputs": [],
   "source": [
    "\n",
    "def generate_random_call_dict():\n",
    "    \"This func simulates call data and stores it in a dictionary\"\n",
    "    \n",
    "    ## a dictionary for storing calls as {phone-number: [time[0], time[1], ...]}\n",
    "    calldict = {}\n",
    "    \n",
    "    ## number of callers\n",
    "    ncallers = random.randint(1, 15)\n",
    "    for caller in range(ncallers):\n",
    "\n",
    "        ## start date for recording calls\n",
    "        start_date = datetime.datetime(2018, 2, 1, 8)\n",
    "        calltime = start_date\n",
    "        \n",
    "        ## generate random phone number for caller\n",
    "        phone_number = \"\".join([str(random.randint(0, 9)) for i in range(10)])\n",
    "        \n",
    "        ## number of times this caller called\n",
    "        ncalls = random.randint(1, 10)\n",
    "        for call in range(ncalls):\n",
    "            \n",
    "            ## get time of the call and convert to str\n",
    "            calltime += datetime.timedelta(minutes=random.randint(0, 5000))\n",
    "            callstr = calltime.strftime(\"%m/%d/%Y %I:%M %p\")\n",
    "            \n",
    "            ## store caller and time to dictionary\n",
    "            if phone_number in calldict:\n",
    "                calldict[phone_number].append(callstr)\n",
    "            else:\n",
    "                calldict[phone_number] = [callstr]\n",
    "    return calldict\n"
   ]
  },
  {
   "cell_type": "markdown",
   "metadata": {},
   "source": [
    "#### Testing the function\n",
    "We can see in the examples below that a dictionary is an efficient way to store these data since we do not need to know how many phone callers there will be ahead of time, and we can append to the list of times infinitely to store information for how ever many times a caller calls. "
   ]
  },
  {
   "cell_type": "code",
   "execution_count": 221,
   "metadata": {},
   "outputs": [
    {
     "data": {
      "text/plain": [
       "{'4164106885': ['02/01/2018 03:05 PM',\n",
       "  '02/02/2018 12:52 PM',\n",
       "  '02/03/2018 07:18 AM',\n",
       "  '02/05/2018 05:20 AM',\n",
       "  '02/08/2018 09:55 AM',\n",
       "  '02/10/2018 07:29 AM']}"
      ]
     },
     "execution_count": 221,
     "metadata": {},
     "output_type": "execute_result"
    }
   ],
   "source": [
    "## in this case there is only one caller\n",
    "random.seed(123)\n",
    "generate_random_call_dict()"
   ]
  },
  {
   "cell_type": "code",
   "execution_count": 222,
   "metadata": {},
   "outputs": [
    {
     "data": {
      "text/plain": [
       "{'0143476124': ['02/02/2018 07:03 PM'],\n",
       " '1328862584': ['02/01/2018 12:06 PM', '02/03/2018 03:08 AM'],\n",
       " '2405739925': ['02/01/2018 08:45 PM'],\n",
       " '5624201599': ['02/03/2018 02:02 AM',\n",
       "  '02/05/2018 02:39 AM',\n",
       "  '02/06/2018 11:55 PM',\n",
       "  '02/08/2018 03:19 PM',\n",
       "  '02/09/2018 09:32 PM',\n",
       "  '02/11/2018 03:19 PM'],\n",
       " '7011893310': ['02/03/2018 10:54 AM',\n",
       "  '02/06/2018 07:43 PM',\n",
       "  '02/09/2018 06:01 PM',\n",
       "  '02/12/2018 03:35 PM',\n",
       "  '02/14/2018 10:55 AM',\n",
       "  '02/16/2018 03:43 PM',\n",
       "  '02/17/2018 05:41 PM',\n",
       "  '02/17/2018 11:20 PM'],\n",
       " '7102666595': ['02/04/2018 06:35 AM', '02/04/2018 07:05 PM'],\n",
       " '7394334479': ['02/02/2018 05:52 AM', '02/02/2018 02:54 PM'],\n",
       " '8064972403': ['02/03/2018 06:14 AM',\n",
       "  '02/05/2018 07:33 PM',\n",
       "  '02/07/2018 01:02 AM',\n",
       "  '02/08/2018 10:52 PM']}"
      ]
     },
     "execution_count": 222,
     "metadata": {},
     "output_type": "execute_result"
    }
   ],
   "source": [
    "## in this case there are 8 callers with different numbers of calls\n",
    "random.seed(54321)\n",
    "generate_random_call_dict()"
   ]
  },
  {
   "cell_type": "markdown",
   "metadata": {},
   "source": [
    "### Dictionaries for labeled values\n",
    "The most useful purpose for dictionaries is the clear case where you have many values stored with different labels. An example of this that we are likely to encounter in biological data is information that we measure on individuals, populations, or species. We will eventually learn to use objects called DataFrames for storing data in labeled rows and columns, which is the way that most R users are familiar with accessing data. A dictionary is like a single row or column of a dataframe. Dictionaries are a powerful first tool for parsing data and formatting it before you later put it into a DataFrame like object for statistical analyses. "
   ]
  },
  {
   "cell_type": "markdown",
   "metadata": {},
   "source": [
    "Here we will create a dictionary by combining information from several sorted lists. "
   ]
  },
  {
   "cell_type": "code",
   "execution_count": 223,
   "metadata": {},
   "outputs": [],
   "source": [
    "## sorted lists of names and data\n",
    "individuals = ['sample-1', 'sample-2', 'sample-3', 'sample-4']\n",
    "trait1 = [56, 76, 22, 21]\n",
    "trait2 = ['green', 'green', 'red', 'red']\n",
    "trait3 = ['angry', 'docile', 'angry', 'docile']\n",
    "\n",
    "## organize into a dictionary\n",
    "datadict = {}\n",
    "for i in range(4):\n",
    "    datadict[individuals[i]] = [trait1[i], trait2[i], trait3[i]]"
   ]
  },
  {
   "cell_type": "code",
   "execution_count": 224,
   "metadata": {},
   "outputs": [
    {
     "data": {
      "text/plain": [
       "{'sample-1': [56, 'green', 'angry'],\n",
       " 'sample-2': [76, 'green', 'docile'],\n",
       " 'sample-3': [22, 'red', 'angry'],\n",
       " 'sample-4': [21, 'red', 'docile']}"
      ]
     },
     "execution_count": 224,
     "metadata": {},
     "output_type": "execute_result"
    }
   ],
   "source": [
    "## show the dictionary data\n",
    "datadict"
   ]
  },
  {
   "cell_type": "code",
   "execution_count": 225,
   "metadata": {},
   "outputs": [
    {
     "name": "stdout",
     "output_type": "stream",
     "text": [
      "('sample-1', [56, 'green', 'angry'])\n",
      "('sample-3', [22, 'red', 'angry'])\n",
      "('sample-2', [76, 'green', 'docile'])\n",
      "('sample-4', [21, 'red', 'docile'])\n"
     ]
    }
   ],
   "source": [
    "## .items() returns key,val pairs as tuples\n",
    "for item in datadict.items():\n",
    "    print(item)"
   ]
  },
  {
   "cell_type": "code",
   "execution_count": 226,
   "metadata": {},
   "outputs": [
    {
     "name": "stdout",
     "output_type": "stream",
     "text": [
      "sample-1\n",
      "sample-3\n",
      "sample-2\n",
      "sample-4\n"
     ]
    }
   ],
   "source": [
    "## .keys() returns just the keys\n",
    "for key in datadict.keys():\n",
    "    print(key)"
   ]
  },
  {
   "cell_type": "code",
   "execution_count": 227,
   "metadata": {},
   "outputs": [
    {
     "name": "stdout",
     "output_type": "stream",
     "text": [
      "[56, 'green', 'angry']\n",
      "[22, 'red', 'angry']\n",
      "[76, 'green', 'docile']\n",
      "[21, 'red', 'docile']\n"
     ]
    }
   ],
   "source": [
    "## .values returns just the values\n",
    "for val in datadict.values():\n",
    "    print(val)"
   ]
  },
  {
   "cell_type": "markdown",
   "metadata": {},
   "source": [
    "### list comprehension\n",
    "Just as with lists, you can create dictionaries using `list comprehension`. This is simply a more efficient way to write code sometimes as opposed to writing a for-loop. "
   ]
  },
  {
   "cell_type": "code",
   "execution_count": 228,
   "metadata": {},
   "outputs": [
    {
     "data": {
      "text/plain": [
       "{'a': 1, 'b': 2, 'c': 3}"
      ]
     },
     "execution_count": 228,
     "metadata": {},
     "output_type": "execute_result"
    }
   ],
   "source": [
    "## this statement constructs a dictionary from a tuple of tuples\n",
    "ddict = {i:j for i, j in (('a', 1), ('b', 2), ('c', 3))}\n",
    "ddict"
   ]
  },
  {
   "cell_type": "code",
   "execution_count": 232,
   "metadata": {},
   "outputs": [
    {
     "data": {
      "text/plain": [
       "{'sample-1': 56, 'sample-2': 76, 'sample-3': 22, 'sample-4': 21}"
      ]
     },
     "execution_count": 232,
     "metadata": {},
     "output_type": "execute_result"
    }
   ],
   "source": [
    "## this statement uses 'zip' to combine two lists into a similar format\n",
    "ddict = {i:j for i,j in zip(individuals, trait1)}\n",
    "ddict"
   ]
  },
  {
   "cell_type": "markdown",
   "metadata": {},
   "source": [
    "### Sets\n",
    "Sets are a type of Python container object that contains `hashed` elements (more on this below), which can be quickly compared to calculate the unique elements in the container, and to compare how many elements are shared between different containers. Sets are created using the command `set()`. "
   ]
  },
  {
   "cell_type": "code",
   "execution_count": 239,
   "metadata": {},
   "outputs": [
    {
     "data": {
      "text/plain": [
       "{'A', 'C', 'G', 'T'}"
      ]
     },
     "execution_count": 239,
     "metadata": {},
     "output_type": "execute_result"
    }
   ],
   "source": [
    "s1 = set(\"ACTGAAGACGGG\")\n",
    "s1"
   ]
  },
  {
   "cell_type": "code",
   "execution_count": 240,
   "metadata": {},
   "outputs": [
    {
     "data": {
      "text/plain": [
       "{'apple', 'banana', 'orange'}"
      ]
     },
     "execution_count": 240,
     "metadata": {},
     "output_type": "execute_result"
    }
   ],
   "source": [
    "s2 = set(['apple', 'apple', 'banana', 'orange'])\n",
    "s2"
   ]
  },
  {
   "cell_type": "code",
   "execution_count": 242,
   "metadata": {},
   "outputs": [],
   "source": [
    "s3 = set([\"AAA\", \"AA\", \"A\"])\n",
    "s4 = set([\"AAA\", \"BB\", \"C\"])"
   ]
  },
  {
   "cell_type": "code",
   "execution_count": 243,
   "metadata": {},
   "outputs": [
    {
     "data": {
      "text/plain": [
       "{'A', 'AA', 'AAA', 'BB', 'C'}"
      ]
     },
     "execution_count": 243,
     "metadata": {},
     "output_type": "execute_result"
    }
   ],
   "source": [
    "## union joins the two sets\n",
    "s3.union(s4)"
   ]
  },
  {
   "cell_type": "code",
   "execution_count": 245,
   "metadata": {},
   "outputs": [
    {
     "data": {
      "text/plain": [
       "{'AAA'}"
      ]
     },
     "execution_count": 245,
     "metadata": {},
     "output_type": "execute_result"
    }
   ],
   "source": [
    "## intersection returns the overlapping elements\n",
    "s3.intersection(s4)"
   ]
  },
  {
   "cell_type": "code",
   "execution_count": 247,
   "metadata": {},
   "outputs": [
    {
     "data": {
      "text/plain": [
       "{'A', 'AA'}"
      ]
     },
     "execution_count": 247,
     "metadata": {},
     "output_type": "execute_result"
    }
   ],
   "source": [
    "## difference returns elements in i not in j\n",
    "s3.difference(s4)"
   ]
  },
  {
   "cell_type": "code",
   "execution_count": 248,
   "metadata": {},
   "outputs": [
    {
     "data": {
      "text/plain": [
       "{'BB', 'C'}"
      ]
     },
     "execution_count": 248,
     "metadata": {},
     "output_type": "execute_result"
    }
   ],
   "source": [
    "## difference in the other direction\n",
    "s4.difference(s3)"
   ]
  },
  {
   "cell_type": "markdown",
   "metadata": {},
   "source": [
    "### Hashtables"
   ]
  },
  {
   "cell_type": "markdown",
   "metadata": {},
   "source": [
    "There was an optional link in the Dictionary chapter of your reading this week that goes into a lot of detail about something called `hashtables`. The details of this are fascinating, but fairly dense reading, and I would say that it is not fully necessary to understand hashtables in order to understand Python programming. Nevertheless, a cursory understanding of the concept of hashing can be useful for understanding why Python `set` and `dictionary` objects are so fast. \n",
    "\n",
    "The main concept is that they store elements as a `hashed` value for lookup. This simply means that they use the function `hash()` to convert the element to an integer. This makes it easy to compare whether two elements are the same by simply asking whether the integer is the same. \n"
   ]
  },
  {
   "cell_type": "code",
   "execution_count": 255,
   "metadata": {},
   "outputs": [
    {
     "data": {
      "text/plain": [
       "2545215669115175584"
      ]
     },
     "execution_count": 255,
     "metadata": {},
     "output_type": "execute_result"
    }
   ],
   "source": [
    "# hash converts an object to an int\n",
    "hash(\"this string here\")"
   ]
  },
  {
   "cell_type": "code",
   "execution_count": 257,
   "metadata": {},
   "outputs": [
    {
     "data": {
      "text/plain": [
       "4653600355737258842"
      ]
     },
     "execution_count": 257,
     "metadata": {},
     "output_type": "execute_result"
    }
   ],
   "source": [
    "# every object will have a unique int\n",
    "hash(\"this string too\")"
   ]
  },
  {
   "cell_type": "code",
   "execution_count": 258,
   "metadata": {},
   "outputs": [
    {
     "data": {
      "text/plain": [
       "True"
      ]
     },
     "execution_count": 258,
     "metadata": {},
     "output_type": "execute_result"
    }
   ],
   "source": [
    "# objects that are the same have the same hash value\n",
    "x = \"this string too\"\n",
    "y = \"this string too\"\n",
    "hash(x) == hash(y)"
   ]
  },
  {
   "cell_type": "markdown",
   "metadata": {},
   "source": [
    "### Searching hashed values is ~5 orders of magnitude faster than searching a list\n",
    "Below we compare the time it takes to search for a single value (the integer 650,000) in a list versus dictionary. Because the dictionary key values are hashed the time to lookup the match is significantly faster. For this reason, no matter how big a dictionary gets the time it takes to find and return a (key, value) pair does not increase significantly. A list, on the other hand, is not efficient to search as it grows very large. \n",
    "\n",
    "\n",
    "Below we use the `%%timeit` magic command to calculate how long different commands take to run. "
   ]
  },
  {
   "cell_type": "code",
   "execution_count": 262,
   "metadata": {},
   "outputs": [],
   "source": [
    "## searching for a number in a list\n",
    "long_list_of_numbers = list(range(int(1e6)))"
   ]
  },
  {
   "cell_type": "code",
   "execution_count": 263,
   "metadata": {},
   "outputs": [
    {
     "name": "stdout",
     "output_type": "stream",
     "text": [
      "8.44 ms ± 92.5 µs per loop (mean ± std. dev. of 7 runs, 100 loops each)\n"
     ]
    }
   ],
   "source": [
    "%%timeit\n",
    "## ask if some number is in the list\n",
    "650000 in long_list_of_numbers"
   ]
  },
  {
   "cell_type": "code",
   "execution_count": 264,
   "metadata": {},
   "outputs": [],
   "source": [
    "## dictionary keys \n",
    "import random\n",
    "big_dictionary = {i: random.randint(0, 5) for i in range(int(1e6))}"
   ]
  },
  {
   "cell_type": "code",
   "execution_count": 265,
   "metadata": {},
   "outputs": [
    {
     "name": "stdout",
     "output_type": "stream",
     "text": [
      "101 ns ± 5.06 ns per loop (mean ± std. dev. of 7 runs, 10000000 loops each)\n"
     ]
    }
   ],
   "source": [
    "%%timeit\n",
    "## ask if some number is in the dictionary keys\n",
    "big_dictionary.get(6500000)"
   ]
  },
  {
   "cell_type": "markdown",
   "metadata": {},
   "source": [
    "### Limitations on hashing\n",
    "This comes with some limitations, though. Unlike lists, the keys of a dictionary must be unique, you cannot have repeated values. This is because dictionary keys are just like the elements in a `set` object, they are unique hashed values. Only immutable objects can be hashed, since otherwise when you mutated the object the hash would need to be changed as well. For this reason, `lists` are not hashable, but `strings` and `tuples` are. "
   ]
  },
  {
   "cell_type": "markdown",
   "metadata": {},
   "source": [
    "### Hash tables in genomics"
   ]
  },
  {
   "cell_type": "markdown",
   "metadata": {},
   "source": [
    "Interestingly, hashtables are big deal in genomics since they allow us to very quickly compare a number of strings (like DNA) and ask whether they are identical or not. Most programs for mapping reads to genome use methods of hashing to make the process super fast. We'll try an example of this in the next notebook. "
   ]
  }
 ],
 "metadata": {
  "kernelspec": {
   "display_name": "Python 3",
   "language": "python",
   "name": "python3"
  },
  "language_info": {
   "codemirror_mode": {
    "name": "ipython",
    "version": 3
   },
   "file_extension": ".py",
   "mimetype": "text/x-python",
   "name": "python",
   "nbconvert_exporter": "python",
   "pygments_lexer": "ipython3",
   "version": "3.5.4"
  }
 },
 "nbformat": 4,
 "nbformat_minor": 2
}
